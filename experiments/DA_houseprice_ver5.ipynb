{
  "nbformat": 4,
  "nbformat_minor": 0,
  "metadata": {
    "accelerator": "GPU",
    "colab": {
      "name": "DA_houseprice_ver5",
      "provenance": [],
      "collapsed_sections": [],
      "toc_visible": true,
      "include_colab_link": true
    },
    "kernelspec": {
      "display_name": "Python 3",
      "name": "python3"
    },
    "language_info": {
      "name": "python"
    }
  },
  "cells": [
    {
      "cell_type": "markdown",
      "metadata": {
        "id": "view-in-github",
        "colab_type": "text"
      },
      "source": [
        "<a href=\"https://colab.research.google.com/github/vlozg/houseprice_predict/blob/main/DA_houseprice_ver5.ipynb\" target=\"_parent\"><img src=\"https://colab.research.google.com/assets/colab-badge.svg\" alt=\"Open In Colab\"/></a>"
      ]
    },
    {
      "cell_type": "markdown",
      "metadata": {
        "id": "2ePJ1BvgAfN8"
      },
      "source": [
        "# Phiên bản này thêm các feature mới bằng cách cộng một số feature với nhau"
      ]
    },
    {
      "cell_type": "markdown",
      "metadata": {
        "id": "TrOoG3O7j3ns"
      },
      "source": [
        "# Tải dữ liệu."
      ]
    },
    {
      "cell_type": "code",
      "metadata": {
        "colab": {
          "base_uri": "https://localhost:8080/"
        },
        "id": "6RG6Hvc0xbFq",
        "outputId": "7388bd7d-d9fb-4232-c61d-a889abb80eee"
      },
      "source": [
        "#personal url https://drive.google.com/file/d/1Xn-aobJLKAq9APYOIENj4kYpk7Ox0NQH/view?usp=sharing\n",
        "!gdown --id 1Xn-aobJLKAq9APYOIENj4kYpk7Ox0NQH\n",
        "# -o để force overwrite\n",
        "!unzip -o house-prices-advanced-regression-techniques.zip"
      ],
      "execution_count": null,
      "outputs": [
        {
          "output_type": "stream",
          "text": [
            "Downloading...\n",
            "From: https://drive.google.com/uc?id=1Xn-aobJLKAq9APYOIENj4kYpk7Ox0NQH\n",
            "To: /content/house-prices-advanced-regression-techniques.zip\n",
            "\r  0% 0.00/204k [00:00<?, ?B/s]\r100% 204k/204k [00:00<00:00, 13.7MB/s]\n",
            "Archive:  house-prices-advanced-regression-techniques.zip\n",
            "  inflating: data_description.txt    \n",
            "  inflating: sample_submission.csv   \n",
            "  inflating: test.csv                \n",
            "  inflating: train.csv               \n"
          ],
          "name": "stdout"
        }
      ]
    },
    {
      "cell_type": "code",
      "metadata": {
        "colab": {
          "base_uri": "https://localhost:8080/"
        },
        "id": "8hRWUoZL8Y2S",
        "outputId": "91fdf1f7-f458-43cd-8853-9ebab342d667"
      },
      "source": [
        "# Tải kết quả tập test\n",
        "# Personal url https://drive.google.com/file/d/12LFeaeW9QJpEJPUAGxEipEh7h9rY66HU/view?usp=sharing\n",
        "!gdown --id 12LFeaeW9QJpEJPUAGxEipEh7h9rY66HU"
      ],
      "execution_count": null,
      "outputs": [
        {
          "output_type": "stream",
          "text": [
            "Downloading...\n",
            "From: https://drive.google.com/uc?id=12LFeaeW9QJpEJPUAGxEipEh7h9rY66HU\n",
            "To: /content/test_result.csv\n",
            "\r  0% 0.00/17.4k [00:00<?, ?B/s]\r100% 17.4k/17.4k [00:00<00:00, 15.6MB/s]\n"
          ],
          "name": "stdout"
        }
      ]
    },
    {
      "cell_type": "markdown",
      "metadata": {
        "id": "-T2YlZ5Kj5sB"
      },
      "source": [
        "# Import thư viện và các thiết lập cần thiết"
      ]
    },
    {
      "cell_type": "code",
      "metadata": {
        "cellView": "form",
        "id": "4xbIbaiXaSDk"
      },
      "source": [
        "#@title Supress scikit-learn warning\n",
        "def warn(*args, **kwargs):\n",
        "    pass\n",
        "import warnings\n",
        "warnings.warn = warn"
      ],
      "execution_count": null,
      "outputs": []
    },
    {
      "cell_type": "code",
      "metadata": {
        "id": "dIJ5s8BXxfqI"
      },
      "source": [
        "import pandas as pd\n",
        "import numpy as np\n",
        "import seaborn as sns\n",
        "import matplotlib.pyplot as plt\n",
        "\n",
        "from scipy.stats import skew\n",
        "from scipy.stats.stats import pearsonr\n",
        "from sklearn.metrics import mean_squared_log_error, make_scorer\n",
        "\n",
        "# Tiền xử lý\n",
        "from sklearn.preprocessing import OneHotEncoder, MultiLabelBinarizer\n",
        "from sklearn.impute import SimpleImputer\n",
        "from sklearn.model_selection import train_test_split\n",
        "from sklearn.preprocessing import FunctionTransformer, StandardScaler\n",
        "\n",
        "# Pipeline\n",
        "from sklearn.base import BaseEstimator, TransformerMixin\n",
        "from sklearn.pipeline import Pipeline, make_pipeline\n",
        "from sklearn.compose import ColumnTransformer, make_column_transformer\n",
        "\n",
        "# Thư viện scikit-learn cho học máy\n",
        "from sklearn.metrics import plot_confusion_matrix\n",
        "from sklearn.model_selection import cross_val_score\n",
        "\n",
        "# Các mô hình máy học tuyến tính\n",
        "from sklearn.linear_model import LinearRegression\n",
        "from sklearn.linear_model import Ridge, RidgeCV, LassoCV, LassoLarsCV, Lasso\n",
        "\n",
        "# Mô hình phi tuyến\n",
        "from sklearn.neural_network import MLPRegressor\n",
        "from sklearn.svm import SVR\n",
        "from sklearn.ensemble import GradientBoostingRegressor, StackingRegressor, VotingRegressor\n",
        "\n",
        "from sklearn.model_selection import GridSearchCV\n",
        "\n",
        "# Mô hình xgb\n",
        "import xgboost as xgb\n",
        "\n",
        "%config InlineBackend.figure_format = 'retina' #set 'png' here when working on notebook\n",
        "%matplotlib inline\n",
        "np.random.seed(1)"
      ],
      "execution_count": null,
      "outputs": []
    },
    {
      "cell_type": "markdown",
      "metadata": {
        "id": "uZuViZ67kj_F"
      },
      "source": [
        "# 1.Khám phá dữ liệu"
      ]
    },
    {
      "cell_type": "markdown",
      "metadata": {
        "id": "DbAwbPk2ONEl"
      },
      "source": [
        "## 1.1 Kích thước các tập"
      ]
    },
    {
      "cell_type": "markdown",
      "metadata": {
        "id": "njrR1DUs82tb"
      },
      "source": [
        "###1.1.1 Tập train"
      ]
    },
    {
      "cell_type": "code",
      "metadata": {
        "colab": {
          "base_uri": "https://localhost:8080/",
          "height": 255
        },
        "id": "GpPkvO4jxg-6",
        "outputId": "b4a9561d-3a6b-4aa6-ac2f-4f473910987f"
      },
      "source": [
        "data_df = pd.read_csv('train.csv', index_col=0)\n",
        "data_df.head()"
      ],
      "execution_count": null,
      "outputs": [
        {
          "output_type": "execute_result",
          "data": {
            "text/html": [
              "<div>\n",
              "<style scoped>\n",
              "    .dataframe tbody tr th:only-of-type {\n",
              "        vertical-align: middle;\n",
              "    }\n",
              "\n",
              "    .dataframe tbody tr th {\n",
              "        vertical-align: top;\n",
              "    }\n",
              "\n",
              "    .dataframe thead th {\n",
              "        text-align: right;\n",
              "    }\n",
              "</style>\n",
              "<table border=\"1\" class=\"dataframe\">\n",
              "  <thead>\n",
              "    <tr style=\"text-align: right;\">\n",
              "      <th></th>\n",
              "      <th>MSSubClass</th>\n",
              "      <th>MSZoning</th>\n",
              "      <th>LotFrontage</th>\n",
              "      <th>LotArea</th>\n",
              "      <th>Street</th>\n",
              "      <th>Alley</th>\n",
              "      <th>LotShape</th>\n",
              "      <th>LandContour</th>\n",
              "      <th>Utilities</th>\n",
              "      <th>LotConfig</th>\n",
              "      <th>LandSlope</th>\n",
              "      <th>Neighborhood</th>\n",
              "      <th>Condition1</th>\n",
              "      <th>Condition2</th>\n",
              "      <th>BldgType</th>\n",
              "      <th>HouseStyle</th>\n",
              "      <th>OverallQual</th>\n",
              "      <th>OverallCond</th>\n",
              "      <th>YearBuilt</th>\n",
              "      <th>YearRemodAdd</th>\n",
              "      <th>RoofStyle</th>\n",
              "      <th>RoofMatl</th>\n",
              "      <th>Exterior1st</th>\n",
              "      <th>Exterior2nd</th>\n",
              "      <th>MasVnrType</th>\n",
              "      <th>MasVnrArea</th>\n",
              "      <th>ExterQual</th>\n",
              "      <th>ExterCond</th>\n",
              "      <th>Foundation</th>\n",
              "      <th>BsmtQual</th>\n",
              "      <th>BsmtCond</th>\n",
              "      <th>BsmtExposure</th>\n",
              "      <th>BsmtFinType1</th>\n",
              "      <th>BsmtFinSF1</th>\n",
              "      <th>BsmtFinType2</th>\n",
              "      <th>BsmtFinSF2</th>\n",
              "      <th>BsmtUnfSF</th>\n",
              "      <th>TotalBsmtSF</th>\n",
              "      <th>Heating</th>\n",
              "      <th>HeatingQC</th>\n",
              "      <th>CentralAir</th>\n",
              "      <th>Electrical</th>\n",
              "      <th>1stFlrSF</th>\n",
              "      <th>2ndFlrSF</th>\n",
              "      <th>LowQualFinSF</th>\n",
              "      <th>GrLivArea</th>\n",
              "      <th>BsmtFullBath</th>\n",
              "      <th>BsmtHalfBath</th>\n",
              "      <th>FullBath</th>\n",
              "      <th>HalfBath</th>\n",
              "      <th>BedroomAbvGr</th>\n",
              "      <th>KitchenAbvGr</th>\n",
              "      <th>KitchenQual</th>\n",
              "      <th>TotRmsAbvGrd</th>\n",
              "      <th>Functional</th>\n",
              "      <th>Fireplaces</th>\n",
              "      <th>FireplaceQu</th>\n",
              "      <th>GarageType</th>\n",
              "      <th>GarageYrBlt</th>\n",
              "      <th>GarageFinish</th>\n",
              "      <th>GarageCars</th>\n",
              "      <th>GarageArea</th>\n",
              "      <th>GarageQual</th>\n",
              "      <th>GarageCond</th>\n",
              "      <th>PavedDrive</th>\n",
              "      <th>WoodDeckSF</th>\n",
              "      <th>OpenPorchSF</th>\n",
              "      <th>EnclosedPorch</th>\n",
              "      <th>3SsnPorch</th>\n",
              "      <th>ScreenPorch</th>\n",
              "      <th>PoolArea</th>\n",
              "      <th>PoolQC</th>\n",
              "      <th>Fence</th>\n",
              "      <th>MiscFeature</th>\n",
              "      <th>MiscVal</th>\n",
              "      <th>MoSold</th>\n",
              "      <th>YrSold</th>\n",
              "      <th>SaleType</th>\n",
              "      <th>SaleCondition</th>\n",
              "      <th>SalePrice</th>\n",
              "    </tr>\n",
              "    <tr>\n",
              "      <th>Id</th>\n",
              "      <th></th>\n",
              "      <th></th>\n",
              "      <th></th>\n",
              "      <th></th>\n",
              "      <th></th>\n",
              "      <th></th>\n",
              "      <th></th>\n",
              "      <th></th>\n",
              "      <th></th>\n",
              "      <th></th>\n",
              "      <th></th>\n",
              "      <th></th>\n",
              "      <th></th>\n",
              "      <th></th>\n",
              "      <th></th>\n",
              "      <th></th>\n",
              "      <th></th>\n",
              "      <th></th>\n",
              "      <th></th>\n",
              "      <th></th>\n",
              "      <th></th>\n",
              "      <th></th>\n",
              "      <th></th>\n",
              "      <th></th>\n",
              "      <th></th>\n",
              "      <th></th>\n",
              "      <th></th>\n",
              "      <th></th>\n",
              "      <th></th>\n",
              "      <th></th>\n",
              "      <th></th>\n",
              "      <th></th>\n",
              "      <th></th>\n",
              "      <th></th>\n",
              "      <th></th>\n",
              "      <th></th>\n",
              "      <th></th>\n",
              "      <th></th>\n",
              "      <th></th>\n",
              "      <th></th>\n",
              "      <th></th>\n",
              "      <th></th>\n",
              "      <th></th>\n",
              "      <th></th>\n",
              "      <th></th>\n",
              "      <th></th>\n",
              "      <th></th>\n",
              "      <th></th>\n",
              "      <th></th>\n",
              "      <th></th>\n",
              "      <th></th>\n",
              "      <th></th>\n",
              "      <th></th>\n",
              "      <th></th>\n",
              "      <th></th>\n",
              "      <th></th>\n",
              "      <th></th>\n",
              "      <th></th>\n",
              "      <th></th>\n",
              "      <th></th>\n",
              "      <th></th>\n",
              "      <th></th>\n",
              "      <th></th>\n",
              "      <th></th>\n",
              "      <th></th>\n",
              "      <th></th>\n",
              "      <th></th>\n",
              "      <th></th>\n",
              "      <th></th>\n",
              "      <th></th>\n",
              "      <th></th>\n",
              "      <th></th>\n",
              "      <th></th>\n",
              "      <th></th>\n",
              "      <th></th>\n",
              "      <th></th>\n",
              "      <th></th>\n",
              "      <th></th>\n",
              "      <th></th>\n",
              "      <th></th>\n",
              "    </tr>\n",
              "  </thead>\n",
              "  <tbody>\n",
              "    <tr>\n",
              "      <th>1</th>\n",
              "      <td>60</td>\n",
              "      <td>RL</td>\n",
              "      <td>65.0</td>\n",
              "      <td>8450</td>\n",
              "      <td>Pave</td>\n",
              "      <td>NaN</td>\n",
              "      <td>Reg</td>\n",
              "      <td>Lvl</td>\n",
              "      <td>AllPub</td>\n",
              "      <td>Inside</td>\n",
              "      <td>Gtl</td>\n",
              "      <td>CollgCr</td>\n",
              "      <td>Norm</td>\n",
              "      <td>Norm</td>\n",
              "      <td>1Fam</td>\n",
              "      <td>2Story</td>\n",
              "      <td>7</td>\n",
              "      <td>5</td>\n",
              "      <td>2003</td>\n",
              "      <td>2003</td>\n",
              "      <td>Gable</td>\n",
              "      <td>CompShg</td>\n",
              "      <td>VinylSd</td>\n",
              "      <td>VinylSd</td>\n",
              "      <td>BrkFace</td>\n",
              "      <td>196.0</td>\n",
              "      <td>Gd</td>\n",
              "      <td>TA</td>\n",
              "      <td>PConc</td>\n",
              "      <td>Gd</td>\n",
              "      <td>TA</td>\n",
              "      <td>No</td>\n",
              "      <td>GLQ</td>\n",
              "      <td>706</td>\n",
              "      <td>Unf</td>\n",
              "      <td>0</td>\n",
              "      <td>150</td>\n",
              "      <td>856</td>\n",
              "      <td>GasA</td>\n",
              "      <td>Ex</td>\n",
              "      <td>Y</td>\n",
              "      <td>SBrkr</td>\n",
              "      <td>856</td>\n",
              "      <td>854</td>\n",
              "      <td>0</td>\n",
              "      <td>1710</td>\n",
              "      <td>1</td>\n",
              "      <td>0</td>\n",
              "      <td>2</td>\n",
              "      <td>1</td>\n",
              "      <td>3</td>\n",
              "      <td>1</td>\n",
              "      <td>Gd</td>\n",
              "      <td>8</td>\n",
              "      <td>Typ</td>\n",
              "      <td>0</td>\n",
              "      <td>NaN</td>\n",
              "      <td>Attchd</td>\n",
              "      <td>2003.0</td>\n",
              "      <td>RFn</td>\n",
              "      <td>2</td>\n",
              "      <td>548</td>\n",
              "      <td>TA</td>\n",
              "      <td>TA</td>\n",
              "      <td>Y</td>\n",
              "      <td>0</td>\n",
              "      <td>61</td>\n",
              "      <td>0</td>\n",
              "      <td>0</td>\n",
              "      <td>0</td>\n",
              "      <td>0</td>\n",
              "      <td>NaN</td>\n",
              "      <td>NaN</td>\n",
              "      <td>NaN</td>\n",
              "      <td>0</td>\n",
              "      <td>2</td>\n",
              "      <td>2008</td>\n",
              "      <td>WD</td>\n",
              "      <td>Normal</td>\n",
              "      <td>208500</td>\n",
              "    </tr>\n",
              "    <tr>\n",
              "      <th>2</th>\n",
              "      <td>20</td>\n",
              "      <td>RL</td>\n",
              "      <td>80.0</td>\n",
              "      <td>9600</td>\n",
              "      <td>Pave</td>\n",
              "      <td>NaN</td>\n",
              "      <td>Reg</td>\n",
              "      <td>Lvl</td>\n",
              "      <td>AllPub</td>\n",
              "      <td>FR2</td>\n",
              "      <td>Gtl</td>\n",
              "      <td>Veenker</td>\n",
              "      <td>Feedr</td>\n",
              "      <td>Norm</td>\n",
              "      <td>1Fam</td>\n",
              "      <td>1Story</td>\n",
              "      <td>6</td>\n",
              "      <td>8</td>\n",
              "      <td>1976</td>\n",
              "      <td>1976</td>\n",
              "      <td>Gable</td>\n",
              "      <td>CompShg</td>\n",
              "      <td>MetalSd</td>\n",
              "      <td>MetalSd</td>\n",
              "      <td>None</td>\n",
              "      <td>0.0</td>\n",
              "      <td>TA</td>\n",
              "      <td>TA</td>\n",
              "      <td>CBlock</td>\n",
              "      <td>Gd</td>\n",
              "      <td>TA</td>\n",
              "      <td>Gd</td>\n",
              "      <td>ALQ</td>\n",
              "      <td>978</td>\n",
              "      <td>Unf</td>\n",
              "      <td>0</td>\n",
              "      <td>284</td>\n",
              "      <td>1262</td>\n",
              "      <td>GasA</td>\n",
              "      <td>Ex</td>\n",
              "      <td>Y</td>\n",
              "      <td>SBrkr</td>\n",
              "      <td>1262</td>\n",
              "      <td>0</td>\n",
              "      <td>0</td>\n",
              "      <td>1262</td>\n",
              "      <td>0</td>\n",
              "      <td>1</td>\n",
              "      <td>2</td>\n",
              "      <td>0</td>\n",
              "      <td>3</td>\n",
              "      <td>1</td>\n",
              "      <td>TA</td>\n",
              "      <td>6</td>\n",
              "      <td>Typ</td>\n",
              "      <td>1</td>\n",
              "      <td>TA</td>\n",
              "      <td>Attchd</td>\n",
              "      <td>1976.0</td>\n",
              "      <td>RFn</td>\n",
              "      <td>2</td>\n",
              "      <td>460</td>\n",
              "      <td>TA</td>\n",
              "      <td>TA</td>\n",
              "      <td>Y</td>\n",
              "      <td>298</td>\n",
              "      <td>0</td>\n",
              "      <td>0</td>\n",
              "      <td>0</td>\n",
              "      <td>0</td>\n",
              "      <td>0</td>\n",
              "      <td>NaN</td>\n",
              "      <td>NaN</td>\n",
              "      <td>NaN</td>\n",
              "      <td>0</td>\n",
              "      <td>5</td>\n",
              "      <td>2007</td>\n",
              "      <td>WD</td>\n",
              "      <td>Normal</td>\n",
              "      <td>181500</td>\n",
              "    </tr>\n",
              "    <tr>\n",
              "      <th>3</th>\n",
              "      <td>60</td>\n",
              "      <td>RL</td>\n",
              "      <td>68.0</td>\n",
              "      <td>11250</td>\n",
              "      <td>Pave</td>\n",
              "      <td>NaN</td>\n",
              "      <td>IR1</td>\n",
              "      <td>Lvl</td>\n",
              "      <td>AllPub</td>\n",
              "      <td>Inside</td>\n",
              "      <td>Gtl</td>\n",
              "      <td>CollgCr</td>\n",
              "      <td>Norm</td>\n",
              "      <td>Norm</td>\n",
              "      <td>1Fam</td>\n",
              "      <td>2Story</td>\n",
              "      <td>7</td>\n",
              "      <td>5</td>\n",
              "      <td>2001</td>\n",
              "      <td>2002</td>\n",
              "      <td>Gable</td>\n",
              "      <td>CompShg</td>\n",
              "      <td>VinylSd</td>\n",
              "      <td>VinylSd</td>\n",
              "      <td>BrkFace</td>\n",
              "      <td>162.0</td>\n",
              "      <td>Gd</td>\n",
              "      <td>TA</td>\n",
              "      <td>PConc</td>\n",
              "      <td>Gd</td>\n",
              "      <td>TA</td>\n",
              "      <td>Mn</td>\n",
              "      <td>GLQ</td>\n",
              "      <td>486</td>\n",
              "      <td>Unf</td>\n",
              "      <td>0</td>\n",
              "      <td>434</td>\n",
              "      <td>920</td>\n",
              "      <td>GasA</td>\n",
              "      <td>Ex</td>\n",
              "      <td>Y</td>\n",
              "      <td>SBrkr</td>\n",
              "      <td>920</td>\n",
              "      <td>866</td>\n",
              "      <td>0</td>\n",
              "      <td>1786</td>\n",
              "      <td>1</td>\n",
              "      <td>0</td>\n",
              "      <td>2</td>\n",
              "      <td>1</td>\n",
              "      <td>3</td>\n",
              "      <td>1</td>\n",
              "      <td>Gd</td>\n",
              "      <td>6</td>\n",
              "      <td>Typ</td>\n",
              "      <td>1</td>\n",
              "      <td>TA</td>\n",
              "      <td>Attchd</td>\n",
              "      <td>2001.0</td>\n",
              "      <td>RFn</td>\n",
              "      <td>2</td>\n",
              "      <td>608</td>\n",
              "      <td>TA</td>\n",
              "      <td>TA</td>\n",
              "      <td>Y</td>\n",
              "      <td>0</td>\n",
              "      <td>42</td>\n",
              "      <td>0</td>\n",
              "      <td>0</td>\n",
              "      <td>0</td>\n",
              "      <td>0</td>\n",
              "      <td>NaN</td>\n",
              "      <td>NaN</td>\n",
              "      <td>NaN</td>\n",
              "      <td>0</td>\n",
              "      <td>9</td>\n",
              "      <td>2008</td>\n",
              "      <td>WD</td>\n",
              "      <td>Normal</td>\n",
              "      <td>223500</td>\n",
              "    </tr>\n",
              "    <tr>\n",
              "      <th>4</th>\n",
              "      <td>70</td>\n",
              "      <td>RL</td>\n",
              "      <td>60.0</td>\n",
              "      <td>9550</td>\n",
              "      <td>Pave</td>\n",
              "      <td>NaN</td>\n",
              "      <td>IR1</td>\n",
              "      <td>Lvl</td>\n",
              "      <td>AllPub</td>\n",
              "      <td>Corner</td>\n",
              "      <td>Gtl</td>\n",
              "      <td>Crawfor</td>\n",
              "      <td>Norm</td>\n",
              "      <td>Norm</td>\n",
              "      <td>1Fam</td>\n",
              "      <td>2Story</td>\n",
              "      <td>7</td>\n",
              "      <td>5</td>\n",
              "      <td>1915</td>\n",
              "      <td>1970</td>\n",
              "      <td>Gable</td>\n",
              "      <td>CompShg</td>\n",
              "      <td>Wd Sdng</td>\n",
              "      <td>Wd Shng</td>\n",
              "      <td>None</td>\n",
              "      <td>0.0</td>\n",
              "      <td>TA</td>\n",
              "      <td>TA</td>\n",
              "      <td>BrkTil</td>\n",
              "      <td>TA</td>\n",
              "      <td>Gd</td>\n",
              "      <td>No</td>\n",
              "      <td>ALQ</td>\n",
              "      <td>216</td>\n",
              "      <td>Unf</td>\n",
              "      <td>0</td>\n",
              "      <td>540</td>\n",
              "      <td>756</td>\n",
              "      <td>GasA</td>\n",
              "      <td>Gd</td>\n",
              "      <td>Y</td>\n",
              "      <td>SBrkr</td>\n",
              "      <td>961</td>\n",
              "      <td>756</td>\n",
              "      <td>0</td>\n",
              "      <td>1717</td>\n",
              "      <td>1</td>\n",
              "      <td>0</td>\n",
              "      <td>1</td>\n",
              "      <td>0</td>\n",
              "      <td>3</td>\n",
              "      <td>1</td>\n",
              "      <td>Gd</td>\n",
              "      <td>7</td>\n",
              "      <td>Typ</td>\n",
              "      <td>1</td>\n",
              "      <td>Gd</td>\n",
              "      <td>Detchd</td>\n",
              "      <td>1998.0</td>\n",
              "      <td>Unf</td>\n",
              "      <td>3</td>\n",
              "      <td>642</td>\n",
              "      <td>TA</td>\n",
              "      <td>TA</td>\n",
              "      <td>Y</td>\n",
              "      <td>0</td>\n",
              "      <td>35</td>\n",
              "      <td>272</td>\n",
              "      <td>0</td>\n",
              "      <td>0</td>\n",
              "      <td>0</td>\n",
              "      <td>NaN</td>\n",
              "      <td>NaN</td>\n",
              "      <td>NaN</td>\n",
              "      <td>0</td>\n",
              "      <td>2</td>\n",
              "      <td>2006</td>\n",
              "      <td>WD</td>\n",
              "      <td>Abnorml</td>\n",
              "      <td>140000</td>\n",
              "    </tr>\n",
              "    <tr>\n",
              "      <th>5</th>\n",
              "      <td>60</td>\n",
              "      <td>RL</td>\n",
              "      <td>84.0</td>\n",
              "      <td>14260</td>\n",
              "      <td>Pave</td>\n",
              "      <td>NaN</td>\n",
              "      <td>IR1</td>\n",
              "      <td>Lvl</td>\n",
              "      <td>AllPub</td>\n",
              "      <td>FR2</td>\n",
              "      <td>Gtl</td>\n",
              "      <td>NoRidge</td>\n",
              "      <td>Norm</td>\n",
              "      <td>Norm</td>\n",
              "      <td>1Fam</td>\n",
              "      <td>2Story</td>\n",
              "      <td>8</td>\n",
              "      <td>5</td>\n",
              "      <td>2000</td>\n",
              "      <td>2000</td>\n",
              "      <td>Gable</td>\n",
              "      <td>CompShg</td>\n",
              "      <td>VinylSd</td>\n",
              "      <td>VinylSd</td>\n",
              "      <td>BrkFace</td>\n",
              "      <td>350.0</td>\n",
              "      <td>Gd</td>\n",
              "      <td>TA</td>\n",
              "      <td>PConc</td>\n",
              "      <td>Gd</td>\n",
              "      <td>TA</td>\n",
              "      <td>Av</td>\n",
              "      <td>GLQ</td>\n",
              "      <td>655</td>\n",
              "      <td>Unf</td>\n",
              "      <td>0</td>\n",
              "      <td>490</td>\n",
              "      <td>1145</td>\n",
              "      <td>GasA</td>\n",
              "      <td>Ex</td>\n",
              "      <td>Y</td>\n",
              "      <td>SBrkr</td>\n",
              "      <td>1145</td>\n",
              "      <td>1053</td>\n",
              "      <td>0</td>\n",
              "      <td>2198</td>\n",
              "      <td>1</td>\n",
              "      <td>0</td>\n",
              "      <td>2</td>\n",
              "      <td>1</td>\n",
              "      <td>4</td>\n",
              "      <td>1</td>\n",
              "      <td>Gd</td>\n",
              "      <td>9</td>\n",
              "      <td>Typ</td>\n",
              "      <td>1</td>\n",
              "      <td>TA</td>\n",
              "      <td>Attchd</td>\n",
              "      <td>2000.0</td>\n",
              "      <td>RFn</td>\n",
              "      <td>3</td>\n",
              "      <td>836</td>\n",
              "      <td>TA</td>\n",
              "      <td>TA</td>\n",
              "      <td>Y</td>\n",
              "      <td>192</td>\n",
              "      <td>84</td>\n",
              "      <td>0</td>\n",
              "      <td>0</td>\n",
              "      <td>0</td>\n",
              "      <td>0</td>\n",
              "      <td>NaN</td>\n",
              "      <td>NaN</td>\n",
              "      <td>NaN</td>\n",
              "      <td>0</td>\n",
              "      <td>12</td>\n",
              "      <td>2008</td>\n",
              "      <td>WD</td>\n",
              "      <td>Normal</td>\n",
              "      <td>250000</td>\n",
              "    </tr>\n",
              "  </tbody>\n",
              "</table>\n",
              "</div>"
            ],
            "text/plain": [
              "    MSSubClass MSZoning  LotFrontage  ...  SaleType SaleCondition SalePrice\n",
              "Id                                    ...                                  \n",
              "1           60       RL         65.0  ...        WD        Normal    208500\n",
              "2           20       RL         80.0  ...        WD        Normal    181500\n",
              "3           60       RL         68.0  ...        WD        Normal    223500\n",
              "4           70       RL         60.0  ...        WD       Abnorml    140000\n",
              "5           60       RL         84.0  ...        WD        Normal    250000\n",
              "\n",
              "[5 rows x 80 columns]"
            ]
          },
          "metadata": {
            "tags": []
          },
          "execution_count": 5
        }
      ]
    },
    {
      "cell_type": "markdown",
      "metadata": {
        "id": "777A0b4uMV7o"
      },
      "source": [
        "Trong phần này nhóm khám phá sơ bộ dữ liệu để xác định các vấn đề có thể gặp phải, cũng như có thể xác hiểu rõ hơn về bài toán sẽ giải quyết."
      ]
    },
    {
      "cell_type": "markdown",
      "metadata": {
        "id": "F_-1FOSCMdbp"
      },
      "source": [
        "Dữ liệu có bao nhiêu dòng và bao nhiêu cột?"
      ]
    },
    {
      "cell_type": "code",
      "metadata": {
        "colab": {
          "base_uri": "https://localhost:8080/"
        },
        "id": "R-jgD9icxiYq",
        "outputId": "94c74637-5be4-44e9-83c5-05e1a796d346"
      },
      "source": [
        "# Số dòng X cột của dữ liệu train\n",
        "data_df.shape"
      ],
      "execution_count": null,
      "outputs": [
        {
          "output_type": "execute_result",
          "data": {
            "text/plain": [
              "(1460, 80)"
            ]
          },
          "metadata": {
            "tags": []
          },
          "execution_count": 6
        }
      ]
    },
    {
      "cell_type": "markdown",
      "metadata": {
        "id": "pfKN0_pO8_OW"
      },
      "source": [
        "### 1.1.2 Tập test"
      ]
    },
    {
      "cell_type": "code",
      "metadata": {
        "colab": {
          "base_uri": "https://localhost:8080/",
          "height": 255
        },
        "id": "QgOyMfje8-WT",
        "outputId": "ae8b2f5b-ae98-415d-a3dd-1f5b7e71ae85"
      },
      "source": [
        "test_X = pd.read_csv('test.csv', index_col=0)\n",
        "test_y = pd.read_csv('test_result.csv', index_col=0)['SalePrice']\n",
        "test_X.head()"
      ],
      "execution_count": null,
      "outputs": [
        {
          "output_type": "execute_result",
          "data": {
            "text/html": [
              "<div>\n",
              "<style scoped>\n",
              "    .dataframe tbody tr th:only-of-type {\n",
              "        vertical-align: middle;\n",
              "    }\n",
              "\n",
              "    .dataframe tbody tr th {\n",
              "        vertical-align: top;\n",
              "    }\n",
              "\n",
              "    .dataframe thead th {\n",
              "        text-align: right;\n",
              "    }\n",
              "</style>\n",
              "<table border=\"1\" class=\"dataframe\">\n",
              "  <thead>\n",
              "    <tr style=\"text-align: right;\">\n",
              "      <th></th>\n",
              "      <th>MSSubClass</th>\n",
              "      <th>MSZoning</th>\n",
              "      <th>LotFrontage</th>\n",
              "      <th>LotArea</th>\n",
              "      <th>Street</th>\n",
              "      <th>Alley</th>\n",
              "      <th>LotShape</th>\n",
              "      <th>LandContour</th>\n",
              "      <th>Utilities</th>\n",
              "      <th>LotConfig</th>\n",
              "      <th>LandSlope</th>\n",
              "      <th>Neighborhood</th>\n",
              "      <th>Condition1</th>\n",
              "      <th>Condition2</th>\n",
              "      <th>BldgType</th>\n",
              "      <th>HouseStyle</th>\n",
              "      <th>OverallQual</th>\n",
              "      <th>OverallCond</th>\n",
              "      <th>YearBuilt</th>\n",
              "      <th>YearRemodAdd</th>\n",
              "      <th>RoofStyle</th>\n",
              "      <th>RoofMatl</th>\n",
              "      <th>Exterior1st</th>\n",
              "      <th>Exterior2nd</th>\n",
              "      <th>MasVnrType</th>\n",
              "      <th>MasVnrArea</th>\n",
              "      <th>ExterQual</th>\n",
              "      <th>ExterCond</th>\n",
              "      <th>Foundation</th>\n",
              "      <th>BsmtQual</th>\n",
              "      <th>BsmtCond</th>\n",
              "      <th>BsmtExposure</th>\n",
              "      <th>BsmtFinType1</th>\n",
              "      <th>BsmtFinSF1</th>\n",
              "      <th>BsmtFinType2</th>\n",
              "      <th>BsmtFinSF2</th>\n",
              "      <th>BsmtUnfSF</th>\n",
              "      <th>TotalBsmtSF</th>\n",
              "      <th>Heating</th>\n",
              "      <th>HeatingQC</th>\n",
              "      <th>CentralAir</th>\n",
              "      <th>Electrical</th>\n",
              "      <th>1stFlrSF</th>\n",
              "      <th>2ndFlrSF</th>\n",
              "      <th>LowQualFinSF</th>\n",
              "      <th>GrLivArea</th>\n",
              "      <th>BsmtFullBath</th>\n",
              "      <th>BsmtHalfBath</th>\n",
              "      <th>FullBath</th>\n",
              "      <th>HalfBath</th>\n",
              "      <th>BedroomAbvGr</th>\n",
              "      <th>KitchenAbvGr</th>\n",
              "      <th>KitchenQual</th>\n",
              "      <th>TotRmsAbvGrd</th>\n",
              "      <th>Functional</th>\n",
              "      <th>Fireplaces</th>\n",
              "      <th>FireplaceQu</th>\n",
              "      <th>GarageType</th>\n",
              "      <th>GarageYrBlt</th>\n",
              "      <th>GarageFinish</th>\n",
              "      <th>GarageCars</th>\n",
              "      <th>GarageArea</th>\n",
              "      <th>GarageQual</th>\n",
              "      <th>GarageCond</th>\n",
              "      <th>PavedDrive</th>\n",
              "      <th>WoodDeckSF</th>\n",
              "      <th>OpenPorchSF</th>\n",
              "      <th>EnclosedPorch</th>\n",
              "      <th>3SsnPorch</th>\n",
              "      <th>ScreenPorch</th>\n",
              "      <th>PoolArea</th>\n",
              "      <th>PoolQC</th>\n",
              "      <th>Fence</th>\n",
              "      <th>MiscFeature</th>\n",
              "      <th>MiscVal</th>\n",
              "      <th>MoSold</th>\n",
              "      <th>YrSold</th>\n",
              "      <th>SaleType</th>\n",
              "      <th>SaleCondition</th>\n",
              "    </tr>\n",
              "    <tr>\n",
              "      <th>Id</th>\n",
              "      <th></th>\n",
              "      <th></th>\n",
              "      <th></th>\n",
              "      <th></th>\n",
              "      <th></th>\n",
              "      <th></th>\n",
              "      <th></th>\n",
              "      <th></th>\n",
              "      <th></th>\n",
              "      <th></th>\n",
              "      <th></th>\n",
              "      <th></th>\n",
              "      <th></th>\n",
              "      <th></th>\n",
              "      <th></th>\n",
              "      <th></th>\n",
              "      <th></th>\n",
              "      <th></th>\n",
              "      <th></th>\n",
              "      <th></th>\n",
              "      <th></th>\n",
              "      <th></th>\n",
              "      <th></th>\n",
              "      <th></th>\n",
              "      <th></th>\n",
              "      <th></th>\n",
              "      <th></th>\n",
              "      <th></th>\n",
              "      <th></th>\n",
              "      <th></th>\n",
              "      <th></th>\n",
              "      <th></th>\n",
              "      <th></th>\n",
              "      <th></th>\n",
              "      <th></th>\n",
              "      <th></th>\n",
              "      <th></th>\n",
              "      <th></th>\n",
              "      <th></th>\n",
              "      <th></th>\n",
              "      <th></th>\n",
              "      <th></th>\n",
              "      <th></th>\n",
              "      <th></th>\n",
              "      <th></th>\n",
              "      <th></th>\n",
              "      <th></th>\n",
              "      <th></th>\n",
              "      <th></th>\n",
              "      <th></th>\n",
              "      <th></th>\n",
              "      <th></th>\n",
              "      <th></th>\n",
              "      <th></th>\n",
              "      <th></th>\n",
              "      <th></th>\n",
              "      <th></th>\n",
              "      <th></th>\n",
              "      <th></th>\n",
              "      <th></th>\n",
              "      <th></th>\n",
              "      <th></th>\n",
              "      <th></th>\n",
              "      <th></th>\n",
              "      <th></th>\n",
              "      <th></th>\n",
              "      <th></th>\n",
              "      <th></th>\n",
              "      <th></th>\n",
              "      <th></th>\n",
              "      <th></th>\n",
              "      <th></th>\n",
              "      <th></th>\n",
              "      <th></th>\n",
              "      <th></th>\n",
              "      <th></th>\n",
              "      <th></th>\n",
              "      <th></th>\n",
              "      <th></th>\n",
              "    </tr>\n",
              "  </thead>\n",
              "  <tbody>\n",
              "    <tr>\n",
              "      <th>1461</th>\n",
              "      <td>20</td>\n",
              "      <td>RH</td>\n",
              "      <td>80.0</td>\n",
              "      <td>11622</td>\n",
              "      <td>Pave</td>\n",
              "      <td>NaN</td>\n",
              "      <td>Reg</td>\n",
              "      <td>Lvl</td>\n",
              "      <td>AllPub</td>\n",
              "      <td>Inside</td>\n",
              "      <td>Gtl</td>\n",
              "      <td>NAmes</td>\n",
              "      <td>Feedr</td>\n",
              "      <td>Norm</td>\n",
              "      <td>1Fam</td>\n",
              "      <td>1Story</td>\n",
              "      <td>5</td>\n",
              "      <td>6</td>\n",
              "      <td>1961</td>\n",
              "      <td>1961</td>\n",
              "      <td>Gable</td>\n",
              "      <td>CompShg</td>\n",
              "      <td>VinylSd</td>\n",
              "      <td>VinylSd</td>\n",
              "      <td>None</td>\n",
              "      <td>0.0</td>\n",
              "      <td>TA</td>\n",
              "      <td>TA</td>\n",
              "      <td>CBlock</td>\n",
              "      <td>TA</td>\n",
              "      <td>TA</td>\n",
              "      <td>No</td>\n",
              "      <td>Rec</td>\n",
              "      <td>468.0</td>\n",
              "      <td>LwQ</td>\n",
              "      <td>144.0</td>\n",
              "      <td>270.0</td>\n",
              "      <td>882.0</td>\n",
              "      <td>GasA</td>\n",
              "      <td>TA</td>\n",
              "      <td>Y</td>\n",
              "      <td>SBrkr</td>\n",
              "      <td>896</td>\n",
              "      <td>0</td>\n",
              "      <td>0</td>\n",
              "      <td>896</td>\n",
              "      <td>0.0</td>\n",
              "      <td>0.0</td>\n",
              "      <td>1</td>\n",
              "      <td>0</td>\n",
              "      <td>2</td>\n",
              "      <td>1</td>\n",
              "      <td>TA</td>\n",
              "      <td>5</td>\n",
              "      <td>Typ</td>\n",
              "      <td>0</td>\n",
              "      <td>NaN</td>\n",
              "      <td>Attchd</td>\n",
              "      <td>1961.0</td>\n",
              "      <td>Unf</td>\n",
              "      <td>1.0</td>\n",
              "      <td>730.0</td>\n",
              "      <td>TA</td>\n",
              "      <td>TA</td>\n",
              "      <td>Y</td>\n",
              "      <td>140</td>\n",
              "      <td>0</td>\n",
              "      <td>0</td>\n",
              "      <td>0</td>\n",
              "      <td>120</td>\n",
              "      <td>0</td>\n",
              "      <td>NaN</td>\n",
              "      <td>MnPrv</td>\n",
              "      <td>NaN</td>\n",
              "      <td>0</td>\n",
              "      <td>6</td>\n",
              "      <td>2010</td>\n",
              "      <td>WD</td>\n",
              "      <td>Normal</td>\n",
              "    </tr>\n",
              "    <tr>\n",
              "      <th>1462</th>\n",
              "      <td>20</td>\n",
              "      <td>RL</td>\n",
              "      <td>81.0</td>\n",
              "      <td>14267</td>\n",
              "      <td>Pave</td>\n",
              "      <td>NaN</td>\n",
              "      <td>IR1</td>\n",
              "      <td>Lvl</td>\n",
              "      <td>AllPub</td>\n",
              "      <td>Corner</td>\n",
              "      <td>Gtl</td>\n",
              "      <td>NAmes</td>\n",
              "      <td>Norm</td>\n",
              "      <td>Norm</td>\n",
              "      <td>1Fam</td>\n",
              "      <td>1Story</td>\n",
              "      <td>6</td>\n",
              "      <td>6</td>\n",
              "      <td>1958</td>\n",
              "      <td>1958</td>\n",
              "      <td>Hip</td>\n",
              "      <td>CompShg</td>\n",
              "      <td>Wd Sdng</td>\n",
              "      <td>Wd Sdng</td>\n",
              "      <td>BrkFace</td>\n",
              "      <td>108.0</td>\n",
              "      <td>TA</td>\n",
              "      <td>TA</td>\n",
              "      <td>CBlock</td>\n",
              "      <td>TA</td>\n",
              "      <td>TA</td>\n",
              "      <td>No</td>\n",
              "      <td>ALQ</td>\n",
              "      <td>923.0</td>\n",
              "      <td>Unf</td>\n",
              "      <td>0.0</td>\n",
              "      <td>406.0</td>\n",
              "      <td>1329.0</td>\n",
              "      <td>GasA</td>\n",
              "      <td>TA</td>\n",
              "      <td>Y</td>\n",
              "      <td>SBrkr</td>\n",
              "      <td>1329</td>\n",
              "      <td>0</td>\n",
              "      <td>0</td>\n",
              "      <td>1329</td>\n",
              "      <td>0.0</td>\n",
              "      <td>0.0</td>\n",
              "      <td>1</td>\n",
              "      <td>1</td>\n",
              "      <td>3</td>\n",
              "      <td>1</td>\n",
              "      <td>Gd</td>\n",
              "      <td>6</td>\n",
              "      <td>Typ</td>\n",
              "      <td>0</td>\n",
              "      <td>NaN</td>\n",
              "      <td>Attchd</td>\n",
              "      <td>1958.0</td>\n",
              "      <td>Unf</td>\n",
              "      <td>1.0</td>\n",
              "      <td>312.0</td>\n",
              "      <td>TA</td>\n",
              "      <td>TA</td>\n",
              "      <td>Y</td>\n",
              "      <td>393</td>\n",
              "      <td>36</td>\n",
              "      <td>0</td>\n",
              "      <td>0</td>\n",
              "      <td>0</td>\n",
              "      <td>0</td>\n",
              "      <td>NaN</td>\n",
              "      <td>NaN</td>\n",
              "      <td>Gar2</td>\n",
              "      <td>12500</td>\n",
              "      <td>6</td>\n",
              "      <td>2010</td>\n",
              "      <td>WD</td>\n",
              "      <td>Normal</td>\n",
              "    </tr>\n",
              "    <tr>\n",
              "      <th>1463</th>\n",
              "      <td>60</td>\n",
              "      <td>RL</td>\n",
              "      <td>74.0</td>\n",
              "      <td>13830</td>\n",
              "      <td>Pave</td>\n",
              "      <td>NaN</td>\n",
              "      <td>IR1</td>\n",
              "      <td>Lvl</td>\n",
              "      <td>AllPub</td>\n",
              "      <td>Inside</td>\n",
              "      <td>Gtl</td>\n",
              "      <td>Gilbert</td>\n",
              "      <td>Norm</td>\n",
              "      <td>Norm</td>\n",
              "      <td>1Fam</td>\n",
              "      <td>2Story</td>\n",
              "      <td>5</td>\n",
              "      <td>5</td>\n",
              "      <td>1997</td>\n",
              "      <td>1998</td>\n",
              "      <td>Gable</td>\n",
              "      <td>CompShg</td>\n",
              "      <td>VinylSd</td>\n",
              "      <td>VinylSd</td>\n",
              "      <td>None</td>\n",
              "      <td>0.0</td>\n",
              "      <td>TA</td>\n",
              "      <td>TA</td>\n",
              "      <td>PConc</td>\n",
              "      <td>Gd</td>\n",
              "      <td>TA</td>\n",
              "      <td>No</td>\n",
              "      <td>GLQ</td>\n",
              "      <td>791.0</td>\n",
              "      <td>Unf</td>\n",
              "      <td>0.0</td>\n",
              "      <td>137.0</td>\n",
              "      <td>928.0</td>\n",
              "      <td>GasA</td>\n",
              "      <td>Gd</td>\n",
              "      <td>Y</td>\n",
              "      <td>SBrkr</td>\n",
              "      <td>928</td>\n",
              "      <td>701</td>\n",
              "      <td>0</td>\n",
              "      <td>1629</td>\n",
              "      <td>0.0</td>\n",
              "      <td>0.0</td>\n",
              "      <td>2</td>\n",
              "      <td>1</td>\n",
              "      <td>3</td>\n",
              "      <td>1</td>\n",
              "      <td>TA</td>\n",
              "      <td>6</td>\n",
              "      <td>Typ</td>\n",
              "      <td>1</td>\n",
              "      <td>TA</td>\n",
              "      <td>Attchd</td>\n",
              "      <td>1997.0</td>\n",
              "      <td>Fin</td>\n",
              "      <td>2.0</td>\n",
              "      <td>482.0</td>\n",
              "      <td>TA</td>\n",
              "      <td>TA</td>\n",
              "      <td>Y</td>\n",
              "      <td>212</td>\n",
              "      <td>34</td>\n",
              "      <td>0</td>\n",
              "      <td>0</td>\n",
              "      <td>0</td>\n",
              "      <td>0</td>\n",
              "      <td>NaN</td>\n",
              "      <td>MnPrv</td>\n",
              "      <td>NaN</td>\n",
              "      <td>0</td>\n",
              "      <td>3</td>\n",
              "      <td>2010</td>\n",
              "      <td>WD</td>\n",
              "      <td>Normal</td>\n",
              "    </tr>\n",
              "    <tr>\n",
              "      <th>1464</th>\n",
              "      <td>60</td>\n",
              "      <td>RL</td>\n",
              "      <td>78.0</td>\n",
              "      <td>9978</td>\n",
              "      <td>Pave</td>\n",
              "      <td>NaN</td>\n",
              "      <td>IR1</td>\n",
              "      <td>Lvl</td>\n",
              "      <td>AllPub</td>\n",
              "      <td>Inside</td>\n",
              "      <td>Gtl</td>\n",
              "      <td>Gilbert</td>\n",
              "      <td>Norm</td>\n",
              "      <td>Norm</td>\n",
              "      <td>1Fam</td>\n",
              "      <td>2Story</td>\n",
              "      <td>6</td>\n",
              "      <td>6</td>\n",
              "      <td>1998</td>\n",
              "      <td>1998</td>\n",
              "      <td>Gable</td>\n",
              "      <td>CompShg</td>\n",
              "      <td>VinylSd</td>\n",
              "      <td>VinylSd</td>\n",
              "      <td>BrkFace</td>\n",
              "      <td>20.0</td>\n",
              "      <td>TA</td>\n",
              "      <td>TA</td>\n",
              "      <td>PConc</td>\n",
              "      <td>TA</td>\n",
              "      <td>TA</td>\n",
              "      <td>No</td>\n",
              "      <td>GLQ</td>\n",
              "      <td>602.0</td>\n",
              "      <td>Unf</td>\n",
              "      <td>0.0</td>\n",
              "      <td>324.0</td>\n",
              "      <td>926.0</td>\n",
              "      <td>GasA</td>\n",
              "      <td>Ex</td>\n",
              "      <td>Y</td>\n",
              "      <td>SBrkr</td>\n",
              "      <td>926</td>\n",
              "      <td>678</td>\n",
              "      <td>0</td>\n",
              "      <td>1604</td>\n",
              "      <td>0.0</td>\n",
              "      <td>0.0</td>\n",
              "      <td>2</td>\n",
              "      <td>1</td>\n",
              "      <td>3</td>\n",
              "      <td>1</td>\n",
              "      <td>Gd</td>\n",
              "      <td>7</td>\n",
              "      <td>Typ</td>\n",
              "      <td>1</td>\n",
              "      <td>Gd</td>\n",
              "      <td>Attchd</td>\n",
              "      <td>1998.0</td>\n",
              "      <td>Fin</td>\n",
              "      <td>2.0</td>\n",
              "      <td>470.0</td>\n",
              "      <td>TA</td>\n",
              "      <td>TA</td>\n",
              "      <td>Y</td>\n",
              "      <td>360</td>\n",
              "      <td>36</td>\n",
              "      <td>0</td>\n",
              "      <td>0</td>\n",
              "      <td>0</td>\n",
              "      <td>0</td>\n",
              "      <td>NaN</td>\n",
              "      <td>NaN</td>\n",
              "      <td>NaN</td>\n",
              "      <td>0</td>\n",
              "      <td>6</td>\n",
              "      <td>2010</td>\n",
              "      <td>WD</td>\n",
              "      <td>Normal</td>\n",
              "    </tr>\n",
              "    <tr>\n",
              "      <th>1465</th>\n",
              "      <td>120</td>\n",
              "      <td>RL</td>\n",
              "      <td>43.0</td>\n",
              "      <td>5005</td>\n",
              "      <td>Pave</td>\n",
              "      <td>NaN</td>\n",
              "      <td>IR1</td>\n",
              "      <td>HLS</td>\n",
              "      <td>AllPub</td>\n",
              "      <td>Inside</td>\n",
              "      <td>Gtl</td>\n",
              "      <td>StoneBr</td>\n",
              "      <td>Norm</td>\n",
              "      <td>Norm</td>\n",
              "      <td>TwnhsE</td>\n",
              "      <td>1Story</td>\n",
              "      <td>8</td>\n",
              "      <td>5</td>\n",
              "      <td>1992</td>\n",
              "      <td>1992</td>\n",
              "      <td>Gable</td>\n",
              "      <td>CompShg</td>\n",
              "      <td>HdBoard</td>\n",
              "      <td>HdBoard</td>\n",
              "      <td>None</td>\n",
              "      <td>0.0</td>\n",
              "      <td>Gd</td>\n",
              "      <td>TA</td>\n",
              "      <td>PConc</td>\n",
              "      <td>Gd</td>\n",
              "      <td>TA</td>\n",
              "      <td>No</td>\n",
              "      <td>ALQ</td>\n",
              "      <td>263.0</td>\n",
              "      <td>Unf</td>\n",
              "      <td>0.0</td>\n",
              "      <td>1017.0</td>\n",
              "      <td>1280.0</td>\n",
              "      <td>GasA</td>\n",
              "      <td>Ex</td>\n",
              "      <td>Y</td>\n",
              "      <td>SBrkr</td>\n",
              "      <td>1280</td>\n",
              "      <td>0</td>\n",
              "      <td>0</td>\n",
              "      <td>1280</td>\n",
              "      <td>0.0</td>\n",
              "      <td>0.0</td>\n",
              "      <td>2</td>\n",
              "      <td>0</td>\n",
              "      <td>2</td>\n",
              "      <td>1</td>\n",
              "      <td>Gd</td>\n",
              "      <td>5</td>\n",
              "      <td>Typ</td>\n",
              "      <td>0</td>\n",
              "      <td>NaN</td>\n",
              "      <td>Attchd</td>\n",
              "      <td>1992.0</td>\n",
              "      <td>RFn</td>\n",
              "      <td>2.0</td>\n",
              "      <td>506.0</td>\n",
              "      <td>TA</td>\n",
              "      <td>TA</td>\n",
              "      <td>Y</td>\n",
              "      <td>0</td>\n",
              "      <td>82</td>\n",
              "      <td>0</td>\n",
              "      <td>0</td>\n",
              "      <td>144</td>\n",
              "      <td>0</td>\n",
              "      <td>NaN</td>\n",
              "      <td>NaN</td>\n",
              "      <td>NaN</td>\n",
              "      <td>0</td>\n",
              "      <td>1</td>\n",
              "      <td>2010</td>\n",
              "      <td>WD</td>\n",
              "      <td>Normal</td>\n",
              "    </tr>\n",
              "  </tbody>\n",
              "</table>\n",
              "</div>"
            ],
            "text/plain": [
              "      MSSubClass MSZoning  LotFrontage  ...  YrSold SaleType SaleCondition\n",
              "Id                                      ...                               \n",
              "1461          20       RH         80.0  ...    2010       WD        Normal\n",
              "1462          20       RL         81.0  ...    2010       WD        Normal\n",
              "1463          60       RL         74.0  ...    2010       WD        Normal\n",
              "1464          60       RL         78.0  ...    2010       WD        Normal\n",
              "1465         120       RL         43.0  ...    2010       WD        Normal\n",
              "\n",
              "[5 rows x 79 columns]"
            ]
          },
          "metadata": {
            "tags": []
          },
          "execution_count": 7
        }
      ]
    },
    {
      "cell_type": "code",
      "metadata": {
        "colab": {
          "base_uri": "https://localhost:8080/"
        },
        "id": "4a89TXjy9WWj",
        "outputId": "cf617f2c-06c1-4cfe-ec24-a4833e18c823"
      },
      "source": [
        "# Số dòng X cột của dữ liệu test\n",
        "test_X.shape"
      ],
      "execution_count": null,
      "outputs": [
        {
          "output_type": "execute_result",
          "data": {
            "text/plain": [
              "(1459, 79)"
            ]
          },
          "metadata": {
            "tags": []
          },
          "execution_count": 8
        }
      ]
    },
    {
      "cell_type": "markdown",
      "metadata": {
        "id": "7vvJo6u2ojsv"
      },
      "source": [
        "## 1.2 Khám phá các cột (thuộc tính) của dữ liệu"
      ]
    },
    {
      "cell_type": "markdown",
      "metadata": {
        "id": "TygvEmKjMgt1"
      },
      "source": [
        "### 1.2.1 Mỗi cột có ý nghĩa gì?"
      ]
    },
    {
      "cell_type": "code",
      "metadata": {
        "colab": {
          "base_uri": "https://localhost:8080/"
        },
        "id": "innH2whWxnRm",
        "outputId": "b08d59d4-c41d-4cb8-8d6b-730ddeb51f90"
      },
      "source": [
        "with open('data_description.txt', 'r') as f:\n",
        "    print(f.read())"
      ],
      "execution_count": null,
      "outputs": [
        {
          "output_type": "stream",
          "text": [
            "MSSubClass: Identifies the type of dwelling involved in the sale.\t\n",
            "\n",
            "        20\t1-STORY 1946 & NEWER ALL STYLES\n",
            "        30\t1-STORY 1945 & OLDER\n",
            "        40\t1-STORY W/FINISHED ATTIC ALL AGES\n",
            "        45\t1-1/2 STORY - UNFINISHED ALL AGES\n",
            "        50\t1-1/2 STORY FINISHED ALL AGES\n",
            "        60\t2-STORY 1946 & NEWER\n",
            "        70\t2-STORY 1945 & OLDER\n",
            "        75\t2-1/2 STORY ALL AGES\n",
            "        80\tSPLIT OR MULTI-LEVEL\n",
            "        85\tSPLIT FOYER\n",
            "        90\tDUPLEX - ALL STYLES AND AGES\n",
            "       120\t1-STORY PUD (Planned Unit Development) - 1946 & NEWER\n",
            "       150\t1-1/2 STORY PUD - ALL AGES\n",
            "       160\t2-STORY PUD - 1946 & NEWER\n",
            "       180\tPUD - MULTILEVEL - INCL SPLIT LEV/FOYER\n",
            "       190\t2 FAMILY CONVERSION - ALL STYLES AND AGES\n",
            "\n",
            "MSZoning: Identifies the general zoning classification of the sale.\n",
            "\t\t\n",
            "       A\tAgriculture\n",
            "       C\tCommercial\n",
            "       FV\tFloating Village Residential\n",
            "       I\tIndustrial\n",
            "       RH\tResidential High Density\n",
            "       RL\tResidential Low Density\n",
            "       RP\tResidential Low Density Park \n",
            "       RM\tResidential Medium Density\n",
            "\t\n",
            "LotFrontage: Linear feet of street connected to property\n",
            "\n",
            "LotArea: Lot size in square feet\n",
            "\n",
            "Street: Type of road access to property\n",
            "\n",
            "       Grvl\tGravel\t\n",
            "       Pave\tPaved\n",
            "       \t\n",
            "Alley: Type of alley access to property\n",
            "\n",
            "       Grvl\tGravel\n",
            "       Pave\tPaved\n",
            "       NA \tNo alley access\n",
            "\t\t\n",
            "LotShape: General shape of property\n",
            "\n",
            "       Reg\tRegular\t\n",
            "       IR1\tSlightly irregular\n",
            "       IR2\tModerately Irregular\n",
            "       IR3\tIrregular\n",
            "       \n",
            "LandContour: Flatness of the property\n",
            "\n",
            "       Lvl\tNear Flat/Level\t\n",
            "       Bnk\tBanked - Quick and significant rise from street grade to building\n",
            "       HLS\tHillside - Significant slope from side to side\n",
            "       Low\tDepression\n",
            "\t\t\n",
            "Utilities: Type of utilities available\n",
            "\t\t\n",
            "       AllPub\tAll public Utilities (E,G,W,& S)\t\n",
            "       NoSewr\tElectricity, Gas, and Water (Septic Tank)\n",
            "       NoSeWa\tElectricity and Gas Only\n",
            "       ELO\tElectricity only\t\n",
            "\t\n",
            "LotConfig: Lot configuration\n",
            "\n",
            "       Inside\tInside lot\n",
            "       Corner\tCorner lot\n",
            "       CulDSac\tCul-de-sac\n",
            "       FR2\tFrontage on 2 sides of property\n",
            "       FR3\tFrontage on 3 sides of property\n",
            "\t\n",
            "LandSlope: Slope of property\n",
            "\t\t\n",
            "       Gtl\tGentle slope\n",
            "       Mod\tModerate Slope\t\n",
            "       Sev\tSevere Slope\n",
            "\t\n",
            "Neighborhood: Physical locations within Ames city limits\n",
            "\n",
            "       Blmngtn\tBloomington Heights\n",
            "       Blueste\tBluestem\n",
            "       BrDale\tBriardale\n",
            "       BrkSide\tBrookside\n",
            "       ClearCr\tClear Creek\n",
            "       CollgCr\tCollege Creek\n",
            "       Crawfor\tCrawford\n",
            "       Edwards\tEdwards\n",
            "       Gilbert\tGilbert\n",
            "       IDOTRR\tIowa DOT and Rail Road\n",
            "       MeadowV\tMeadow Village\n",
            "       Mitchel\tMitchell\n",
            "       Names\tNorth Ames\n",
            "       NoRidge\tNorthridge\n",
            "       NPkVill\tNorthpark Villa\n",
            "       NridgHt\tNorthridge Heights\n",
            "       NWAmes\tNorthwest Ames\n",
            "       OldTown\tOld Town\n",
            "       SWISU\tSouth & West of Iowa State University\n",
            "       Sawyer\tSawyer\n",
            "       SawyerW\tSawyer West\n",
            "       Somerst\tSomerset\n",
            "       StoneBr\tStone Brook\n",
            "       Timber\tTimberland\n",
            "       Veenker\tVeenker\n",
            "\t\t\t\n",
            "Condition1: Proximity to various conditions\n",
            "\t\n",
            "       Artery\tAdjacent to arterial street\n",
            "       Feedr\tAdjacent to feeder street\t\n",
            "       Norm\tNormal\t\n",
            "       RRNn\tWithin 200' of North-South Railroad\n",
            "       RRAn\tAdjacent to North-South Railroad\n",
            "       PosN\tNear positive off-site feature--park, greenbelt, etc.\n",
            "       PosA\tAdjacent to postive off-site feature\n",
            "       RRNe\tWithin 200' of East-West Railroad\n",
            "       RRAe\tAdjacent to East-West Railroad\n",
            "\t\n",
            "Condition2: Proximity to various conditions (if more than one is present)\n",
            "\t\t\n",
            "       Artery\tAdjacent to arterial street\n",
            "       Feedr\tAdjacent to feeder street\t\n",
            "       Norm\tNormal\t\n",
            "       RRNn\tWithin 200' of North-South Railroad\n",
            "       RRAn\tAdjacent to North-South Railroad\n",
            "       PosN\tNear positive off-site feature--park, greenbelt, etc.\n",
            "       PosA\tAdjacent to postive off-site feature\n",
            "       RRNe\tWithin 200' of East-West Railroad\n",
            "       RRAe\tAdjacent to East-West Railroad\n",
            "\t\n",
            "BldgType: Type of dwelling\n",
            "\t\t\n",
            "       1Fam\tSingle-family Detached\t\n",
            "       2FmCon\tTwo-family Conversion; originally built as one-family dwelling\n",
            "       Duplx\tDuplex\n",
            "       TwnhsE\tTownhouse End Unit\n",
            "       TwnhsI\tTownhouse Inside Unit\n",
            "\t\n",
            "HouseStyle: Style of dwelling\n",
            "\t\n",
            "       1Story\tOne story\n",
            "       1.5Fin\tOne and one-half story: 2nd level finished\n",
            "       1.5Unf\tOne and one-half story: 2nd level unfinished\n",
            "       2Story\tTwo story\n",
            "       2.5Fin\tTwo and one-half story: 2nd level finished\n",
            "       2.5Unf\tTwo and one-half story: 2nd level unfinished\n",
            "       SFoyer\tSplit Foyer\n",
            "       SLvl\tSplit Level\n",
            "\t\n",
            "OverallQual: Rates the overall material and finish of the house\n",
            "\n",
            "       10\tVery Excellent\n",
            "       9\tExcellent\n",
            "       8\tVery Good\n",
            "       7\tGood\n",
            "       6\tAbove Average\n",
            "       5\tAverage\n",
            "       4\tBelow Average\n",
            "       3\tFair\n",
            "       2\tPoor\n",
            "       1\tVery Poor\n",
            "\t\n",
            "OverallCond: Rates the overall condition of the house\n",
            "\n",
            "       10\tVery Excellent\n",
            "       9\tExcellent\n",
            "       8\tVery Good\n",
            "       7\tGood\n",
            "       6\tAbove Average\t\n",
            "       5\tAverage\n",
            "       4\tBelow Average\t\n",
            "       3\tFair\n",
            "       2\tPoor\n",
            "       1\tVery Poor\n",
            "\t\t\n",
            "YearBuilt: Original construction date\n",
            "\n",
            "YearRemodAdd: Remodel date (same as construction date if no remodeling or additions)\n",
            "\n",
            "RoofStyle: Type of roof\n",
            "\n",
            "       Flat\tFlat\n",
            "       Gable\tGable\n",
            "       Gambrel\tGabrel (Barn)\n",
            "       Hip\tHip\n",
            "       Mansard\tMansard\n",
            "       Shed\tShed\n",
            "\t\t\n",
            "RoofMatl: Roof material\n",
            "\n",
            "       ClyTile\tClay or Tile\n",
            "       CompShg\tStandard (Composite) Shingle\n",
            "       Membran\tMembrane\n",
            "       Metal\tMetal\n",
            "       Roll\tRoll\n",
            "       Tar&Grv\tGravel & Tar\n",
            "       WdShake\tWood Shakes\n",
            "       WdShngl\tWood Shingles\n",
            "\t\t\n",
            "Exterior1st: Exterior covering on house\n",
            "\n",
            "       AsbShng\tAsbestos Shingles\n",
            "       AsphShn\tAsphalt Shingles\n",
            "       BrkComm\tBrick Common\n",
            "       BrkFace\tBrick Face\n",
            "       CBlock\tCinder Block\n",
            "       CemntBd\tCement Board\n",
            "       HdBoard\tHard Board\n",
            "       ImStucc\tImitation Stucco\n",
            "       MetalSd\tMetal Siding\n",
            "       Other\tOther\n",
            "       Plywood\tPlywood\n",
            "       PreCast\tPreCast\t\n",
            "       Stone\tStone\n",
            "       Stucco\tStucco\n",
            "       VinylSd\tVinyl Siding\n",
            "       Wd Sdng\tWood Siding\n",
            "       WdShing\tWood Shingles\n",
            "\t\n",
            "Exterior2nd: Exterior covering on house (if more than one material)\n",
            "\n",
            "       AsbShng\tAsbestos Shingles\n",
            "       AsphShn\tAsphalt Shingles\n",
            "       BrkComm\tBrick Common\n",
            "       BrkFace\tBrick Face\n",
            "       CBlock\tCinder Block\n",
            "       CemntBd\tCement Board\n",
            "       HdBoard\tHard Board\n",
            "       ImStucc\tImitation Stucco\n",
            "       MetalSd\tMetal Siding\n",
            "       Other\tOther\n",
            "       Plywood\tPlywood\n",
            "       PreCast\tPreCast\n",
            "       Stone\tStone\n",
            "       Stucco\tStucco\n",
            "       VinylSd\tVinyl Siding\n",
            "       Wd Sdng\tWood Siding\n",
            "       WdShing\tWood Shingles\n",
            "\t\n",
            "MasVnrType: Masonry veneer type\n",
            "\n",
            "       BrkCmn\tBrick Common\n",
            "       BrkFace\tBrick Face\n",
            "       CBlock\tCinder Block\n",
            "       None\tNone\n",
            "       Stone\tStone\n",
            "\t\n",
            "MasVnrArea: Masonry veneer area in square feet\n",
            "\n",
            "ExterQual: Evaluates the quality of the material on the exterior \n",
            "\t\t\n",
            "       Ex\tExcellent\n",
            "       Gd\tGood\n",
            "       TA\tAverage/Typical\n",
            "       Fa\tFair\n",
            "       Po\tPoor\n",
            "\t\t\n",
            "ExterCond: Evaluates the present condition of the material on the exterior\n",
            "\t\t\n",
            "       Ex\tExcellent\n",
            "       Gd\tGood\n",
            "       TA\tAverage/Typical\n",
            "       Fa\tFair\n",
            "       Po\tPoor\n",
            "\t\t\n",
            "Foundation: Type of foundation\n",
            "\t\t\n",
            "       BrkTil\tBrick & Tile\n",
            "       CBlock\tCinder Block\n",
            "       PConc\tPoured Contrete\t\n",
            "       Slab\tSlab\n",
            "       Stone\tStone\n",
            "       Wood\tWood\n",
            "\t\t\n",
            "BsmtQual: Evaluates the height of the basement\n",
            "\n",
            "       Ex\tExcellent (100+ inches)\t\n",
            "       Gd\tGood (90-99 inches)\n",
            "       TA\tTypical (80-89 inches)\n",
            "       Fa\tFair (70-79 inches)\n",
            "       Po\tPoor (<70 inches\n",
            "       NA\tNo Basement\n",
            "\t\t\n",
            "BsmtCond: Evaluates the general condition of the basement\n",
            "\n",
            "       Ex\tExcellent\n",
            "       Gd\tGood\n",
            "       TA\tTypical - slight dampness allowed\n",
            "       Fa\tFair - dampness or some cracking or settling\n",
            "       Po\tPoor - Severe cracking, settling, or wetness\n",
            "       NA\tNo Basement\n",
            "\t\n",
            "BsmtExposure: Refers to walkout or garden level walls\n",
            "\n",
            "       Gd\tGood Exposure\n",
            "       Av\tAverage Exposure (split levels or foyers typically score average or above)\t\n",
            "       Mn\tMimimum Exposure\n",
            "       No\tNo Exposure\n",
            "       NA\tNo Basement\n",
            "\t\n",
            "BsmtFinType1: Rating of basement finished area\n",
            "\n",
            "       GLQ\tGood Living Quarters\n",
            "       ALQ\tAverage Living Quarters\n",
            "       BLQ\tBelow Average Living Quarters\t\n",
            "       Rec\tAverage Rec Room\n",
            "       LwQ\tLow Quality\n",
            "       Unf\tUnfinshed\n",
            "       NA\tNo Basement\n",
            "\t\t\n",
            "BsmtFinSF1: Type 1 finished square feet\n",
            "\n",
            "BsmtFinType2: Rating of basement finished area (if multiple types)\n",
            "\n",
            "       GLQ\tGood Living Quarters\n",
            "       ALQ\tAverage Living Quarters\n",
            "       BLQ\tBelow Average Living Quarters\t\n",
            "       Rec\tAverage Rec Room\n",
            "       LwQ\tLow Quality\n",
            "       Unf\tUnfinshed\n",
            "       NA\tNo Basement\n",
            "\n",
            "BsmtFinSF2: Type 2 finished square feet\n",
            "\n",
            "BsmtUnfSF: Unfinished square feet of basement area\n",
            "\n",
            "TotalBsmtSF: Total square feet of basement area\n",
            "\n",
            "Heating: Type of heating\n",
            "\t\t\n",
            "       Floor\tFloor Furnace\n",
            "       GasA\tGas forced warm air furnace\n",
            "       GasW\tGas hot water or steam heat\n",
            "       Grav\tGravity furnace\t\n",
            "       OthW\tHot water or steam heat other than gas\n",
            "       Wall\tWall furnace\n",
            "\t\t\n",
            "HeatingQC: Heating quality and condition\n",
            "\n",
            "       Ex\tExcellent\n",
            "       Gd\tGood\n",
            "       TA\tAverage/Typical\n",
            "       Fa\tFair\n",
            "       Po\tPoor\n",
            "\t\t\n",
            "CentralAir: Central air conditioning\n",
            "\n",
            "       N\tNo\n",
            "       Y\tYes\n",
            "\t\t\n",
            "Electrical: Electrical system\n",
            "\n",
            "       SBrkr\tStandard Circuit Breakers & Romex\n",
            "       FuseA\tFuse Box over 60 AMP and all Romex wiring (Average)\t\n",
            "       FuseF\t60 AMP Fuse Box and mostly Romex wiring (Fair)\n",
            "       FuseP\t60 AMP Fuse Box and mostly knob & tube wiring (poor)\n",
            "       Mix\tMixed\n",
            "\t\t\n",
            "1stFlrSF: First Floor square feet\n",
            " \n",
            "2ndFlrSF: Second floor square feet\n",
            "\n",
            "LowQualFinSF: Low quality finished square feet (all floors)\n",
            "\n",
            "GrLivArea: Above grade (ground) living area square feet\n",
            "\n",
            "BsmtFullBath: Basement full bathrooms\n",
            "\n",
            "BsmtHalfBath: Basement half bathrooms\n",
            "\n",
            "FullBath: Full bathrooms above grade\n",
            "\n",
            "HalfBath: Half baths above grade\n",
            "\n",
            "Bedroom: Bedrooms above grade (does NOT include basement bedrooms)\n",
            "\n",
            "Kitchen: Kitchens above grade\n",
            "\n",
            "KitchenQual: Kitchen quality\n",
            "\n",
            "       Ex\tExcellent\n",
            "       Gd\tGood\n",
            "       TA\tTypical/Average\n",
            "       Fa\tFair\n",
            "       Po\tPoor\n",
            "       \t\n",
            "TotRmsAbvGrd: Total rooms above grade (does not include bathrooms)\n",
            "\n",
            "Functional: Home functionality (Assume typical unless deductions are warranted)\n",
            "\n",
            "       Typ\tTypical Functionality\n",
            "       Min1\tMinor Deductions 1\n",
            "       Min2\tMinor Deductions 2\n",
            "       Mod\tModerate Deductions\n",
            "       Maj1\tMajor Deductions 1\n",
            "       Maj2\tMajor Deductions 2\n",
            "       Sev\tSeverely Damaged\n",
            "       Sal\tSalvage only\n",
            "\t\t\n",
            "Fireplaces: Number of fireplaces\n",
            "\n",
            "FireplaceQu: Fireplace quality\n",
            "\n",
            "       Ex\tExcellent - Exceptional Masonry Fireplace\n",
            "       Gd\tGood - Masonry Fireplace in main level\n",
            "       TA\tAverage - Prefabricated Fireplace in main living area or Masonry Fireplace in basement\n",
            "       Fa\tFair - Prefabricated Fireplace in basement\n",
            "       Po\tPoor - Ben Franklin Stove\n",
            "       NA\tNo Fireplace\n",
            "\t\t\n",
            "GarageType: Garage location\n",
            "\t\t\n",
            "       2Types\tMore than one type of garage\n",
            "       Attchd\tAttached to home\n",
            "       Basment\tBasement Garage\n",
            "       BuiltIn\tBuilt-In (Garage part of house - typically has room above garage)\n",
            "       CarPort\tCar Port\n",
            "       Detchd\tDetached from home\n",
            "       NA\tNo Garage\n",
            "\t\t\n",
            "GarageYrBlt: Year garage was built\n",
            "\t\t\n",
            "GarageFinish: Interior finish of the garage\n",
            "\n",
            "       Fin\tFinished\n",
            "       RFn\tRough Finished\t\n",
            "       Unf\tUnfinished\n",
            "       NA\tNo Garage\n",
            "\t\t\n",
            "GarageCars: Size of garage in car capacity\n",
            "\n",
            "GarageArea: Size of garage in square feet\n",
            "\n",
            "GarageQual: Garage quality\n",
            "\n",
            "       Ex\tExcellent\n",
            "       Gd\tGood\n",
            "       TA\tTypical/Average\n",
            "       Fa\tFair\n",
            "       Po\tPoor\n",
            "       NA\tNo Garage\n",
            "\t\t\n",
            "GarageCond: Garage condition\n",
            "\n",
            "       Ex\tExcellent\n",
            "       Gd\tGood\n",
            "       TA\tTypical/Average\n",
            "       Fa\tFair\n",
            "       Po\tPoor\n",
            "       NA\tNo Garage\n",
            "\t\t\n",
            "PavedDrive: Paved driveway\n",
            "\n",
            "       Y\tPaved \n",
            "       P\tPartial Pavement\n",
            "       N\tDirt/Gravel\n",
            "\t\t\n",
            "WoodDeckSF: Wood deck area in square feet\n",
            "\n",
            "OpenPorchSF: Open porch area in square feet\n",
            "\n",
            "EnclosedPorch: Enclosed porch area in square feet\n",
            "\n",
            "3SsnPorch: Three season porch area in square feet\n",
            "\n",
            "ScreenPorch: Screen porch area in square feet\n",
            "\n",
            "PoolArea: Pool area in square feet\n",
            "\n",
            "PoolQC: Pool quality\n",
            "\t\t\n",
            "       Ex\tExcellent\n",
            "       Gd\tGood\n",
            "       TA\tAverage/Typical\n",
            "       Fa\tFair\n",
            "       NA\tNo Pool\n",
            "\t\t\n",
            "Fence: Fence quality\n",
            "\t\t\n",
            "       GdPrv\tGood Privacy\n",
            "       MnPrv\tMinimum Privacy\n",
            "       GdWo\tGood Wood\n",
            "       MnWw\tMinimum Wood/Wire\n",
            "       NA\tNo Fence\n",
            "\t\n",
            "MiscFeature: Miscellaneous feature not covered in other categories\n",
            "\t\t\n",
            "       Elev\tElevator\n",
            "       Gar2\t2nd Garage (if not described in garage section)\n",
            "       Othr\tOther\n",
            "       Shed\tShed (over 100 SF)\n",
            "       TenC\tTennis Court\n",
            "       NA\tNone\n",
            "\t\t\n",
            "MiscVal: $Value of miscellaneous feature\n",
            "\n",
            "MoSold: Month Sold (MM)\n",
            "\n",
            "YrSold: Year Sold (YYYY)\n",
            "\n",
            "SaleType: Type of sale\n",
            "\t\t\n",
            "       WD \tWarranty Deed - Conventional\n",
            "       CWD\tWarranty Deed - Cash\n",
            "       VWD\tWarranty Deed - VA Loan\n",
            "       New\tHome just constructed and sold\n",
            "       COD\tCourt Officer Deed/Estate\n",
            "       Con\tContract 15% Down payment regular terms\n",
            "       ConLw\tContract Low Down payment and low interest\n",
            "       ConLI\tContract Low Interest\n",
            "       ConLD\tContract Low Down\n",
            "       Oth\tOther\n",
            "\t\t\n",
            "SaleCondition: Condition of sale\n",
            "\n",
            "       Normal\tNormal Sale\n",
            "       Abnorml\tAbnormal Sale -  trade, foreclosure, short sale\n",
            "       AdjLand\tAdjoining Land Purchase\n",
            "       Alloca\tAllocation - two linked properties with separate deeds, typically condo with a garage unit\t\n",
            "       Family\tSale between family members\n",
            "       Partial\tHome was not completed when last assessed (associated with New Homes)\n",
            "\n"
          ],
          "name": "stdout"
        }
      ]
    },
    {
      "cell_type": "markdown",
      "metadata": {
        "id": "KTagBiHdlhw9"
      },
      "source": [
        "Qua mô tả, nhóm có các nhận xét sau:\n",
        "- Cần lưu ý tại các cột sau vì việc thiếu dữ liệu của các cột này là có chủ đích:\n",
        "  - `Alley`: kiểu đường hiểm mà căn hộ tiếp xúc => Không tiếp xúc đường hẻm thì sẽ để trống.\n",
        "  - `BsmtQual`, `BsmtCond`, `BsmtExposure`, `BsmtFinType1`, `BsmtFinType2`: các thuộc tính liên quan tới tầng hầm của căn hộ => Không có tầng hầm sẽ để trống.\n",
        "  - `FireplaceQu`: chất lượng lò sưởi => Không có lò sưởi sẽ để trống.\n",
        "  - `GarageType`, `GarageFinish`, `GarageQual`, `GarageCond`: thuộc tính liên quan tới garage => Không có garage sẽ để trống.\n",
        "  - `PoolQC`: chất lượng hồ bơi => Không có hồ bơi sẽ để trống.\n",
        "  - `Fence`: chất lượng hàng rào => Không có hàng rào sẽ để trống.\n",
        "  - `MiscFeature`: một số tiện nghi khác của căn hộ mà không được liệt kê bởi các thuộc tính trong bảng => Không có sẽ để trống.\n",
        "- Có một số thuộc tính có dạng multiple choice -> cần lưu ý khi onehot"
      ]
    },
    {
      "cell_type": "markdown",
      "metadata": {
        "id": "bhk47QRvpZTi"
      },
      "source": [
        "Các kiểu dữ liệu có trong bảng"
      ]
    },
    {
      "cell_type": "code",
      "metadata": {
        "colab": {
          "base_uri": "https://localhost:8080/"
        },
        "id": "czoFIfaaou2B",
        "outputId": "e6f95b05-77ae-42df-deae-fe78a602ed78"
      },
      "source": [
        "data_df.dtypes.unique().tolist()"
      ],
      "execution_count": null,
      "outputs": [
        {
          "output_type": "execute_result",
          "data": {
            "text/plain": [
              "[dtype('int64'), dtype('O'), dtype('float64')]"
            ]
          },
          "metadata": {
            "tags": []
          },
          "execution_count": 10
        }
      ]
    },
    {
      "cell_type": "markdown",
      "metadata": {
        "id": "rqloJFXkpj2B"
      },
      "source": [
        "Như vậy trong bảng có xen kẽ giữa 2 kiểu dữ liệu: categorical (phân loại) và numeric (số)."
      ]
    },
    {
      "cell_type": "markdown",
      "metadata": {
        "id": "e37MyXX5qC1B"
      },
      "source": [
        "### 1.2.2 Thống kê sơ bộ cho các cột"
      ]
    },
    {
      "cell_type": "code",
      "metadata": {
        "id": "tmngvFSyqR2q"
      },
      "source": [
        "cat_cols = data_df.dtypes.index[ data_df.dtypes == 'O' ].tolist()\n",
        "num_cols = data_df.dtypes.index[ data_df.dtypes != 'O' ].tolist()\n",
        "num_cols.remove('SalePrice')"
      ],
      "execution_count": null,
      "outputs": []
    },
    {
      "cell_type": "markdown",
      "metadata": {
        "id": "X6H6ITBBpgJQ"
      },
      "source": [
        "Thống kê cho các cột có kiểu numeric:\n",
        "\n"
      ]
    },
    {
      "cell_type": "code",
      "metadata": {
        "colab": {
          "base_uri": "https://localhost:8080/",
          "height": 317
        },
        "id": "1VDDYBZ6rp-d",
        "outputId": "12b6e5d3-fcd9-4419-ecde-0e69f2301b22"
      },
      "source": [
        "data_df[num_cols].describe()"
      ],
      "execution_count": null,
      "outputs": [
        {
          "output_type": "execute_result",
          "data": {
            "text/html": [
              "<div>\n",
              "<style scoped>\n",
              "    .dataframe tbody tr th:only-of-type {\n",
              "        vertical-align: middle;\n",
              "    }\n",
              "\n",
              "    .dataframe tbody tr th {\n",
              "        vertical-align: top;\n",
              "    }\n",
              "\n",
              "    .dataframe thead th {\n",
              "        text-align: right;\n",
              "    }\n",
              "</style>\n",
              "<table border=\"1\" class=\"dataframe\">\n",
              "  <thead>\n",
              "    <tr style=\"text-align: right;\">\n",
              "      <th></th>\n",
              "      <th>MSSubClass</th>\n",
              "      <th>LotFrontage</th>\n",
              "      <th>LotArea</th>\n",
              "      <th>OverallQual</th>\n",
              "      <th>OverallCond</th>\n",
              "      <th>YearBuilt</th>\n",
              "      <th>YearRemodAdd</th>\n",
              "      <th>MasVnrArea</th>\n",
              "      <th>BsmtFinSF1</th>\n",
              "      <th>BsmtFinSF2</th>\n",
              "      <th>BsmtUnfSF</th>\n",
              "      <th>TotalBsmtSF</th>\n",
              "      <th>1stFlrSF</th>\n",
              "      <th>2ndFlrSF</th>\n",
              "      <th>LowQualFinSF</th>\n",
              "      <th>GrLivArea</th>\n",
              "      <th>BsmtFullBath</th>\n",
              "      <th>BsmtHalfBath</th>\n",
              "      <th>FullBath</th>\n",
              "      <th>HalfBath</th>\n",
              "      <th>BedroomAbvGr</th>\n",
              "      <th>KitchenAbvGr</th>\n",
              "      <th>TotRmsAbvGrd</th>\n",
              "      <th>Fireplaces</th>\n",
              "      <th>GarageYrBlt</th>\n",
              "      <th>GarageCars</th>\n",
              "      <th>GarageArea</th>\n",
              "      <th>WoodDeckSF</th>\n",
              "      <th>OpenPorchSF</th>\n",
              "      <th>EnclosedPorch</th>\n",
              "      <th>3SsnPorch</th>\n",
              "      <th>ScreenPorch</th>\n",
              "      <th>PoolArea</th>\n",
              "      <th>MiscVal</th>\n",
              "      <th>MoSold</th>\n",
              "      <th>YrSold</th>\n",
              "    </tr>\n",
              "  </thead>\n",
              "  <tbody>\n",
              "    <tr>\n",
              "      <th>count</th>\n",
              "      <td>1460.000000</td>\n",
              "      <td>1201.000000</td>\n",
              "      <td>1460.000000</td>\n",
              "      <td>1460.000000</td>\n",
              "      <td>1460.000000</td>\n",
              "      <td>1460.000000</td>\n",
              "      <td>1460.000000</td>\n",
              "      <td>1452.000000</td>\n",
              "      <td>1460.000000</td>\n",
              "      <td>1460.000000</td>\n",
              "      <td>1460.000000</td>\n",
              "      <td>1460.000000</td>\n",
              "      <td>1460.000000</td>\n",
              "      <td>1460.000000</td>\n",
              "      <td>1460.000000</td>\n",
              "      <td>1460.000000</td>\n",
              "      <td>1460.000000</td>\n",
              "      <td>1460.000000</td>\n",
              "      <td>1460.000000</td>\n",
              "      <td>1460.000000</td>\n",
              "      <td>1460.000000</td>\n",
              "      <td>1460.000000</td>\n",
              "      <td>1460.000000</td>\n",
              "      <td>1460.000000</td>\n",
              "      <td>1379.000000</td>\n",
              "      <td>1460.000000</td>\n",
              "      <td>1460.000000</td>\n",
              "      <td>1460.000000</td>\n",
              "      <td>1460.000000</td>\n",
              "      <td>1460.000000</td>\n",
              "      <td>1460.000000</td>\n",
              "      <td>1460.000000</td>\n",
              "      <td>1460.000000</td>\n",
              "      <td>1460.000000</td>\n",
              "      <td>1460.000000</td>\n",
              "      <td>1460.000000</td>\n",
              "    </tr>\n",
              "    <tr>\n",
              "      <th>mean</th>\n",
              "      <td>56.897260</td>\n",
              "      <td>70.049958</td>\n",
              "      <td>10516.828082</td>\n",
              "      <td>6.099315</td>\n",
              "      <td>5.575342</td>\n",
              "      <td>1971.267808</td>\n",
              "      <td>1984.865753</td>\n",
              "      <td>103.685262</td>\n",
              "      <td>443.639726</td>\n",
              "      <td>46.549315</td>\n",
              "      <td>567.240411</td>\n",
              "      <td>1057.429452</td>\n",
              "      <td>1162.626712</td>\n",
              "      <td>346.992466</td>\n",
              "      <td>5.844521</td>\n",
              "      <td>1515.463699</td>\n",
              "      <td>0.425342</td>\n",
              "      <td>0.057534</td>\n",
              "      <td>1.565068</td>\n",
              "      <td>0.382877</td>\n",
              "      <td>2.866438</td>\n",
              "      <td>1.046575</td>\n",
              "      <td>6.517808</td>\n",
              "      <td>0.613014</td>\n",
              "      <td>1978.506164</td>\n",
              "      <td>1.767123</td>\n",
              "      <td>472.980137</td>\n",
              "      <td>94.244521</td>\n",
              "      <td>46.660274</td>\n",
              "      <td>21.954110</td>\n",
              "      <td>3.409589</td>\n",
              "      <td>15.060959</td>\n",
              "      <td>2.758904</td>\n",
              "      <td>43.489041</td>\n",
              "      <td>6.321918</td>\n",
              "      <td>2007.815753</td>\n",
              "    </tr>\n",
              "    <tr>\n",
              "      <th>std</th>\n",
              "      <td>42.300571</td>\n",
              "      <td>24.284752</td>\n",
              "      <td>9981.264932</td>\n",
              "      <td>1.382997</td>\n",
              "      <td>1.112799</td>\n",
              "      <td>30.202904</td>\n",
              "      <td>20.645407</td>\n",
              "      <td>181.066207</td>\n",
              "      <td>456.098091</td>\n",
              "      <td>161.319273</td>\n",
              "      <td>441.866955</td>\n",
              "      <td>438.705324</td>\n",
              "      <td>386.587738</td>\n",
              "      <td>436.528436</td>\n",
              "      <td>48.623081</td>\n",
              "      <td>525.480383</td>\n",
              "      <td>0.518911</td>\n",
              "      <td>0.238753</td>\n",
              "      <td>0.550916</td>\n",
              "      <td>0.502885</td>\n",
              "      <td>0.815778</td>\n",
              "      <td>0.220338</td>\n",
              "      <td>1.625393</td>\n",
              "      <td>0.644666</td>\n",
              "      <td>24.689725</td>\n",
              "      <td>0.747315</td>\n",
              "      <td>213.804841</td>\n",
              "      <td>125.338794</td>\n",
              "      <td>66.256028</td>\n",
              "      <td>61.119149</td>\n",
              "      <td>29.317331</td>\n",
              "      <td>55.757415</td>\n",
              "      <td>40.177307</td>\n",
              "      <td>496.123024</td>\n",
              "      <td>2.703626</td>\n",
              "      <td>1.328095</td>\n",
              "    </tr>\n",
              "    <tr>\n",
              "      <th>min</th>\n",
              "      <td>20.000000</td>\n",
              "      <td>21.000000</td>\n",
              "      <td>1300.000000</td>\n",
              "      <td>1.000000</td>\n",
              "      <td>1.000000</td>\n",
              "      <td>1872.000000</td>\n",
              "      <td>1950.000000</td>\n",
              "      <td>0.000000</td>\n",
              "      <td>0.000000</td>\n",
              "      <td>0.000000</td>\n",
              "      <td>0.000000</td>\n",
              "      <td>0.000000</td>\n",
              "      <td>334.000000</td>\n",
              "      <td>0.000000</td>\n",
              "      <td>0.000000</td>\n",
              "      <td>334.000000</td>\n",
              "      <td>0.000000</td>\n",
              "      <td>0.000000</td>\n",
              "      <td>0.000000</td>\n",
              "      <td>0.000000</td>\n",
              "      <td>0.000000</td>\n",
              "      <td>0.000000</td>\n",
              "      <td>2.000000</td>\n",
              "      <td>0.000000</td>\n",
              "      <td>1900.000000</td>\n",
              "      <td>0.000000</td>\n",
              "      <td>0.000000</td>\n",
              "      <td>0.000000</td>\n",
              "      <td>0.000000</td>\n",
              "      <td>0.000000</td>\n",
              "      <td>0.000000</td>\n",
              "      <td>0.000000</td>\n",
              "      <td>0.000000</td>\n",
              "      <td>0.000000</td>\n",
              "      <td>1.000000</td>\n",
              "      <td>2006.000000</td>\n",
              "    </tr>\n",
              "    <tr>\n",
              "      <th>25%</th>\n",
              "      <td>20.000000</td>\n",
              "      <td>59.000000</td>\n",
              "      <td>7553.500000</td>\n",
              "      <td>5.000000</td>\n",
              "      <td>5.000000</td>\n",
              "      <td>1954.000000</td>\n",
              "      <td>1967.000000</td>\n",
              "      <td>0.000000</td>\n",
              "      <td>0.000000</td>\n",
              "      <td>0.000000</td>\n",
              "      <td>223.000000</td>\n",
              "      <td>795.750000</td>\n",
              "      <td>882.000000</td>\n",
              "      <td>0.000000</td>\n",
              "      <td>0.000000</td>\n",
              "      <td>1129.500000</td>\n",
              "      <td>0.000000</td>\n",
              "      <td>0.000000</td>\n",
              "      <td>1.000000</td>\n",
              "      <td>0.000000</td>\n",
              "      <td>2.000000</td>\n",
              "      <td>1.000000</td>\n",
              "      <td>5.000000</td>\n",
              "      <td>0.000000</td>\n",
              "      <td>1961.000000</td>\n",
              "      <td>1.000000</td>\n",
              "      <td>334.500000</td>\n",
              "      <td>0.000000</td>\n",
              "      <td>0.000000</td>\n",
              "      <td>0.000000</td>\n",
              "      <td>0.000000</td>\n",
              "      <td>0.000000</td>\n",
              "      <td>0.000000</td>\n",
              "      <td>0.000000</td>\n",
              "      <td>5.000000</td>\n",
              "      <td>2007.000000</td>\n",
              "    </tr>\n",
              "    <tr>\n",
              "      <th>50%</th>\n",
              "      <td>50.000000</td>\n",
              "      <td>69.000000</td>\n",
              "      <td>9478.500000</td>\n",
              "      <td>6.000000</td>\n",
              "      <td>5.000000</td>\n",
              "      <td>1973.000000</td>\n",
              "      <td>1994.000000</td>\n",
              "      <td>0.000000</td>\n",
              "      <td>383.500000</td>\n",
              "      <td>0.000000</td>\n",
              "      <td>477.500000</td>\n",
              "      <td>991.500000</td>\n",
              "      <td>1087.000000</td>\n",
              "      <td>0.000000</td>\n",
              "      <td>0.000000</td>\n",
              "      <td>1464.000000</td>\n",
              "      <td>0.000000</td>\n",
              "      <td>0.000000</td>\n",
              "      <td>2.000000</td>\n",
              "      <td>0.000000</td>\n",
              "      <td>3.000000</td>\n",
              "      <td>1.000000</td>\n",
              "      <td>6.000000</td>\n",
              "      <td>1.000000</td>\n",
              "      <td>1980.000000</td>\n",
              "      <td>2.000000</td>\n",
              "      <td>480.000000</td>\n",
              "      <td>0.000000</td>\n",
              "      <td>25.000000</td>\n",
              "      <td>0.000000</td>\n",
              "      <td>0.000000</td>\n",
              "      <td>0.000000</td>\n",
              "      <td>0.000000</td>\n",
              "      <td>0.000000</td>\n",
              "      <td>6.000000</td>\n",
              "      <td>2008.000000</td>\n",
              "    </tr>\n",
              "    <tr>\n",
              "      <th>75%</th>\n",
              "      <td>70.000000</td>\n",
              "      <td>80.000000</td>\n",
              "      <td>11601.500000</td>\n",
              "      <td>7.000000</td>\n",
              "      <td>6.000000</td>\n",
              "      <td>2000.000000</td>\n",
              "      <td>2004.000000</td>\n",
              "      <td>166.000000</td>\n",
              "      <td>712.250000</td>\n",
              "      <td>0.000000</td>\n",
              "      <td>808.000000</td>\n",
              "      <td>1298.250000</td>\n",
              "      <td>1391.250000</td>\n",
              "      <td>728.000000</td>\n",
              "      <td>0.000000</td>\n",
              "      <td>1776.750000</td>\n",
              "      <td>1.000000</td>\n",
              "      <td>0.000000</td>\n",
              "      <td>2.000000</td>\n",
              "      <td>1.000000</td>\n",
              "      <td>3.000000</td>\n",
              "      <td>1.000000</td>\n",
              "      <td>7.000000</td>\n",
              "      <td>1.000000</td>\n",
              "      <td>2002.000000</td>\n",
              "      <td>2.000000</td>\n",
              "      <td>576.000000</td>\n",
              "      <td>168.000000</td>\n",
              "      <td>68.000000</td>\n",
              "      <td>0.000000</td>\n",
              "      <td>0.000000</td>\n",
              "      <td>0.000000</td>\n",
              "      <td>0.000000</td>\n",
              "      <td>0.000000</td>\n",
              "      <td>8.000000</td>\n",
              "      <td>2009.000000</td>\n",
              "    </tr>\n",
              "    <tr>\n",
              "      <th>max</th>\n",
              "      <td>190.000000</td>\n",
              "      <td>313.000000</td>\n",
              "      <td>215245.000000</td>\n",
              "      <td>10.000000</td>\n",
              "      <td>9.000000</td>\n",
              "      <td>2010.000000</td>\n",
              "      <td>2010.000000</td>\n",
              "      <td>1600.000000</td>\n",
              "      <td>5644.000000</td>\n",
              "      <td>1474.000000</td>\n",
              "      <td>2336.000000</td>\n",
              "      <td>6110.000000</td>\n",
              "      <td>4692.000000</td>\n",
              "      <td>2065.000000</td>\n",
              "      <td>572.000000</td>\n",
              "      <td>5642.000000</td>\n",
              "      <td>3.000000</td>\n",
              "      <td>2.000000</td>\n",
              "      <td>3.000000</td>\n",
              "      <td>2.000000</td>\n",
              "      <td>8.000000</td>\n",
              "      <td>3.000000</td>\n",
              "      <td>14.000000</td>\n",
              "      <td>3.000000</td>\n",
              "      <td>2010.000000</td>\n",
              "      <td>4.000000</td>\n",
              "      <td>1418.000000</td>\n",
              "      <td>857.000000</td>\n",
              "      <td>547.000000</td>\n",
              "      <td>552.000000</td>\n",
              "      <td>508.000000</td>\n",
              "      <td>480.000000</td>\n",
              "      <td>738.000000</td>\n",
              "      <td>15500.000000</td>\n",
              "      <td>12.000000</td>\n",
              "      <td>2010.000000</td>\n",
              "    </tr>\n",
              "  </tbody>\n",
              "</table>\n",
              "</div>"
            ],
            "text/plain": [
              "        MSSubClass  LotFrontage  ...       MoSold       YrSold\n",
              "count  1460.000000  1201.000000  ...  1460.000000  1460.000000\n",
              "mean     56.897260    70.049958  ...     6.321918  2007.815753\n",
              "std      42.300571    24.284752  ...     2.703626     1.328095\n",
              "min      20.000000    21.000000  ...     1.000000  2006.000000\n",
              "25%      20.000000    59.000000  ...     5.000000  2007.000000\n",
              "50%      50.000000    69.000000  ...     6.000000  2008.000000\n",
              "75%      70.000000    80.000000  ...     8.000000  2009.000000\n",
              "max     190.000000   313.000000  ...    12.000000  2010.000000\n",
              "\n",
              "[8 rows x 36 columns]"
            ]
          },
          "metadata": {
            "tags": []
          },
          "execution_count": 12
        }
      ]
    },
    {
      "cell_type": "markdown",
      "metadata": {
        "id": "xAyHAATIsAKV"
      },
      "source": [
        "Thống kê cho các cột có kiểu categorical:"
      ]
    },
    {
      "cell_type": "code",
      "metadata": {
        "colab": {
          "base_uri": "https://localhost:8080/",
          "height": 193
        },
        "id": "0P42NchIsFMY",
        "outputId": "b0d2b331-41d0-4662-ec1c-8527e55d4449"
      },
      "source": [
        "data_df[cat_cols].describe()"
      ],
      "execution_count": null,
      "outputs": [
        {
          "output_type": "execute_result",
          "data": {
            "text/html": [
              "<div>\n",
              "<style scoped>\n",
              "    .dataframe tbody tr th:only-of-type {\n",
              "        vertical-align: middle;\n",
              "    }\n",
              "\n",
              "    .dataframe tbody tr th {\n",
              "        vertical-align: top;\n",
              "    }\n",
              "\n",
              "    .dataframe thead th {\n",
              "        text-align: right;\n",
              "    }\n",
              "</style>\n",
              "<table border=\"1\" class=\"dataframe\">\n",
              "  <thead>\n",
              "    <tr style=\"text-align: right;\">\n",
              "      <th></th>\n",
              "      <th>MSZoning</th>\n",
              "      <th>Street</th>\n",
              "      <th>Alley</th>\n",
              "      <th>LotShape</th>\n",
              "      <th>LandContour</th>\n",
              "      <th>Utilities</th>\n",
              "      <th>LotConfig</th>\n",
              "      <th>LandSlope</th>\n",
              "      <th>Neighborhood</th>\n",
              "      <th>Condition1</th>\n",
              "      <th>Condition2</th>\n",
              "      <th>BldgType</th>\n",
              "      <th>HouseStyle</th>\n",
              "      <th>RoofStyle</th>\n",
              "      <th>RoofMatl</th>\n",
              "      <th>Exterior1st</th>\n",
              "      <th>Exterior2nd</th>\n",
              "      <th>MasVnrType</th>\n",
              "      <th>ExterQual</th>\n",
              "      <th>ExterCond</th>\n",
              "      <th>Foundation</th>\n",
              "      <th>BsmtQual</th>\n",
              "      <th>BsmtCond</th>\n",
              "      <th>BsmtExposure</th>\n",
              "      <th>BsmtFinType1</th>\n",
              "      <th>BsmtFinType2</th>\n",
              "      <th>Heating</th>\n",
              "      <th>HeatingQC</th>\n",
              "      <th>CentralAir</th>\n",
              "      <th>Electrical</th>\n",
              "      <th>KitchenQual</th>\n",
              "      <th>Functional</th>\n",
              "      <th>FireplaceQu</th>\n",
              "      <th>GarageType</th>\n",
              "      <th>GarageFinish</th>\n",
              "      <th>GarageQual</th>\n",
              "      <th>GarageCond</th>\n",
              "      <th>PavedDrive</th>\n",
              "      <th>PoolQC</th>\n",
              "      <th>Fence</th>\n",
              "      <th>MiscFeature</th>\n",
              "      <th>SaleType</th>\n",
              "      <th>SaleCondition</th>\n",
              "    </tr>\n",
              "  </thead>\n",
              "  <tbody>\n",
              "    <tr>\n",
              "      <th>count</th>\n",
              "      <td>1460</td>\n",
              "      <td>1460</td>\n",
              "      <td>91</td>\n",
              "      <td>1460</td>\n",
              "      <td>1460</td>\n",
              "      <td>1460</td>\n",
              "      <td>1460</td>\n",
              "      <td>1460</td>\n",
              "      <td>1460</td>\n",
              "      <td>1460</td>\n",
              "      <td>1460</td>\n",
              "      <td>1460</td>\n",
              "      <td>1460</td>\n",
              "      <td>1460</td>\n",
              "      <td>1460</td>\n",
              "      <td>1460</td>\n",
              "      <td>1460</td>\n",
              "      <td>1452</td>\n",
              "      <td>1460</td>\n",
              "      <td>1460</td>\n",
              "      <td>1460</td>\n",
              "      <td>1423</td>\n",
              "      <td>1423</td>\n",
              "      <td>1422</td>\n",
              "      <td>1423</td>\n",
              "      <td>1422</td>\n",
              "      <td>1460</td>\n",
              "      <td>1460</td>\n",
              "      <td>1460</td>\n",
              "      <td>1459</td>\n",
              "      <td>1460</td>\n",
              "      <td>1460</td>\n",
              "      <td>770</td>\n",
              "      <td>1379</td>\n",
              "      <td>1379</td>\n",
              "      <td>1379</td>\n",
              "      <td>1379</td>\n",
              "      <td>1460</td>\n",
              "      <td>7</td>\n",
              "      <td>281</td>\n",
              "      <td>54</td>\n",
              "      <td>1460</td>\n",
              "      <td>1460</td>\n",
              "    </tr>\n",
              "    <tr>\n",
              "      <th>unique</th>\n",
              "      <td>5</td>\n",
              "      <td>2</td>\n",
              "      <td>2</td>\n",
              "      <td>4</td>\n",
              "      <td>4</td>\n",
              "      <td>2</td>\n",
              "      <td>5</td>\n",
              "      <td>3</td>\n",
              "      <td>25</td>\n",
              "      <td>9</td>\n",
              "      <td>8</td>\n",
              "      <td>5</td>\n",
              "      <td>8</td>\n",
              "      <td>6</td>\n",
              "      <td>8</td>\n",
              "      <td>15</td>\n",
              "      <td>16</td>\n",
              "      <td>4</td>\n",
              "      <td>4</td>\n",
              "      <td>5</td>\n",
              "      <td>6</td>\n",
              "      <td>4</td>\n",
              "      <td>4</td>\n",
              "      <td>4</td>\n",
              "      <td>6</td>\n",
              "      <td>6</td>\n",
              "      <td>6</td>\n",
              "      <td>5</td>\n",
              "      <td>2</td>\n",
              "      <td>5</td>\n",
              "      <td>4</td>\n",
              "      <td>7</td>\n",
              "      <td>5</td>\n",
              "      <td>6</td>\n",
              "      <td>3</td>\n",
              "      <td>5</td>\n",
              "      <td>5</td>\n",
              "      <td>3</td>\n",
              "      <td>3</td>\n",
              "      <td>4</td>\n",
              "      <td>4</td>\n",
              "      <td>9</td>\n",
              "      <td>6</td>\n",
              "    </tr>\n",
              "    <tr>\n",
              "      <th>top</th>\n",
              "      <td>RL</td>\n",
              "      <td>Pave</td>\n",
              "      <td>Grvl</td>\n",
              "      <td>Reg</td>\n",
              "      <td>Lvl</td>\n",
              "      <td>AllPub</td>\n",
              "      <td>Inside</td>\n",
              "      <td>Gtl</td>\n",
              "      <td>NAmes</td>\n",
              "      <td>Norm</td>\n",
              "      <td>Norm</td>\n",
              "      <td>1Fam</td>\n",
              "      <td>1Story</td>\n",
              "      <td>Gable</td>\n",
              "      <td>CompShg</td>\n",
              "      <td>VinylSd</td>\n",
              "      <td>VinylSd</td>\n",
              "      <td>None</td>\n",
              "      <td>TA</td>\n",
              "      <td>TA</td>\n",
              "      <td>PConc</td>\n",
              "      <td>TA</td>\n",
              "      <td>TA</td>\n",
              "      <td>No</td>\n",
              "      <td>Unf</td>\n",
              "      <td>Unf</td>\n",
              "      <td>GasA</td>\n",
              "      <td>Ex</td>\n",
              "      <td>Y</td>\n",
              "      <td>SBrkr</td>\n",
              "      <td>TA</td>\n",
              "      <td>Typ</td>\n",
              "      <td>Gd</td>\n",
              "      <td>Attchd</td>\n",
              "      <td>Unf</td>\n",
              "      <td>TA</td>\n",
              "      <td>TA</td>\n",
              "      <td>Y</td>\n",
              "      <td>Gd</td>\n",
              "      <td>MnPrv</td>\n",
              "      <td>Shed</td>\n",
              "      <td>WD</td>\n",
              "      <td>Normal</td>\n",
              "    </tr>\n",
              "    <tr>\n",
              "      <th>freq</th>\n",
              "      <td>1151</td>\n",
              "      <td>1454</td>\n",
              "      <td>50</td>\n",
              "      <td>925</td>\n",
              "      <td>1311</td>\n",
              "      <td>1459</td>\n",
              "      <td>1052</td>\n",
              "      <td>1382</td>\n",
              "      <td>225</td>\n",
              "      <td>1260</td>\n",
              "      <td>1445</td>\n",
              "      <td>1220</td>\n",
              "      <td>726</td>\n",
              "      <td>1141</td>\n",
              "      <td>1434</td>\n",
              "      <td>515</td>\n",
              "      <td>504</td>\n",
              "      <td>864</td>\n",
              "      <td>906</td>\n",
              "      <td>1282</td>\n",
              "      <td>647</td>\n",
              "      <td>649</td>\n",
              "      <td>1311</td>\n",
              "      <td>953</td>\n",
              "      <td>430</td>\n",
              "      <td>1256</td>\n",
              "      <td>1428</td>\n",
              "      <td>741</td>\n",
              "      <td>1365</td>\n",
              "      <td>1334</td>\n",
              "      <td>735</td>\n",
              "      <td>1360</td>\n",
              "      <td>380</td>\n",
              "      <td>870</td>\n",
              "      <td>605</td>\n",
              "      <td>1311</td>\n",
              "      <td>1326</td>\n",
              "      <td>1340</td>\n",
              "      <td>3</td>\n",
              "      <td>157</td>\n",
              "      <td>49</td>\n",
              "      <td>1267</td>\n",
              "      <td>1198</td>\n",
              "    </tr>\n",
              "  </tbody>\n",
              "</table>\n",
              "</div>"
            ],
            "text/plain": [
              "       MSZoning Street Alley LotShape  ...  Fence MiscFeature SaleType SaleCondition\n",
              "count      1460   1460    91     1460  ...    281          54     1460          1460\n",
              "unique        5      2     2        4  ...      4           4        9             6\n",
              "top          RL   Pave  Grvl      Reg  ...  MnPrv        Shed       WD        Normal\n",
              "freq       1151   1454    50      925  ...    157          49     1267          1198\n",
              "\n",
              "[4 rows x 43 columns]"
            ]
          },
          "metadata": {
            "tags": []
          },
          "execution_count": 13
        }
      ]
    },
    {
      "cell_type": "markdown",
      "metadata": {
        "id": "KdqzeX56FP2s"
      },
      "source": [
        "## 1.3 Khám phá cột giá nhà"
      ]
    },
    {
      "cell_type": "code",
      "metadata": {
        "colab": {
          "base_uri": "https://localhost:8080/"
        },
        "id": "3-UOy9GYxpQm",
        "outputId": "f6cde7b2-bc2d-4829-f80d-fed324d13d6a"
      },
      "source": [
        "data_df['SalePrice'].describe()"
      ],
      "execution_count": null,
      "outputs": [
        {
          "output_type": "execute_result",
          "data": {
            "text/plain": [
              "count      1460.000000\n",
              "mean     180921.195890\n",
              "std       79442.502883\n",
              "min       34900.000000\n",
              "25%      129975.000000\n",
              "50%      163000.000000\n",
              "75%      214000.000000\n",
              "max      755000.000000\n",
              "Name: SalePrice, dtype: float64"
            ]
          },
          "metadata": {
            "tags": []
          },
          "execution_count": 14
        }
      ]
    },
    {
      "cell_type": "code",
      "metadata": {
        "colab": {
          "base_uri": "https://localhost:8080/",
          "height": 518
        },
        "id": "5-_V4Bd7xquI",
        "outputId": "6d927ded-b039-4dde-cd39-bf97d858fe5a"
      },
      "source": [
        "sns.set(rc={'figure.figsize':(16,8)})\n",
        "sns.histplot(data_df['SalePrice'],kde=True)"
      ],
      "execution_count": null,
      "outputs": [
        {
          "output_type": "execute_result",
          "data": {
            "text/plain": [
              "<matplotlib.axes._subplots.AxesSubplot at 0x7fcaa7a09310>"
            ]
          },
          "metadata": {
            "tags": []
          },
          "execution_count": 15
        },
        {
          "output_type": "display_data",
          "data": {
            "image/png": "[encoded data removed]",
            "text/plain": [
              "<Figure size 1152x576 with 1 Axes>"
            ]
          },
          "metadata": {
            "tags": [],
            "image/png": {
              "width": 953,
              "height": 484
            }
          }
        }
      ]
    },
    {
      "cell_type": "code",
      "metadata": {
        "colab": {
          "base_uri": "https://localhost:8080/"
        },
        "id": "QqEdM2_70HiW",
        "outputId": "9b017bef-f131-432b-b35d-6f3ea7c08519"
      },
      "source": [
        "print(\"Skewness: \",round(data_df['SalePrice'].skew(),4))\n",
        "print(\"Kurtosis: \",round(data_df['SalePrice'].kurt(),4))"
      ],
      "execution_count": null,
      "outputs": [
        {
          "output_type": "stream",
          "text": [
            "Skewness:  1.8829\n",
            "Kurtosis:  6.5363\n"
          ],
          "name": "stdout"
        }
      ]
    },
    {
      "cell_type": "markdown",
      "metadata": {
        "id": "E7Ucp_ICMoHz"
      },
      "source": [
        "## 1.4 Khám phá dữ liệu thiếu"
      ]
    },
    {
      "cell_type": "code",
      "metadata": {
        "id": "aE4Mf3cd5FNx"
      },
      "source": [
        "missing = data_df.isnull().sum()\n",
        "missing = missing[missing > 0]\n",
        "missing_stats = pd.DataFrame({\n",
        "  'Column Name': missing.index,\n",
        "  'Count': missing.to_list(),\n",
        "  'Ratio': np.round(missing/data_df.shape[0]*100,2).to_list()  \n",
        "})"
      ],
      "execution_count": null,
      "outputs": []
    },
    {
      "cell_type": "code",
      "metadata": {
        "colab": {
          "base_uri": "https://localhost:8080/",
          "height": 439
        },
        "id": "1dbSgiu-4VTi",
        "outputId": "6bac03cc-f9c3-4485-b2ac-1f2dd84459d5"
      },
      "source": [
        "cm = sns.light_palette(\"red\", as_cmap=True)\n",
        "missing_stats.style.background_gradient(cmap=cm)"
      ],
      "execution_count": null,
      "outputs": [
        {
          "output_type": "execute_result",
          "data": {
            "text/html": [
              "<style  type=\"text/css\" >\n",
              "#T_493848a0_bfac_11eb_ad7c_0242ac1c0002row0_col1,#T_493848a0_bfac_11eb_ad7c_0242ac1c0002row0_col2{\n",
              "            background-color:  #f5c6c6;\n",
              "            color:  #000000;\n",
              "        }#T_493848a0_bfac_11eb_ad7c_0242ac1c0002row1_col1,#T_493848a0_bfac_11eb_ad7c_0242ac1c0002row1_col2{\n",
              "            background-color:  #fe0d0d;\n",
              "            color:  #f1f1f1;\n",
              "        }#T_493848a0_bfac_11eb_ad7c_0242ac1c0002row2_col1,#T_493848a0_bfac_11eb_ad7c_0242ac1c0002row2_col2,#T_493848a0_bfac_11eb_ad7c_0242ac1c0002row3_col1,#T_493848a0_bfac_11eb_ad7c_0242ac1c0002row3_col2{\n",
              "            background-color:  #f3efef;\n",
              "            color:  #000000;\n",
              "        }#T_493848a0_bfac_11eb_ad7c_0242ac1c0002row4_col1,#T_493848a0_bfac_11eb_ad7c_0242ac1c0002row4_col2,#T_493848a0_bfac_11eb_ad7c_0242ac1c0002row5_col1,#T_493848a0_bfac_11eb_ad7c_0242ac1c0002row5_col2,#T_493848a0_bfac_11eb_ad7c_0242ac1c0002row6_col1,#T_493848a0_bfac_11eb_ad7c_0242ac1c0002row6_col2,#T_493848a0_bfac_11eb_ad7c_0242ac1c0002row7_col1,#T_493848a0_bfac_11eb_ad7c_0242ac1c0002row7_col2,#T_493848a0_bfac_11eb_ad7c_0242ac1c0002row8_col1,#T_493848a0_bfac_11eb_ad7c_0242ac1c0002row8_col2{\n",
              "            background-color:  #f3eaea;\n",
              "            color:  #000000;\n",
              "        }#T_493848a0_bfac_11eb_ad7c_0242ac1c0002row9_col1,#T_493848a0_bfac_11eb_ad7c_0242ac1c0002row9_col2{\n",
              "            background-color:  #f3f0f0;\n",
              "            color:  #000000;\n",
              "        }#T_493848a0_bfac_11eb_ad7c_0242ac1c0002row10_col1,#T_493848a0_bfac_11eb_ad7c_0242ac1c0002row10_col2{\n",
              "            background-color:  #f97e7e;\n",
              "            color:  #000000;\n",
              "        }#T_493848a0_bfac_11eb_ad7c_0242ac1c0002row11_col1,#T_493848a0_bfac_11eb_ad7c_0242ac1c0002row11_col2,#T_493848a0_bfac_11eb_ad7c_0242ac1c0002row12_col1,#T_493848a0_bfac_11eb_ad7c_0242ac1c0002row12_col2,#T_493848a0_bfac_11eb_ad7c_0242ac1c0002row13_col1,#T_493848a0_bfac_11eb_ad7c_0242ac1c0002row13_col2,#T_493848a0_bfac_11eb_ad7c_0242ac1c0002row14_col1,#T_493848a0_bfac_11eb_ad7c_0242ac1c0002row14_col2,#T_493848a0_bfac_11eb_ad7c_0242ac1c0002row15_col1,#T_493848a0_bfac_11eb_ad7c_0242ac1c0002row15_col2{\n",
              "            background-color:  #f3e3e3;\n",
              "            color:  #000000;\n",
              "        }#T_493848a0_bfac_11eb_ad7c_0242ac1c0002row16_col1,#T_493848a0_bfac_11eb_ad7c_0242ac1c0002row16_col2{\n",
              "            background-color:  #ff0000;\n",
              "            color:  #f1f1f1;\n",
              "        }#T_493848a0_bfac_11eb_ad7c_0242ac1c0002row17_col1,#T_493848a0_bfac_11eb_ad7c_0242ac1c0002row17_col2{\n",
              "            background-color:  #fd2d2d;\n",
              "            color:  #f1f1f1;\n",
              "        }#T_493848a0_bfac_11eb_ad7c_0242ac1c0002row18_col1,#T_493848a0_bfac_11eb_ad7c_0242ac1c0002row18_col2{\n",
              "            background-color:  #ff0808;\n",
              "            color:  #f1f1f1;\n",
              "        }</style><table id=\"T_493848a0_bfac_11eb_ad7c_0242ac1c0002\" ><thead>    <tr>        <th class=\"blank level0\" ></th>        <th class=\"col_heading level0 col0\" >Column Name</th>        <th class=\"col_heading level0 col1\" >Count</th>        <th class=\"col_heading level0 col2\" >Ratio</th>    </tr></thead><tbody>\n",
              "                <tr>\n",
              "                        <th id=\"T_493848a0_bfac_11eb_ad7c_0242ac1c0002level0_row0\" class=\"row_heading level0 row0\" >0</th>\n",
              "                        <td id=\"T_493848a0_bfac_11eb_ad7c_0242ac1c0002row0_col0\" class=\"data row0 col0\" >LotFrontage</td>\n",
              "                        <td id=\"T_493848a0_bfac_11eb_ad7c_0242ac1c0002row0_col1\" class=\"data row0 col1\" >259</td>\n",
              "                        <td id=\"T_493848a0_bfac_11eb_ad7c_0242ac1c0002row0_col2\" class=\"data row0 col2\" >17.740000</td>\n",
              "            </tr>\n",
              "            <tr>\n",
              "                        <th id=\"T_493848a0_bfac_11eb_ad7c_0242ac1c0002level0_row1\" class=\"row_heading level0 row1\" >1</th>\n",
              "                        <td id=\"T_493848a0_bfac_11eb_ad7c_0242ac1c0002row1_col0\" class=\"data row1 col0\" >Alley</td>\n",
              "                        <td id=\"T_493848a0_bfac_11eb_ad7c_0242ac1c0002row1_col1\" class=\"data row1 col1\" >1369</td>\n",
              "                        <td id=\"T_493848a0_bfac_11eb_ad7c_0242ac1c0002row1_col2\" class=\"data row1 col2\" >93.770000</td>\n",
              "            </tr>\n",
              "            <tr>\n",
              "                        <th id=\"T_493848a0_bfac_11eb_ad7c_0242ac1c0002level0_row2\" class=\"row_heading level0 row2\" >2</th>\n",
              "                        <td id=\"T_493848a0_bfac_11eb_ad7c_0242ac1c0002row2_col0\" class=\"data row2 col0\" >MasVnrType</td>\n",
              "                        <td id=\"T_493848a0_bfac_11eb_ad7c_0242ac1c0002row2_col1\" class=\"data row2 col1\" >8</td>\n",
              "                        <td id=\"T_493848a0_bfac_11eb_ad7c_0242ac1c0002row2_col2\" class=\"data row2 col2\" >0.550000</td>\n",
              "            </tr>\n",
              "            <tr>\n",
              "                        <th id=\"T_493848a0_bfac_11eb_ad7c_0242ac1c0002level0_row3\" class=\"row_heading level0 row3\" >3</th>\n",
              "                        <td id=\"T_493848a0_bfac_11eb_ad7c_0242ac1c0002row3_col0\" class=\"data row3 col0\" >MasVnrArea</td>\n",
              "                        <td id=\"T_493848a0_bfac_11eb_ad7c_0242ac1c0002row3_col1\" class=\"data row3 col1\" >8</td>\n",
              "                        <td id=\"T_493848a0_bfac_11eb_ad7c_0242ac1c0002row3_col2\" class=\"data row3 col2\" >0.550000</td>\n",
              "            </tr>\n",
              "            <tr>\n",
              "                        <th id=\"T_493848a0_bfac_11eb_ad7c_0242ac1c0002level0_row4\" class=\"row_heading level0 row4\" >4</th>\n",
              "                        <td id=\"T_493848a0_bfac_11eb_ad7c_0242ac1c0002row4_col0\" class=\"data row4 col0\" >BsmtQual</td>\n",
              "                        <td id=\"T_493848a0_bfac_11eb_ad7c_0242ac1c0002row4_col1\" class=\"data row4 col1\" >37</td>\n",
              "                        <td id=\"T_493848a0_bfac_11eb_ad7c_0242ac1c0002row4_col2\" class=\"data row4 col2\" >2.530000</td>\n",
              "            </tr>\n",
              "            <tr>\n",
              "                        <th id=\"T_493848a0_bfac_11eb_ad7c_0242ac1c0002level0_row5\" class=\"row_heading level0 row5\" >5</th>\n",
              "                        <td id=\"T_493848a0_bfac_11eb_ad7c_0242ac1c0002row5_col0\" class=\"data row5 col0\" >BsmtCond</td>\n",
              "                        <td id=\"T_493848a0_bfac_11eb_ad7c_0242ac1c0002row5_col1\" class=\"data row5 col1\" >37</td>\n",
              "                        <td id=\"T_493848a0_bfac_11eb_ad7c_0242ac1c0002row5_col2\" class=\"data row5 col2\" >2.530000</td>\n",
              "            </tr>\n",
              "            <tr>\n",
              "                        <th id=\"T_493848a0_bfac_11eb_ad7c_0242ac1c0002level0_row6\" class=\"row_heading level0 row6\" >6</th>\n",
              "                        <td id=\"T_493848a0_bfac_11eb_ad7c_0242ac1c0002row6_col0\" class=\"data row6 col0\" >BsmtExposure</td>\n",
              "                        <td id=\"T_493848a0_bfac_11eb_ad7c_0242ac1c0002row6_col1\" class=\"data row6 col1\" >38</td>\n",
              "                        <td id=\"T_493848a0_bfac_11eb_ad7c_0242ac1c0002row6_col2\" class=\"data row6 col2\" >2.600000</td>\n",
              "            </tr>\n",
              "            <tr>\n",
              "                        <th id=\"T_493848a0_bfac_11eb_ad7c_0242ac1c0002level0_row7\" class=\"row_heading level0 row7\" >7</th>\n",
              "                        <td id=\"T_493848a0_bfac_11eb_ad7c_0242ac1c0002row7_col0\" class=\"data row7 col0\" >BsmtFinType1</td>\n",
              "                        <td id=\"T_493848a0_bfac_11eb_ad7c_0242ac1c0002row7_col1\" class=\"data row7 col1\" >37</td>\n",
              "                        <td id=\"T_493848a0_bfac_11eb_ad7c_0242ac1c0002row7_col2\" class=\"data row7 col2\" >2.530000</td>\n",
              "            </tr>\n",
              "            <tr>\n",
              "                        <th id=\"T_493848a0_bfac_11eb_ad7c_0242ac1c0002level0_row8\" class=\"row_heading level0 row8\" >8</th>\n",
              "                        <td id=\"T_493848a0_bfac_11eb_ad7c_0242ac1c0002row8_col0\" class=\"data row8 col0\" >BsmtFinType2</td>\n",
              "                        <td id=\"T_493848a0_bfac_11eb_ad7c_0242ac1c0002row8_col1\" class=\"data row8 col1\" >38</td>\n",
              "                        <td id=\"T_493848a0_bfac_11eb_ad7c_0242ac1c0002row8_col2\" class=\"data row8 col2\" >2.600000</td>\n",
              "            </tr>\n",
              "            <tr>\n",
              "                        <th id=\"T_493848a0_bfac_11eb_ad7c_0242ac1c0002level0_row9\" class=\"row_heading level0 row9\" >9</th>\n",
              "                        <td id=\"T_493848a0_bfac_11eb_ad7c_0242ac1c0002row9_col0\" class=\"data row9 col0\" >Electrical</td>\n",
              "                        <td id=\"T_493848a0_bfac_11eb_ad7c_0242ac1c0002row9_col1\" class=\"data row9 col1\" >1</td>\n",
              "                        <td id=\"T_493848a0_bfac_11eb_ad7c_0242ac1c0002row9_col2\" class=\"data row9 col2\" >0.070000</td>\n",
              "            </tr>\n",
              "            <tr>\n",
              "                        <th id=\"T_493848a0_bfac_11eb_ad7c_0242ac1c0002level0_row10\" class=\"row_heading level0 row10\" >10</th>\n",
              "                        <td id=\"T_493848a0_bfac_11eb_ad7c_0242ac1c0002row10_col0\" class=\"data row10 col0\" >FireplaceQu</td>\n",
              "                        <td id=\"T_493848a0_bfac_11eb_ad7c_0242ac1c0002row10_col1\" class=\"data row10 col1\" >690</td>\n",
              "                        <td id=\"T_493848a0_bfac_11eb_ad7c_0242ac1c0002row10_col2\" class=\"data row10 col2\" >47.260000</td>\n",
              "            </tr>\n",
              "            <tr>\n",
              "                        <th id=\"T_493848a0_bfac_11eb_ad7c_0242ac1c0002level0_row11\" class=\"row_heading level0 row11\" >11</th>\n",
              "                        <td id=\"T_493848a0_bfac_11eb_ad7c_0242ac1c0002row11_col0\" class=\"data row11 col0\" >GarageType</td>\n",
              "                        <td id=\"T_493848a0_bfac_11eb_ad7c_0242ac1c0002row11_col1\" class=\"data row11 col1\" >81</td>\n",
              "                        <td id=\"T_493848a0_bfac_11eb_ad7c_0242ac1c0002row11_col2\" class=\"data row11 col2\" >5.550000</td>\n",
              "            </tr>\n",
              "            <tr>\n",
              "                        <th id=\"T_493848a0_bfac_11eb_ad7c_0242ac1c0002level0_row12\" class=\"row_heading level0 row12\" >12</th>\n",
              "                        <td id=\"T_493848a0_bfac_11eb_ad7c_0242ac1c0002row12_col0\" class=\"data row12 col0\" >GarageYrBlt</td>\n",
              "                        <td id=\"T_493848a0_bfac_11eb_ad7c_0242ac1c0002row12_col1\" class=\"data row12 col1\" >81</td>\n",
              "                        <td id=\"T_493848a0_bfac_11eb_ad7c_0242ac1c0002row12_col2\" class=\"data row12 col2\" >5.550000</td>\n",
              "            </tr>\n",
              "            <tr>\n",
              "                        <th id=\"T_493848a0_bfac_11eb_ad7c_0242ac1c0002level0_row13\" class=\"row_heading level0 row13\" >13</th>\n",
              "                        <td id=\"T_493848a0_bfac_11eb_ad7c_0242ac1c0002row13_col0\" class=\"data row13 col0\" >GarageFinish</td>\n",
              "                        <td id=\"T_493848a0_bfac_11eb_ad7c_0242ac1c0002row13_col1\" class=\"data row13 col1\" >81</td>\n",
              "                        <td id=\"T_493848a0_bfac_11eb_ad7c_0242ac1c0002row13_col2\" class=\"data row13 col2\" >5.550000</td>\n",
              "            </tr>\n",
              "            <tr>\n",
              "                        <th id=\"T_493848a0_bfac_11eb_ad7c_0242ac1c0002level0_row14\" class=\"row_heading level0 row14\" >14</th>\n",
              "                        <td id=\"T_493848a0_bfac_11eb_ad7c_0242ac1c0002row14_col0\" class=\"data row14 col0\" >GarageQual</td>\n",
              "                        <td id=\"T_493848a0_bfac_11eb_ad7c_0242ac1c0002row14_col1\" class=\"data row14 col1\" >81</td>\n",
              "                        <td id=\"T_493848a0_bfac_11eb_ad7c_0242ac1c0002row14_col2\" class=\"data row14 col2\" >5.550000</td>\n",
              "            </tr>\n",
              "            <tr>\n",
              "                        <th id=\"T_493848a0_bfac_11eb_ad7c_0242ac1c0002level0_row15\" class=\"row_heading level0 row15\" >15</th>\n",
              "                        <td id=\"T_493848a0_bfac_11eb_ad7c_0242ac1c0002row15_col0\" class=\"data row15 col0\" >GarageCond</td>\n",
              "                        <td id=\"T_493848a0_bfac_11eb_ad7c_0242ac1c0002row15_col1\" class=\"data row15 col1\" >81</td>\n",
              "                        <td id=\"T_493848a0_bfac_11eb_ad7c_0242ac1c0002row15_col2\" class=\"data row15 col2\" >5.550000</td>\n",
              "            </tr>\n",
              "            <tr>\n",
              "                        <th id=\"T_493848a0_bfac_11eb_ad7c_0242ac1c0002level0_row16\" class=\"row_heading level0 row16\" >16</th>\n",
              "                        <td id=\"T_493848a0_bfac_11eb_ad7c_0242ac1c0002row16_col0\" class=\"data row16 col0\" >PoolQC</td>\n",
              "                        <td id=\"T_493848a0_bfac_11eb_ad7c_0242ac1c0002row16_col1\" class=\"data row16 col1\" >1453</td>\n",
              "                        <td id=\"T_493848a0_bfac_11eb_ad7c_0242ac1c0002row16_col2\" class=\"data row16 col2\" >99.520000</td>\n",
              "            </tr>\n",
              "            <tr>\n",
              "                        <th id=\"T_493848a0_bfac_11eb_ad7c_0242ac1c0002level0_row17\" class=\"row_heading level0 row17\" >17</th>\n",
              "                        <td id=\"T_493848a0_bfac_11eb_ad7c_0242ac1c0002row17_col0\" class=\"data row17 col0\" >Fence</td>\n",
              "                        <td id=\"T_493848a0_bfac_11eb_ad7c_0242ac1c0002row17_col1\" class=\"data row17 col1\" >1179</td>\n",
              "                        <td id=\"T_493848a0_bfac_11eb_ad7c_0242ac1c0002row17_col2\" class=\"data row17 col2\" >80.750000</td>\n",
              "            </tr>\n",
              "            <tr>\n",
              "                        <th id=\"T_493848a0_bfac_11eb_ad7c_0242ac1c0002level0_row18\" class=\"row_heading level0 row18\" >18</th>\n",
              "                        <td id=\"T_493848a0_bfac_11eb_ad7c_0242ac1c0002row18_col0\" class=\"data row18 col0\" >MiscFeature</td>\n",
              "                        <td id=\"T_493848a0_bfac_11eb_ad7c_0242ac1c0002row18_col1\" class=\"data row18 col1\" >1406</td>\n",
              "                        <td id=\"T_493848a0_bfac_11eb_ad7c_0242ac1c0002row18_col2\" class=\"data row18 col2\" >96.300000</td>\n",
              "            </tr>\n",
              "    </tbody></table>"
            ],
            "text/plain": [
              "<pandas.io.formats.style.Styler at 0x7fca9ddbb550>"
            ]
          },
          "metadata": {
            "tags": []
          },
          "execution_count": 18
        }
      ]
    },
    {
      "cell_type": "code",
      "metadata": {
        "colab": {
          "base_uri": "https://localhost:8080/",
          "height": 627
        },
        "id": "aOLMgS2MMp1o",
        "outputId": "737c3027-78a9-4cfd-810f-6495d5695418"
      },
      "source": [
        "ax = missing.sort_values().plot.barh(figsize=(15,10))\n",
        "ax.set_xlabel('Missing Count')"
      ],
      "execution_count": null,
      "outputs": [
        {
          "output_type": "execute_result",
          "data": {
            "text/plain": [
              "Text(0.5, 0, 'Missing Count')"
            ]
          },
          "metadata": {
            "tags": []
          },
          "execution_count": 19
        },
        {
          "output_type": "display_data",
          "data": {
            "image/png": "[encoded data removed]",
            "text/plain": [
              "<Figure size 1080x720 with 1 Axes>"
            ]
          },
          "metadata": {
            "tags": [],
            "image/png": {
              "width": 940,
              "height": 593
            }
          }
        }
      ]
    },
    {
      "cell_type": "markdown",
      "metadata": {
        "id": "onHQh3m9KTc0"
      },
      "source": [
        "Dựa vào những nhận xét từ file mô tả dữ liệu, những dữ liệu thiếu ở đây hầu như đều có chủ đích. Tuy nhiên có một số cột sau không được đề cập ở trên lại xuất hiện:\n",
        "- `LotFrontage`\n",
        "- `MasVnrType`, `MasVnrArea`\n",
        "- `Electrical`"
      ]
    },
    {
      "cell_type": "markdown",
      "metadata": {
        "id": "0VNz3tU7P_iw"
      },
      "source": [
        "# 2.Preprocess"
      ]
    },
    {
      "cell_type": "markdown",
      "metadata": {
        "id": "zzlgldd_xCiI"
      },
      "source": [
        "## 2.0 New feature"
      ]
    },
    {
      "cell_type": "code",
      "metadata": {
        "id": "8ajRv0DIxE_O"
      },
      "source": [
        "data_df['YrBltAndRemod']=data_df['YearBuilt']+data_df['YearRemodAdd']\n",
        "data_df['TotalSF']=data_df['TotalBsmtSF'] + data_df['1stFlrSF'] + data_df['2ndFlrSF']\n",
        "\n",
        "data_df['Total_sqr_footage'] = (data_df['BsmtFinSF1'] + data_df['BsmtFinSF2'] +\n",
        "                                 data_df['1stFlrSF'] + data_df['2ndFlrSF'])\n",
        "\n",
        "data_df['Total_Bathrooms'] = (data_df['FullBath'] + (0.5 * data_df['HalfBath']) +\n",
        "                               data_df['BsmtFullBath'] + (0.5 * data_df['BsmtHalfBath']))\n",
        "\n",
        "data_df['Total_porch_sf'] = (data_df['OpenPorchSF'] + data_df['3SsnPorch'] +\n",
        "                              data_df['EnclosedPorch'] + data_df['ScreenPorch'] +\n",
        "                              data_df['WoodDeckSF'])\n",
        "\n",
        "# simplified features\n",
        "data_df['haspool'] = data_df['PoolArea'].apply(lambda x: 1 if x > 0 else 0)\n",
        "data_df['has2ndfloor'] = data_df['2ndFlrSF'].apply(lambda x: 1 if x > 0 else 0)\n",
        "data_df['hasgarage'] = data_df['GarageArea'].apply(lambda x: 1 if x > 0 else 0)\n",
        "data_df['hasbsmt'] = data_df['TotalBsmtSF'].apply(lambda x: 1 if x > 0 else 0)\n",
        "data_df['hasfireplace'] = data_df['Fireplaces'].apply(lambda x: 1 if x > 0 else 0)"
      ],
      "execution_count": null,
      "outputs": []
    },
    {
      "cell_type": "code",
      "metadata": {
        "id": "t1vCSUCuzxGB"
      },
      "source": [
        "test_X['YrBltAndRemod']=test_X['YearBuilt']+test_X['YearRemodAdd']\n",
        "test_X['TotalSF']=test_X['TotalBsmtSF'] + test_X['1stFlrSF'] + test_X['2ndFlrSF']\n",
        "\n",
        "test_X['Total_sqr_footage'] = (test_X['BsmtFinSF1'] + test_X['BsmtFinSF2'] +\n",
        "                                 test_X['1stFlrSF'] + test_X['2ndFlrSF'])\n",
        "\n",
        "test_X['Total_Bathrooms'] = (test_X['FullBath'] + (0.5 * test_X['HalfBath']) +\n",
        "                               test_X['BsmtFullBath'] + (0.5 * test_X['BsmtHalfBath']))\n",
        "\n",
        "test_X['Total_porch_sf'] = (test_X['OpenPorchSF'] + test_X['3SsnPorch'] +\n",
        "                              test_X['EnclosedPorch'] + test_X['ScreenPorch'] +\n",
        "                              test_X['WoodDeckSF'])\n",
        "\n",
        "# simplified features\n",
        "test_X['haspool'] = test_X['PoolArea'].apply(lambda x: 1 if x > 0 else 0)\n",
        "test_X['has2ndfloor'] = test_X['2ndFlrSF'].apply(lambda x: 1 if x > 0 else 0)\n",
        "test_X['hasgarage'] = test_X['GarageArea'].apply(lambda x: 1 if x > 0 else 0)\n",
        "test_X['hasbsmt'] = test_X['TotalBsmtSF'].apply(lambda x: 1 if x > 0 else 0)\n",
        "test_X['hasfireplace'] = test_X['Fireplaces'].apply(lambda x: 1 if x > 0 else 0)"
      ],
      "execution_count": null,
      "outputs": []
    },
    {
      "cell_type": "markdown",
      "metadata": {
        "id": "s6n9Y_4B-iHn"
      },
      "source": [
        "## 2.1 Log và Exp transformation"
      ]
    },
    {
      "cell_type": "code",
      "metadata": {
        "colab": {
          "base_uri": "https://localhost:8080/"
        },
        "id": "WHpyhTPhq39u",
        "outputId": "e0456cf2-6138-4d15-a331-2c27835ff608"
      },
      "source": [
        "test_y = np.log1p(test_y)\n",
        "data_df[\"SalePrice\"] = np.log1p(data_df[\"SalePrice\"])\n",
        "data_df[\"SalePrice\"]"
      ],
      "execution_count": null,
      "outputs": [
        {
          "output_type": "execute_result",
          "data": {
            "text/plain": [
              "Id\n",
              "1       12.247699\n",
              "2       12.109016\n",
              "3       12.317171\n",
              "4       11.849405\n",
              "5       12.429220\n",
              "          ...    \n",
              "1456    12.072547\n",
              "1457    12.254868\n",
              "1458    12.493133\n",
              "1459    11.864469\n",
              "1460    11.901590\n",
              "Name: SalePrice, Length: 1460, dtype: float64"
            ]
          },
          "metadata": {
            "tags": []
          },
          "execution_count": 22
        }
      ]
    },
    {
      "cell_type": "code",
      "metadata": {
        "id": "Tw0tVP87rBQS"
      },
      "source": [
        "#biến đổi log cho dữ liệu số bị skewed\n",
        "numeric_feats = data_df.dtypes[data_df.dtypes != \"object\"].index\n",
        "\n",
        "skewed_feats = data_df[numeric_feats].apply(lambda x: skew(x.dropna())) \n",
        "skewed_feats_pos = skewed_feats[(skewed_feats > 0.75)]\n",
        "skewed_feats_neg = skewed_feats[(skewed_feats < -0.75)]\n",
        "\n",
        "skewed_feats_pos = skewed_feats_pos.index\n",
        "skewed_feats_neg = skewed_feats_neg.index\n",
        "\n",
        "data_df[skewed_feats_pos] = np.log1p(data_df[skewed_feats_pos])\n",
        "data_df[skewed_feats_neg] = np.expm1(data_df[skewed_feats_neg])\n",
        "test_X[skewed_feats_pos] = np.log1p(test_X[skewed_feats_pos])\n",
        "test_X[skewed_feats_neg] = np.expm1(test_X[skewed_feats_neg])"
      ],
      "execution_count": null,
      "outputs": []
    },
    {
      "cell_type": "markdown",
      "metadata": {
        "id": "BF8IeH3UW9YF"
      },
      "source": [
        "## 2.2 Tách tập\n"
      ]
    },
    {
      "cell_type": "code",
      "metadata": {
        "id": "dZrhgg7LkC8D"
      },
      "source": [
        "data_X = data_df.drop('SalePrice', axis=1)\n",
        "data_y = data_df['SalePrice']"
      ],
      "execution_count": null,
      "outputs": []
    },
    {
      "cell_type": "code",
      "metadata": {
        "colab": {
          "base_uri": "https://localhost:8080/"
        },
        "id": "ITk7AcLoPIhu",
        "outputId": "9e765605-10c1-47db-a3f8-58f07f029ae9"
      },
      "source": [
        "train_X, val_X, train_y, val_y = train_test_split(data_X, data_y,test_size=0.3)\n",
        "train_X.shape, val_X.shape"
      ],
      "execution_count": null,
      "outputs": [
        {
          "output_type": "execute_result",
          "data": {
            "text/plain": [
              "((1022, 89), (438, 89))"
            ]
          },
          "metadata": {
            "tags": []
          },
          "execution_count": 25
        }
      ]
    },
    {
      "cell_type": "markdown",
      "metadata": {
        "id": "l9M29Fs4hlgN"
      },
      "source": [
        "## 2.3 Xây dựng pipeline"
      ]
    },
    {
      "cell_type": "code",
      "metadata": {
        "id": "1SQhRN1vvRE-"
      },
      "source": [
        "mul_cols = ['Condition1', 'Condition2', 'Exterior1st', 'Exterior2nd', 'BsmtFinType1', 'BsmtFinType2']\n",
        "for col in mul_cols:\n",
        "  cat_cols.remove(col)"
      ],
      "execution_count": null,
      "outputs": []
    },
    {
      "cell_type": "markdown",
      "metadata": {
        "id": "y1HIlYNAhpAS"
      },
      "source": [
        "Onehot cho dữ liệu categorical"
      ]
    },
    {
      "cell_type": "code",
      "metadata": {
        "id": "Pf5ooMf2jROG"
      },
      "source": [
        "class OneHotEncoderM(TransformerMixin):\n",
        "    def __init__(self, *args, **kwargs):\n",
        "      self.dummy_value = 'MissingValue'\n",
        "      self.imputer = SimpleImputer(strategy='constant', fill_value=self.dummy_value)\n",
        "      self.encoder = OneHotEncoder(*args, **kwargs)\n",
        "\n",
        "    def fit(self, x, y=0):\n",
        "      self.encoder.fit(self.imputer.fit_transform(x))\n",
        "      # Remove dummy value from dict\n",
        "      self.encoder.categories_ = [arr[arr != self.dummy_value] for arr in self.encoder.categories_]\n",
        "      return self\n",
        "      \n",
        "    def transform(self, x, y=0):\n",
        "      return self.encoder.transform(x)\n",
        "\n",
        "categorical_transformer = Pipeline(steps=[\n",
        "    ('imputer', SimpleImputer(strategy='constant', fill_value='MissingValue')),\n",
        "    ('onehot', OneHotEncoder(handle_unknown='ignore', sparse=False))\n",
        "])"
      ],
      "execution_count": null,
      "outputs": []
    },
    {
      "cell_type": "markdown",
      "metadata": {
        "id": "WcvLqBHjxXVg"
      },
      "source": [
        "Onehot đặc biệt cho cột dạng multiple choice"
      ]
    },
    {
      "cell_type": "code",
      "metadata": {
        "id": "ar6Jk8HVxK8y"
      },
      "source": [
        "class MultiHotEncoder(TransformerMixin):\n",
        "    def __init__(self, *args, **kwargs):\n",
        "      self.dummy_value = 'zzMissingzz'\n",
        "      self.encoder = MultiLabelBinarizer(*args, **kwargs)\n",
        "\n",
        "    def fit(self, x, y=0):\n",
        "      self.encoder.fit(x.fillna(self.dummy_value).values)\n",
        "      # Remove dummy value from dict\n",
        "      self.encoder.classes_ = self.encoder.classes_[self.encoder.classes_ != self.dummy_value]\n",
        "      # Remove cached value\n",
        "      self.encoder._cached_dict = None\n",
        "      return self\n",
        "      \n",
        "    def transform(self, x, y=0):\n",
        "      return self.encoder.transform(x.values)\n",
        "\n",
        "multilabel_transformer =  Pipeline(steps=[\n",
        "    ('multilabel',MultiHotEncoder())\n",
        "])"
      ],
      "execution_count": null,
      "outputs": []
    },
    {
      "cell_type": "markdown",
      "metadata": {
        "id": "w7Oj0j3jxpNI"
      },
      "source": [
        "Fill dữ liệu thiếu bằng mean cho numeric"
      ]
    },
    {
      "cell_type": "code",
      "metadata": {
        "id": "k1bPjJVUjUZg"
      },
      "source": [
        "numeric_transformer = Pipeline(steps=[\n",
        "    ('imputer', SimpleImputer(strategy='mean'))\n",
        "])"
      ],
      "execution_count": null,
      "outputs": []
    },
    {
      "cell_type": "code",
      "metadata": {
        "id": "T3WPCEuVh8H1"
      },
      "source": [
        "preprocessor = ColumnTransformer(\n",
        "    transformers=[\n",
        "        ('numeric', numeric_transformer, num_cols),\n",
        "        ('multi_label', multilabel_transformer, mul_cols),\n",
        "        ('categorical', categorical_transformer, cat_cols)\n",
        "        ])\n",
        "\n",
        "preprocess_pipeline=Pipeline(steps=[('preprocessor', preprocessor)])\n",
        "#,\n",
        "#                                   ('scaler', StandardScaler(with_mean=True,with_std=True))])"
      ],
      "execution_count": null,
      "outputs": []
    },
    {
      "cell_type": "markdown",
      "metadata": {
        "id": "bA8spfFvP6Pw"
      },
      "source": [
        "# 3.Mô hình hóa"
      ]
    },
    {
      "cell_type": "markdown",
      "metadata": {
        "id": "uAFEOHrrYRPI"
      },
      "source": [
        "## 3.1 Thử nghiệm các mô hình"
      ]
    },
    {
      "cell_type": "markdown",
      "metadata": {
        "id": "C64LPAHEZdsa"
      },
      "source": [
        "#### Hàm thống kê độ lỗi"
      ]
    },
    {
      "cell_type": "code",
      "metadata": {
        "id": "duqi6xZyXgZ5",
        "cellView": "form"
      },
      "source": [
        "#@title Hàm RSMLE\n",
        "def root_MSLE(y_true, y_pred):\n",
        "  _y_pred = y_pred\n",
        "  _y_pred[_y_pred < 0] = 0\n",
        "  return mean_squared_log_error(y_true, _y_pred)**(1/2)"
      ],
      "execution_count": null,
      "outputs": []
    },
    {
      "cell_type": "code",
      "metadata": {
        "id": "xJETjJiK3_9t",
        "cellView": "form"
      },
      "source": [
        "#@title Hàm thống kê độ lỗi\n",
        "def error_stats(y, y_pred):\n",
        "  df = pd.DataFrame({'Actual': np.expm1(y), 'Predicted':np.expm1(y_pred)})\n",
        "  df['Absolute Error']=df['Actual']-df['Predicted']\n",
        "  df['Relative Error']=(abs(df['Absolute Error'])/df['Actual'])*100\n",
        "  MAPE = np.round(df['Relative Error'].mean(), 4)\n",
        "  RMSLE = root_MSLE(np.expm1(y), np.expm1(y_pred))\n",
        "  return (df, MAPE, RMSLE)"
      ],
      "execution_count": null,
      "outputs": []
    },
    {
      "cell_type": "code",
      "metadata": {
        "id": "8GexwTdMB5mn",
        "cellView": "form"
      },
      "source": [
        "#@title Hàm TestModel\n",
        "def TestModel(model):\n",
        "  test_pred = model.predict(test_X)\n",
        "  res_df, MAPE, RMSLE = error_stats(test_y, test_pred)\n",
        "  print(f'RMSLE: {RMSLE}\\n\\\n",
        "  MAPE: {MAPE}')\n",
        "\n",
        "def TestModel_noprep(model, prep_pipe):\n",
        "  p_test_X = prep_pipe.transform(test_X)\n",
        "  test_pred = model.predict(p_test_X)\n",
        "  res_df, MAPE, RMSLE = error_stats(test_y, test_pred)\n",
        "  print(f'RMSLE: {RMSLE}\\n\\\n",
        "  MAPE: {MAPE}')"
      ],
      "execution_count": null,
      "outputs": []
    },
    {
      "cell_type": "markdown",
      "metadata": {
        "id": "xkvGnpSjaTmA"
      },
      "source": [
        "### 3.1.1 Gradient Boosting"
      ]
    },
    {
      "cell_type": "code",
      "metadata": {
        "id": "HNr1CxlRaI2b"
      },
      "source": [
        "loss=['ls','huber']\n",
        "alpha=[0.4,0.5,0.7,0.8,0.9,0.95,0.99]\n",
        "gbr_hyperparam_tuning=pd.DataFrame(columns=['MAPE','RMSLE'])"
      ],
      "execution_count": null,
      "outputs": []
    },
    {
      "cell_type": "code",
      "metadata": {
        "id": "XQg4NIoGaI48",
        "cellView": "form"
      },
      "source": [
        "#@markdown Thử parameter\n",
        "%%capture\n",
        "min=float('inf')\n",
        "for iter_loss in loss:\n",
        "  for iter_alpha in alpha:\n",
        "    gbr = make_pipeline(preprocess_pipeline,\n",
        "                        GradientBoostingRegressor(loss=iter_loss, alpha=iter_alpha, \n",
        "                                max_depth=4, n_estimators=100,random_state=22))\n",
        "    gbr.fit(train_X, train_y)\n",
        "    val_pred = gbr.predict(val_X)\n",
        "    err_df_temp, mrE, RMSE = error_stats(val_y, val_pred)\n",
        "    if RMSE<min:\n",
        "      min=RMSE\n",
        "      err_df=err_df_temp\n",
        "      best_gbr=gbr\n",
        "    gbr_hyperparam_tuning=gbr_hyperparam_tuning.append({'loss':iter_loss,'alpha':iter_alpha,'MAPE':mrE, 'RMSLE':RMSE},ignore_index=True)"
      ],
      "execution_count": null,
      "outputs": []
    },
    {
      "cell_type": "code",
      "metadata": {
        "colab": {
          "base_uri": "https://localhost:8080/",
          "height": 483
        },
        "id": "4hT4zeQAaI7d",
        "outputId": "9eed3273-f9e6-43e2-e9f2-43e748d54b18"
      },
      "source": [
        "gbr_hyperparam_tuning"
      ],
      "execution_count": null,
      "outputs": [
        {
          "output_type": "execute_result",
          "data": {
            "text/html": [
              "<div>\n",
              "<style scoped>\n",
              "    .dataframe tbody tr th:only-of-type {\n",
              "        vertical-align: middle;\n",
              "    }\n",
              "\n",
              "    .dataframe tbody tr th {\n",
              "        vertical-align: top;\n",
              "    }\n",
              "\n",
              "    .dataframe thead th {\n",
              "        text-align: right;\n",
              "    }\n",
              "</style>\n",
              "<table border=\"1\" class=\"dataframe\">\n",
              "  <thead>\n",
              "    <tr style=\"text-align: right;\">\n",
              "      <th></th>\n",
              "      <th>MAPE</th>\n",
              "      <th>RMSLE</th>\n",
              "      <th>alpha</th>\n",
              "      <th>loss</th>\n",
              "    </tr>\n",
              "  </thead>\n",
              "  <tbody>\n",
              "    <tr>\n",
              "      <th>0</th>\n",
              "      <td>9.7915</td>\n",
              "      <td>0.141879</td>\n",
              "      <td>0.40</td>\n",
              "      <td>ls</td>\n",
              "    </tr>\n",
              "    <tr>\n",
              "      <th>1</th>\n",
              "      <td>9.7915</td>\n",
              "      <td>0.141879</td>\n",
              "      <td>0.50</td>\n",
              "      <td>ls</td>\n",
              "    </tr>\n",
              "    <tr>\n",
              "      <th>2</th>\n",
              "      <td>9.7915</td>\n",
              "      <td>0.141879</td>\n",
              "      <td>0.70</td>\n",
              "      <td>ls</td>\n",
              "    </tr>\n",
              "    <tr>\n",
              "      <th>3</th>\n",
              "      <td>9.7915</td>\n",
              "      <td>0.141879</td>\n",
              "      <td>0.80</td>\n",
              "      <td>ls</td>\n",
              "    </tr>\n",
              "    <tr>\n",
              "      <th>4</th>\n",
              "      <td>9.7915</td>\n",
              "      <td>0.141879</td>\n",
              "      <td>0.90</td>\n",
              "      <td>ls</td>\n",
              "    </tr>\n",
              "    <tr>\n",
              "      <th>5</th>\n",
              "      <td>9.7915</td>\n",
              "      <td>0.141879</td>\n",
              "      <td>0.95</td>\n",
              "      <td>ls</td>\n",
              "    </tr>\n",
              "    <tr>\n",
              "      <th>6</th>\n",
              "      <td>9.7915</td>\n",
              "      <td>0.141879</td>\n",
              "      <td>0.99</td>\n",
              "      <td>ls</td>\n",
              "    </tr>\n",
              "    <tr>\n",
              "      <th>7</th>\n",
              "      <td>10.4819</td>\n",
              "      <td>0.153532</td>\n",
              "      <td>0.40</td>\n",
              "      <td>huber</td>\n",
              "    </tr>\n",
              "    <tr>\n",
              "      <th>8</th>\n",
              "      <td>10.5157</td>\n",
              "      <td>0.153132</td>\n",
              "      <td>0.50</td>\n",
              "      <td>huber</td>\n",
              "    </tr>\n",
              "    <tr>\n",
              "      <th>9</th>\n",
              "      <td>10.3411</td>\n",
              "      <td>0.150458</td>\n",
              "      <td>0.70</td>\n",
              "      <td>huber</td>\n",
              "    </tr>\n",
              "    <tr>\n",
              "      <th>10</th>\n",
              "      <td>9.6839</td>\n",
              "      <td>0.140117</td>\n",
              "      <td>0.80</td>\n",
              "      <td>huber</td>\n",
              "    </tr>\n",
              "    <tr>\n",
              "      <th>11</th>\n",
              "      <td>9.6068</td>\n",
              "      <td>0.140874</td>\n",
              "      <td>0.90</td>\n",
              "      <td>huber</td>\n",
              "    </tr>\n",
              "    <tr>\n",
              "      <th>12</th>\n",
              "      <td>9.7091</td>\n",
              "      <td>0.140362</td>\n",
              "      <td>0.95</td>\n",
              "      <td>huber</td>\n",
              "    </tr>\n",
              "    <tr>\n",
              "      <th>13</th>\n",
              "      <td>9.6792</td>\n",
              "      <td>0.140515</td>\n",
              "      <td>0.99</td>\n",
              "      <td>huber</td>\n",
              "    </tr>\n",
              "  </tbody>\n",
              "</table>\n",
              "</div>"
            ],
            "text/plain": [
              "       MAPE     RMSLE  alpha   loss\n",
              "0    9.7915  0.141879   0.40     ls\n",
              "1    9.7915  0.141879   0.50     ls\n",
              "2    9.7915  0.141879   0.70     ls\n",
              "3    9.7915  0.141879   0.80     ls\n",
              "4    9.7915  0.141879   0.90     ls\n",
              "5    9.7915  0.141879   0.95     ls\n",
              "6    9.7915  0.141879   0.99     ls\n",
              "7   10.4819  0.153532   0.40  huber\n",
              "8   10.5157  0.153132   0.50  huber\n",
              "9   10.3411  0.150458   0.70  huber\n",
              "10   9.6839  0.140117   0.80  huber\n",
              "11   9.6068  0.140874   0.90  huber\n",
              "12   9.7091  0.140362   0.95  huber\n",
              "13   9.6792  0.140515   0.99  huber"
            ]
          },
          "metadata": {
            "tags": []
          },
          "execution_count": 36
        }
      ]
    },
    {
      "cell_type": "code",
      "metadata": {
        "colab": {
          "base_uri": "https://localhost:8080/",
          "height": 303
        },
        "id": "guzPA4CfjK4_",
        "outputId": "0405447b-b06b-48ab-f951-d37a48cee2a3"
      },
      "source": [
        "print(\"Mô hình cho RMSE nhỏ nhất với alpha=0.8 và loss='huber'.\\nĐối với tập valuation:\")\n",
        "print(f\"Độ sai tương đối trung bình: {gbr_hyperparam_tuning['MAPE'].iloc[10]} %\")\n",
        "print(f\"RMSE: {gbr_hyperparam_tuning['RMSLE'].iloc[10]}\")\n",
        "err_df.head()"
      ],
      "execution_count": null,
      "outputs": [
        {
          "output_type": "stream",
          "text": [
            "Mô hình cho RMSE nhỏ nhất với alpha=0.8 và loss='huber'.\n",
            "Đối với tập valuation:\n",
            "Độ sai tương đối trung bình: 9.6839 %\n",
            "RMSE: 0.140116826566477\n"
          ],
          "name": "stdout"
        },
        {
          "output_type": "execute_result",
          "data": {
            "text/html": [
              "<div>\n",
              "<style scoped>\n",
              "    .dataframe tbody tr th:only-of-type {\n",
              "        vertical-align: middle;\n",
              "    }\n",
              "\n",
              "    .dataframe tbody tr th {\n",
              "        vertical-align: top;\n",
              "    }\n",
              "\n",
              "    .dataframe thead th {\n",
              "        text-align: right;\n",
              "    }\n",
              "</style>\n",
              "<table border=\"1\" class=\"dataframe\">\n",
              "  <thead>\n",
              "    <tr style=\"text-align: right;\">\n",
              "      <th></th>\n",
              "      <th>Actual</th>\n",
              "      <th>Predicted</th>\n",
              "      <th>Absolute Error</th>\n",
              "      <th>Relative Error</th>\n",
              "    </tr>\n",
              "    <tr>\n",
              "      <th>Id</th>\n",
              "      <th></th>\n",
              "      <th></th>\n",
              "      <th></th>\n",
              "      <th></th>\n",
              "    </tr>\n",
              "  </thead>\n",
              "  <tbody>\n",
              "    <tr>\n",
              "      <th>259</th>\n",
              "      <td>231500.0</td>\n",
              "      <td>200595.427808</td>\n",
              "      <td>30904.572192</td>\n",
              "      <td>13.349707</td>\n",
              "    </tr>\n",
              "    <tr>\n",
              "      <th>268</th>\n",
              "      <td>179500.0</td>\n",
              "      <td>164710.314046</td>\n",
              "      <td>14789.685954</td>\n",
              "      <td>8.239379</td>\n",
              "    </tr>\n",
              "    <tr>\n",
              "      <th>289</th>\n",
              "      <td>122000.0</td>\n",
              "      <td>118621.198555</td>\n",
              "      <td>3378.801445</td>\n",
              "      <td>2.769509</td>\n",
              "    </tr>\n",
              "    <tr>\n",
              "      <th>650</th>\n",
              "      <td>84500.0</td>\n",
              "      <td>78293.283609</td>\n",
              "      <td>6206.716391</td>\n",
              "      <td>7.345226</td>\n",
              "    </tr>\n",
              "    <tr>\n",
              "      <th>1234</th>\n",
              "      <td>142000.0</td>\n",
              "      <td>144902.819264</td>\n",
              "      <td>-2902.819264</td>\n",
              "      <td>2.044239</td>\n",
              "    </tr>\n",
              "  </tbody>\n",
              "</table>\n",
              "</div>"
            ],
            "text/plain": [
              "        Actual      Predicted  Absolute Error  Relative Error\n",
              "Id                                                           \n",
              "259   231500.0  200595.427808    30904.572192       13.349707\n",
              "268   179500.0  164710.314046    14789.685954        8.239379\n",
              "289   122000.0  118621.198555     3378.801445        2.769509\n",
              "650    84500.0   78293.283609     6206.716391        7.345226\n",
              "1234  142000.0  144902.819264    -2902.819264        2.044239"
            ]
          },
          "metadata": {
            "tags": []
          },
          "execution_count": 37
        }
      ]
    },
    {
      "cell_type": "code",
      "metadata": {
        "colab": {
          "base_uri": "https://localhost:8080/"
        },
        "id": "dLKUXs-IHEhV",
        "outputId": "7135e004-b8fc-4b13-e36c-f4ec065b9faf"
      },
      "source": [
        "best_gbr.fit(data_X, data_y)\n",
        "TestModel(best_gbr)"
      ],
      "execution_count": null,
      "outputs": [
        {
          "output_type": "stream",
          "text": [
            "RMSLE: 0.13300378005590377\n",
            "  MAPE: 8.9856\n"
          ],
          "name": "stdout"
        }
      ]
    },
    {
      "cell_type": "code",
      "metadata": {
        "id": "Pk_jLYnnLg6n"
      },
      "source": [
        "df=pd.DataFrame({'SalePrice':np.expm1(best_gbr.predict(test_X))})\n",
        "df.index+=1461\n",
        "df.reset_index(inplace=True)\n",
        "df.rename({'index':'Id'},inplace=True,axis=1)\n",
        "df.to_csv('gbr_final.csv',index=False)"
      ],
      "execution_count": null,
      "outputs": []
    },
    {
      "cell_type": "markdown",
      "metadata": {
        "id": "ylZi1ot-kNJs"
      },
      "source": [
        "### 3.1.2 Ridge"
      ]
    },
    {
      "cell_type": "code",
      "metadata": {
        "id": "gRaUag8MvMl5"
      },
      "source": [
        "alphas = [0.05, 0.1, 0.3, 1, 3, 5, 10, 15, 30, 50, 75]\n",
        "solver = [\"auto\", \"svd\", \"cholesky\", \"lsqr\", \"sparse_cg\", \"sag\", \"saga\"]\n",
        "ridge_hyperparam_tuning=pd.DataFrame(columns=['MAPE','RMSLE'])"
      ],
      "execution_count": null,
      "outputs": []
    },
    {
      "cell_type": "code",
      "metadata": {
        "id": "7ZONCF61aJEt",
        "cellView": "form"
      },
      "source": [
        "#@markdown Thử parameter\n",
        "%%capture\n",
        "min=float('inf')\n",
        "for solv in solver:\n",
        "  for iter_alpha in alphas:\n",
        "    ridge = make_pipeline(preprocess_pipeline,\n",
        "                          Ridge(alpha=iter_alpha,tol=0.1,normalize=True,solver=solv))\n",
        "    ridge.fit(train_X, train_y)\n",
        "    val_pred = ridge.predict(val_X)\n",
        "    err_df_temp, mrE, RMSE = error_stats(val_y, val_pred)\n",
        "    if RMSE<min:\n",
        "      best_solver=solv\n",
        "      best_alpha=iter_alpha\n",
        "      min=RMSE\n",
        "      err_df=err_df_temp\n",
        "      best_ridge=ridge\n",
        "    ridge_hyperparam_tuning = ridge_hyperparam_tuning.append({'solver':solv,'alpha':iter_alpha,'MAPE':mrE, 'RMSLE':RMSE},ignore_index=True)"
      ],
      "execution_count": null,
      "outputs": []
    },
    {
      "cell_type": "code",
      "metadata": {
        "id": "oqOJ5vaxvzCN",
        "colab": {
          "base_uri": "https://localhost:8080/",
          "height": 669
        },
        "outputId": "dd9a5cdd-3ef9-45f4-eba2-a94bbfd05542"
      },
      "source": [
        "ridge_hyperparam_tuning.iloc[0:20]"
      ],
      "execution_count": null,
      "outputs": [
        {
          "output_type": "execute_result",
          "data": {
            "text/html": [
              "<div>\n",
              "<style scoped>\n",
              "    .dataframe tbody tr th:only-of-type {\n",
              "        vertical-align: middle;\n",
              "    }\n",
              "\n",
              "    .dataframe tbody tr th {\n",
              "        vertical-align: top;\n",
              "    }\n",
              "\n",
              "    .dataframe thead th {\n",
              "        text-align: right;\n",
              "    }\n",
              "</style>\n",
              "<table border=\"1\" class=\"dataframe\">\n",
              "  <thead>\n",
              "    <tr style=\"text-align: right;\">\n",
              "      <th></th>\n",
              "      <th>MAPE</th>\n",
              "      <th>RMSLE</th>\n",
              "      <th>alpha</th>\n",
              "      <th>solver</th>\n",
              "    </tr>\n",
              "  </thead>\n",
              "  <tbody>\n",
              "    <tr>\n",
              "      <th>0</th>\n",
              "      <td>9.7477</td>\n",
              "      <td>0.133193</td>\n",
              "      <td>0.05</td>\n",
              "      <td>auto</td>\n",
              "    </tr>\n",
              "    <tr>\n",
              "      <th>1</th>\n",
              "      <td>9.8142</td>\n",
              "      <td>0.134210</td>\n",
              "      <td>0.10</td>\n",
              "      <td>auto</td>\n",
              "    </tr>\n",
              "    <tr>\n",
              "      <th>2</th>\n",
              "      <td>10.0802</td>\n",
              "      <td>0.138480</td>\n",
              "      <td>0.30</td>\n",
              "      <td>auto</td>\n",
              "    </tr>\n",
              "    <tr>\n",
              "      <th>3</th>\n",
              "      <td>10.8642</td>\n",
              "      <td>0.150849</td>\n",
              "      <td>1.00</td>\n",
              "      <td>auto</td>\n",
              "    </tr>\n",
              "    <tr>\n",
              "      <th>4</th>\n",
              "      <td>12.7309</td>\n",
              "      <td>0.177566</td>\n",
              "      <td>3.00</td>\n",
              "      <td>auto</td>\n",
              "    </tr>\n",
              "    <tr>\n",
              "      <th>5</th>\n",
              "      <td>14.3530</td>\n",
              "      <td>0.198954</td>\n",
              "      <td>5.00</td>\n",
              "      <td>auto</td>\n",
              "    </tr>\n",
              "    <tr>\n",
              "      <th>6</th>\n",
              "      <td>17.6716</td>\n",
              "      <td>0.239318</td>\n",
              "      <td>10.00</td>\n",
              "      <td>auto</td>\n",
              "    </tr>\n",
              "    <tr>\n",
              "      <th>7</th>\n",
              "      <td>20.1418</td>\n",
              "      <td>0.267935</td>\n",
              "      <td>15.00</td>\n",
              "      <td>auto</td>\n",
              "    </tr>\n",
              "    <tr>\n",
              "      <th>8</th>\n",
              "      <td>24.8746</td>\n",
              "      <td>0.319068</td>\n",
              "      <td>30.00</td>\n",
              "      <td>auto</td>\n",
              "    </tr>\n",
              "    <tr>\n",
              "      <th>9</th>\n",
              "      <td>28.1607</td>\n",
              "      <td>0.352821</td>\n",
              "      <td>50.00</td>\n",
              "      <td>auto</td>\n",
              "    </tr>\n",
              "    <tr>\n",
              "      <th>10</th>\n",
              "      <td>30.3688</td>\n",
              "      <td>0.374850</td>\n",
              "      <td>75.00</td>\n",
              "      <td>auto</td>\n",
              "    </tr>\n",
              "    <tr>\n",
              "      <th>11</th>\n",
              "      <td>9.7477</td>\n",
              "      <td>0.133193</td>\n",
              "      <td>0.05</td>\n",
              "      <td>svd</td>\n",
              "    </tr>\n",
              "    <tr>\n",
              "      <th>12</th>\n",
              "      <td>9.8142</td>\n",
              "      <td>0.134210</td>\n",
              "      <td>0.10</td>\n",
              "      <td>svd</td>\n",
              "    </tr>\n",
              "    <tr>\n",
              "      <th>13</th>\n",
              "      <td>10.0802</td>\n",
              "      <td>0.138480</td>\n",
              "      <td>0.30</td>\n",
              "      <td>svd</td>\n",
              "    </tr>\n",
              "    <tr>\n",
              "      <th>14</th>\n",
              "      <td>10.8642</td>\n",
              "      <td>0.150849</td>\n",
              "      <td>1.00</td>\n",
              "      <td>svd</td>\n",
              "    </tr>\n",
              "    <tr>\n",
              "      <th>15</th>\n",
              "      <td>12.7309</td>\n",
              "      <td>0.177566</td>\n",
              "      <td>3.00</td>\n",
              "      <td>svd</td>\n",
              "    </tr>\n",
              "    <tr>\n",
              "      <th>16</th>\n",
              "      <td>14.3530</td>\n",
              "      <td>0.198954</td>\n",
              "      <td>5.00</td>\n",
              "      <td>svd</td>\n",
              "    </tr>\n",
              "    <tr>\n",
              "      <th>17</th>\n",
              "      <td>17.6716</td>\n",
              "      <td>0.239318</td>\n",
              "      <td>10.00</td>\n",
              "      <td>svd</td>\n",
              "    </tr>\n",
              "    <tr>\n",
              "      <th>18</th>\n",
              "      <td>20.1418</td>\n",
              "      <td>0.267935</td>\n",
              "      <td>15.00</td>\n",
              "      <td>svd</td>\n",
              "    </tr>\n",
              "    <tr>\n",
              "      <th>19</th>\n",
              "      <td>24.8746</td>\n",
              "      <td>0.319068</td>\n",
              "      <td>30.00</td>\n",
              "      <td>svd</td>\n",
              "    </tr>\n",
              "  </tbody>\n",
              "</table>\n",
              "</div>"
            ],
            "text/plain": [
              "       MAPE     RMSLE  alpha solver\n",
              "0    9.7477  0.133193   0.05   auto\n",
              "1    9.8142  0.134210   0.10   auto\n",
              "2   10.0802  0.138480   0.30   auto\n",
              "3   10.8642  0.150849   1.00   auto\n",
              "4   12.7309  0.177566   3.00   auto\n",
              "5   14.3530  0.198954   5.00   auto\n",
              "6   17.6716  0.239318  10.00   auto\n",
              "7   20.1418  0.267935  15.00   auto\n",
              "8   24.8746  0.319068  30.00   auto\n",
              "9   28.1607  0.352821  50.00   auto\n",
              "10  30.3688  0.374850  75.00   auto\n",
              "11   9.7477  0.133193   0.05    svd\n",
              "12   9.8142  0.134210   0.10    svd\n",
              "13  10.0802  0.138480   0.30    svd\n",
              "14  10.8642  0.150849   1.00    svd\n",
              "15  12.7309  0.177566   3.00    svd\n",
              "16  14.3530  0.198954   5.00    svd\n",
              "17  17.6716  0.239318  10.00    svd\n",
              "18  20.1418  0.267935  15.00    svd\n",
              "19  24.8746  0.319068  30.00    svd"
            ]
          },
          "metadata": {
            "tags": []
          },
          "execution_count": 42
        }
      ]
    },
    {
      "cell_type": "code",
      "metadata": {
        "id": "i2tBjzntv6r-",
        "colab": {
          "base_uri": "https://localhost:8080/",
          "height": 303
        },
        "outputId": "afd405c5-3e32-43d7-cff3-9df4754cf713"
      },
      "source": [
        "print(\"Mô hình cho RMSE nhỏ nhất với alpha = \",best_alpha,\" và solver = \",best_solver,\".\\nĐối với tập valuation:\")\n",
        "print(f\"Độ sai tương đối trung bình: {ridge_hyperparam_tuning['MAPE'].iloc[11]} %\")\n",
        "print(f\"RMSE: {ridge_hyperparam_tuning['RMSLE'].iloc[11]}\")\n",
        "err_df.head()"
      ],
      "execution_count": null,
      "outputs": [
        {
          "output_type": "stream",
          "text": [
            "Mô hình cho RMSE nhỏ nhất với alpha =  0.05  và solver =  svd .\n",
            "Đối với tập valuation:\n",
            "Độ sai tương đối trung bình: 9.7477 %\n",
            "RMSE: 0.13319348301352998\n"
          ],
          "name": "stdout"
        },
        {
          "output_type": "execute_result",
          "data": {
            "text/html": [
              "<div>\n",
              "<style scoped>\n",
              "    .dataframe tbody tr th:only-of-type {\n",
              "        vertical-align: middle;\n",
              "    }\n",
              "\n",
              "    .dataframe tbody tr th {\n",
              "        vertical-align: top;\n",
              "    }\n",
              "\n",
              "    .dataframe thead th {\n",
              "        text-align: right;\n",
              "    }\n",
              "</style>\n",
              "<table border=\"1\" class=\"dataframe\">\n",
              "  <thead>\n",
              "    <tr style=\"text-align: right;\">\n",
              "      <th></th>\n",
              "      <th>Actual</th>\n",
              "      <th>Predicted</th>\n",
              "      <th>Absolute Error</th>\n",
              "      <th>Relative Error</th>\n",
              "    </tr>\n",
              "    <tr>\n",
              "      <th>Id</th>\n",
              "      <th></th>\n",
              "      <th></th>\n",
              "      <th></th>\n",
              "      <th></th>\n",
              "    </tr>\n",
              "  </thead>\n",
              "  <tbody>\n",
              "    <tr>\n",
              "      <th>259</th>\n",
              "      <td>231500.0</td>\n",
              "      <td>218939.877466</td>\n",
              "      <td>12560.122534</td>\n",
              "      <td>5.425539</td>\n",
              "    </tr>\n",
              "    <tr>\n",
              "      <th>268</th>\n",
              "      <td>179500.0</td>\n",
              "      <td>167847.561361</td>\n",
              "      <td>11652.438639</td>\n",
              "      <td>6.491609</td>\n",
              "    </tr>\n",
              "    <tr>\n",
              "      <th>289</th>\n",
              "      <td>122000.0</td>\n",
              "      <td>111014.286737</td>\n",
              "      <td>10985.713263</td>\n",
              "      <td>9.004683</td>\n",
              "    </tr>\n",
              "    <tr>\n",
              "      <th>650</th>\n",
              "      <td>84500.0</td>\n",
              "      <td>78913.718788</td>\n",
              "      <td>5586.281212</td>\n",
              "      <td>6.610984</td>\n",
              "    </tr>\n",
              "    <tr>\n",
              "      <th>1234</th>\n",
              "      <td>142000.0</td>\n",
              "      <td>130326.322870</td>\n",
              "      <td>11673.677130</td>\n",
              "      <td>8.220899</td>\n",
              "    </tr>\n",
              "  </tbody>\n",
              "</table>\n",
              "</div>"
            ],
            "text/plain": [
              "        Actual      Predicted  Absolute Error  Relative Error\n",
              "Id                                                           \n",
              "259   231500.0  218939.877466    12560.122534        5.425539\n",
              "268   179500.0  167847.561361    11652.438639        6.491609\n",
              "289   122000.0  111014.286737    10985.713263        9.004683\n",
              "650    84500.0   78913.718788     5586.281212        6.610984\n",
              "1234  142000.0  130326.322870    11673.677130        8.220899"
            ]
          },
          "metadata": {
            "tags": []
          },
          "execution_count": 43
        }
      ]
    },
    {
      "cell_type": "code",
      "metadata": {
        "colab": {
          "base_uri": "https://localhost:8080/"
        },
        "id": "mvzhZtwCHU_D",
        "outputId": "12d86db3-c11c-4fde-ef41-019544b34f02"
      },
      "source": [
        "best_ridge.fit(data_X, data_y)\n",
        "TestModel(best_ridge)"
      ],
      "execution_count": null,
      "outputs": [
        {
          "output_type": "stream",
          "text": [
            "RMSLE: 0.13253347205743052\n",
            "  MAPE: 8.7729\n"
          ],
          "name": "stdout"
        }
      ]
    },
    {
      "cell_type": "code",
      "metadata": {
        "id": "6AfvR4a9L6ZG"
      },
      "source": [
        "df=pd.DataFrame({'SalePrice':np.expm1(best_ridge.predict(test_X))})\n",
        "df.index+=1461\n",
        "df.reset_index(inplace=True)\n",
        "df.rename({'index':'Id'},inplace=True,axis=1)\n",
        "df.to_csv('ridge_final.csv',index=False)"
      ],
      "execution_count": null,
      "outputs": []
    },
    {
      "cell_type": "markdown",
      "metadata": {
        "id": "p9f-ywWiwKQy"
      },
      "source": [
        "### 3.1.3 Lasso"
      ]
    },
    {
      "cell_type": "code",
      "metadata": {
        "id": "TOVNsmJtwT2R"
      },
      "source": [
        "alphas = [0.05,0.02,0.01,0.005,0.002,0.001,0.0005,0.0002,0.0001]\n",
        "lasso_hyperparam_tuning=pd.DataFrame(columns=['MAPE','RMSLE'])"
      ],
      "execution_count": null,
      "outputs": []
    },
    {
      "cell_type": "code",
      "metadata": {
        "id": "9rYF7670wT2Y",
        "cellView": "form"
      },
      "source": [
        "#@markdown Thử parameter\n",
        "%%capture\n",
        "min=float('inf')\n",
        "for iter_alpha in alphas:\n",
        "  lasso = make_pipeline(preprocess_pipeline,\n",
        "                        Lasso(alpha=iter_alpha,random_state=22,max_iter=10000,tol=0.01))\n",
        "  lasso.fit(train_X, train_y)\n",
        "  if iter_alpha==0:\n",
        "    linear_regression=lasso\n",
        "  val_pred = lasso.predict(val_X)\n",
        "  err_df_temp, mrE, RMSE = error_stats(val_y, val_pred)\n",
        "  if RMSE<min:\n",
        "    min=RMSE\n",
        "    err_df=err_df_temp\n",
        "    best_lasso=lasso\n",
        "  lasso_hyperparam_tuning = lasso_hyperparam_tuning.append({'alpha':iter_alpha,'MAPE':mrE, 'RMSLE':RMSE},ignore_index=True)"
      ],
      "execution_count": null,
      "outputs": []
    },
    {
      "cell_type": "code",
      "metadata": {
        "id": "3LxFBRSbwT2Z",
        "colab": {
          "base_uri": "https://localhost:8080/",
          "height": 328
        },
        "outputId": "58caf82a-5a82-4317-ad60-00e893bff17a"
      },
      "source": [
        "lasso_hyperparam_tuning"
      ],
      "execution_count": null,
      "outputs": [
        {
          "output_type": "execute_result",
          "data": {
            "text/html": [
              "<div>\n",
              "<style scoped>\n",
              "    .dataframe tbody tr th:only-of-type {\n",
              "        vertical-align: middle;\n",
              "    }\n",
              "\n",
              "    .dataframe tbody tr th {\n",
              "        vertical-align: top;\n",
              "    }\n",
              "\n",
              "    .dataframe thead th {\n",
              "        text-align: right;\n",
              "    }\n",
              "</style>\n",
              "<table border=\"1\" class=\"dataframe\">\n",
              "  <thead>\n",
              "    <tr style=\"text-align: right;\">\n",
              "      <th></th>\n",
              "      <th>MAPE</th>\n",
              "      <th>RMSLE</th>\n",
              "      <th>alpha</th>\n",
              "    </tr>\n",
              "  </thead>\n",
              "  <tbody>\n",
              "    <tr>\n",
              "      <th>0</th>\n",
              "      <td>14.5673</td>\n",
              "      <td>0.194905</td>\n",
              "      <td>0.0500</td>\n",
              "    </tr>\n",
              "    <tr>\n",
              "      <th>1</th>\n",
              "      <td>12.6348</td>\n",
              "      <td>0.173763</td>\n",
              "      <td>0.0200</td>\n",
              "    </tr>\n",
              "    <tr>\n",
              "      <th>2</th>\n",
              "      <td>11.9412</td>\n",
              "      <td>0.165825</td>\n",
              "      <td>0.0100</td>\n",
              "    </tr>\n",
              "    <tr>\n",
              "      <th>3</th>\n",
              "      <td>10.8432</td>\n",
              "      <td>0.151403</td>\n",
              "      <td>0.0050</td>\n",
              "    </tr>\n",
              "    <tr>\n",
              "      <th>4</th>\n",
              "      <td>10.0511</td>\n",
              "      <td>0.141648</td>\n",
              "      <td>0.0020</td>\n",
              "    </tr>\n",
              "    <tr>\n",
              "      <th>5</th>\n",
              "      <td>9.7432</td>\n",
              "      <td>0.138288</td>\n",
              "      <td>0.0010</td>\n",
              "    </tr>\n",
              "    <tr>\n",
              "      <th>6</th>\n",
              "      <td>9.3272</td>\n",
              "      <td>0.132156</td>\n",
              "      <td>0.0005</td>\n",
              "    </tr>\n",
              "    <tr>\n",
              "      <th>7</th>\n",
              "      <td>9.1652</td>\n",
              "      <td>0.127495</td>\n",
              "      <td>0.0002</td>\n",
              "    </tr>\n",
              "    <tr>\n",
              "      <th>8</th>\n",
              "      <td>9.2071</td>\n",
              "      <td>0.127190</td>\n",
              "      <td>0.0001</td>\n",
              "    </tr>\n",
              "  </tbody>\n",
              "</table>\n",
              "</div>"
            ],
            "text/plain": [
              "      MAPE     RMSLE   alpha\n",
              "0  14.5673  0.194905  0.0500\n",
              "1  12.6348  0.173763  0.0200\n",
              "2  11.9412  0.165825  0.0100\n",
              "3  10.8432  0.151403  0.0050\n",
              "4  10.0511  0.141648  0.0020\n",
              "5   9.7432  0.138288  0.0010\n",
              "6   9.3272  0.132156  0.0005\n",
              "7   9.1652  0.127495  0.0002\n",
              "8   9.2071  0.127190  0.0001"
            ]
          },
          "metadata": {
            "tags": []
          },
          "execution_count": 48
        }
      ]
    },
    {
      "cell_type": "code",
      "metadata": {
        "id": "97eF81IxwT2Z",
        "colab": {
          "base_uri": "https://localhost:8080/",
          "height": 303
        },
        "outputId": "2b8c8a38-8aef-4439-8d0b-31e1787bd70d"
      },
      "source": [
        "print(\"Mô hình cho RMSE nhỏ nhất với alpha=0.0001.\\nĐối với tập valuation:\")\n",
        "print(f\"Độ sai tương đối trung bình: {lasso_hyperparam_tuning['MAPE'].iloc[8]} %\")\n",
        "print(f\"RMSE: {lasso_hyperparam_tuning['RMSLE'].iloc[8]}\")\n",
        "err_df.head()"
      ],
      "execution_count": null,
      "outputs": [
        {
          "output_type": "stream",
          "text": [
            "Mô hình cho RMSE nhỏ nhất với alpha=0.0001.\n",
            "Đối với tập valuation:\n",
            "Độ sai tương đối trung bình: 9.2071 %\n",
            "RMSE: 0.12719001286386644\n"
          ],
          "name": "stdout"
        },
        {
          "output_type": "execute_result",
          "data": {
            "text/html": [
              "<div>\n",
              "<style scoped>\n",
              "    .dataframe tbody tr th:only-of-type {\n",
              "        vertical-align: middle;\n",
              "    }\n",
              "\n",
              "    .dataframe tbody tr th {\n",
              "        vertical-align: top;\n",
              "    }\n",
              "\n",
              "    .dataframe thead th {\n",
              "        text-align: right;\n",
              "    }\n",
              "</style>\n",
              "<table border=\"1\" class=\"dataframe\">\n",
              "  <thead>\n",
              "    <tr style=\"text-align: right;\">\n",
              "      <th></th>\n",
              "      <th>Actual</th>\n",
              "      <th>Predicted</th>\n",
              "      <th>Absolute Error</th>\n",
              "      <th>Relative Error</th>\n",
              "    </tr>\n",
              "    <tr>\n",
              "      <th>Id</th>\n",
              "      <th></th>\n",
              "      <th></th>\n",
              "      <th></th>\n",
              "      <th></th>\n",
              "    </tr>\n",
              "  </thead>\n",
              "  <tbody>\n",
              "    <tr>\n",
              "      <th>259</th>\n",
              "      <td>231500.0</td>\n",
              "      <td>215601.236928</td>\n",
              "      <td>15898.763072</td>\n",
              "      <td>6.867716</td>\n",
              "    </tr>\n",
              "    <tr>\n",
              "      <th>268</th>\n",
              "      <td>179500.0</td>\n",
              "      <td>182783.882208</td>\n",
              "      <td>-3283.882208</td>\n",
              "      <td>1.829461</td>\n",
              "    </tr>\n",
              "    <tr>\n",
              "      <th>289</th>\n",
              "      <td>122000.0</td>\n",
              "      <td>111142.373727</td>\n",
              "      <td>10857.626273</td>\n",
              "      <td>8.899694</td>\n",
              "    </tr>\n",
              "    <tr>\n",
              "      <th>650</th>\n",
              "      <td>84500.0</td>\n",
              "      <td>80501.132201</td>\n",
              "      <td>3998.867799</td>\n",
              "      <td>4.732388</td>\n",
              "    </tr>\n",
              "    <tr>\n",
              "      <th>1234</th>\n",
              "      <td>142000.0</td>\n",
              "      <td>127149.748674</td>\n",
              "      <td>14850.251326</td>\n",
              "      <td>10.457923</td>\n",
              "    </tr>\n",
              "  </tbody>\n",
              "</table>\n",
              "</div>"
            ],
            "text/plain": [
              "        Actual      Predicted  Absolute Error  Relative Error\n",
              "Id                                                           \n",
              "259   231500.0  215601.236928    15898.763072        6.867716\n",
              "268   179500.0  182783.882208    -3283.882208        1.829461\n",
              "289   122000.0  111142.373727    10857.626273        8.899694\n",
              "650    84500.0   80501.132201     3998.867799        4.732388\n",
              "1234  142000.0  127149.748674    14850.251326       10.457923"
            ]
          },
          "metadata": {
            "tags": []
          },
          "execution_count": 49
        }
      ]
    },
    {
      "cell_type": "code",
      "metadata": {
        "id": "NQlhLgovSeUU",
        "colab": {
          "base_uri": "https://localhost:8080/"
        },
        "outputId": "412799df-c7dd-4ffc-bcf1-6fefdf0aa543"
      },
      "source": [
        "best_lasso.fit(data_X, data_y)\n",
        "TestModel(best_lasso)"
      ],
      "execution_count": null,
      "outputs": [
        {
          "output_type": "stream",
          "text": [
            "RMSLE: 0.12856391402579997\n",
            "  MAPE: 8.4267\n"
          ],
          "name": "stdout"
        }
      ]
    },
    {
      "cell_type": "code",
      "metadata": {
        "id": "nXmswPCTL-qF"
      },
      "source": [
        "df=pd.DataFrame({'SalePrice':np.expm1(best_lasso.predict(test_X))})\n",
        "df.index+=1461\n",
        "df.reset_index(inplace=True)\n",
        "df.rename({'index':'Id'},inplace=True,axis=1)\n",
        "df.to_csv('lasso_final.csv',index=False)"
      ],
      "execution_count": null,
      "outputs": []
    },
    {
      "cell_type": "markdown",
      "metadata": {
        "id": "AyIqNzpY2bIl"
      },
      "source": [
        "### 3.1.4 XGB"
      ]
    },
    {
      "cell_type": "code",
      "metadata": {
        "id": "n0Wo4tuQ2kYG"
      },
      "source": [
        "lns = [0.5, 0.2, 0.1, 0.05, 0.02, 0.01, 0.005]\n",
        "xgb_hyperparam_tuning=pd.DataFrame(columns=['MAPE','RMSLE'])"
      ],
      "execution_count": null,
      "outputs": []
    },
    {
      "cell_type": "code",
      "metadata": {
        "id": "n9HCN8ZIVBkg"
      },
      "source": [
        "p_train_X = preprocess_pipeline.fit_transform(train_X)\n",
        "p_val_X = preprocess_pipeline.transform(val_X)\n",
        "p_test_X = preprocess_pipeline.transform(test_X)"
      ],
      "execution_count": null,
      "outputs": []
    },
    {
      "cell_type": "code",
      "metadata": {
        "id": "dyjJPDw52kYO",
        "cellView": "form"
      },
      "source": [
        "#@markdown Thử parameter\n",
        "min=float('inf')\n",
        "for iter_ln in lns:\n",
        "  my_model = xgb.XGBRegressor(n_estimators=1000,learning_rate=iter_ln,random_state=22,objective='reg:squarederror',max_depth=2)\n",
        "  my_model.fit(p_train_X, train_y, early_stopping_rounds=100, \n",
        "             eval_set=[(p_val_X, val_y)],verbose=False)\n",
        "  val_pred = my_model.predict(p_val_X)\n",
        "  err_df_temp, mrE, RMSE = error_stats(val_y, val_pred)\n",
        "  if RMSE<min:\n",
        "    min=RMSE\n",
        "    err_df=err_df_temp\n",
        "    best_xgb=my_model\n",
        "  xgb_hyperparam_tuning = xgb_hyperparam_tuning.append({'learning_rates':iter_ln,'MAPE':mrE, 'RMSLE':RMSE},ignore_index=True)"
      ],
      "execution_count": null,
      "outputs": []
    },
    {
      "cell_type": "code",
      "metadata": {
        "id": "rIbNhH5XagZh",
        "colab": {
          "base_uri": "https://localhost:8080/",
          "height": 266
        },
        "outputId": "0f20d147-234d-4833-9b5f-000fb499c49c"
      },
      "source": [
        "xgb_hyperparam_tuning"
      ],
      "execution_count": null,
      "outputs": [
        {
          "output_type": "execute_result",
          "data": {
            "text/html": [
              "<div>\n",
              "<style scoped>\n",
              "    .dataframe tbody tr th:only-of-type {\n",
              "        vertical-align: middle;\n",
              "    }\n",
              "\n",
              "    .dataframe tbody tr th {\n",
              "        vertical-align: top;\n",
              "    }\n",
              "\n",
              "    .dataframe thead th {\n",
              "        text-align: right;\n",
              "    }\n",
              "</style>\n",
              "<table border=\"1\" class=\"dataframe\">\n",
              "  <thead>\n",
              "    <tr style=\"text-align: right;\">\n",
              "      <th></th>\n",
              "      <th>MAPE</th>\n",
              "      <th>RMSLE</th>\n",
              "      <th>learning_rates</th>\n",
              "    </tr>\n",
              "  </thead>\n",
              "  <tbody>\n",
              "    <tr>\n",
              "      <th>0</th>\n",
              "      <td>10.4234</td>\n",
              "      <td>0.144995</td>\n",
              "      <td>0.500</td>\n",
              "    </tr>\n",
              "    <tr>\n",
              "      <th>1</th>\n",
              "      <td>9.2235</td>\n",
              "      <td>0.131807</td>\n",
              "      <td>0.200</td>\n",
              "    </tr>\n",
              "    <tr>\n",
              "      <th>2</th>\n",
              "      <td>9.3413</td>\n",
              "      <td>0.135771</td>\n",
              "      <td>0.100</td>\n",
              "    </tr>\n",
              "    <tr>\n",
              "      <th>3</th>\n",
              "      <td>9.2893</td>\n",
              "      <td>0.133863</td>\n",
              "      <td>0.050</td>\n",
              "    </tr>\n",
              "    <tr>\n",
              "      <th>4</th>\n",
              "      <td>9.7404</td>\n",
              "      <td>0.139295</td>\n",
              "      <td>0.020</td>\n",
              "    </tr>\n",
              "    <tr>\n",
              "      <th>5</th>\n",
              "      <td>10.4074</td>\n",
              "      <td>0.149440</td>\n",
              "      <td>0.010</td>\n",
              "    </tr>\n",
              "    <tr>\n",
              "      <th>6</th>\n",
              "      <td>13.3124</td>\n",
              "      <td>0.182628</td>\n",
              "      <td>0.005</td>\n",
              "    </tr>\n",
              "  </tbody>\n",
              "</table>\n",
              "</div>"
            ],
            "text/plain": [
              "      MAPE     RMSLE  learning_rates\n",
              "0  10.4234  0.144995           0.500\n",
              "1   9.2235  0.131807           0.200\n",
              "2   9.3413  0.135771           0.100\n",
              "3   9.2893  0.133863           0.050\n",
              "4   9.7404  0.139295           0.020\n",
              "5  10.4074  0.149440           0.010\n",
              "6  13.3124  0.182628           0.005"
            ]
          },
          "metadata": {
            "tags": []
          },
          "execution_count": 55
        }
      ]
    },
    {
      "cell_type": "code",
      "metadata": {
        "id": "_oP9IQa42kYQ",
        "colab": {
          "base_uri": "https://localhost:8080/",
          "height": 303
        },
        "outputId": "59b55d16-ba5b-4198-b2d9-6627561d2e84"
      },
      "source": [
        "print(\"Mô hình cho RMSE nhỏ nhất với learning_rate = 0.2.\\nĐối với tập valuation:\")\n",
        "print(f\"Độ sai tương đối trung bình: {xgb_hyperparam_tuning['MAPE'].iloc[1]} %\")\n",
        "print(f\"RMSE: {xgb_hyperparam_tuning['RMSLE'].iloc[1]}\")\n",
        "err_df.head()"
      ],
      "execution_count": null,
      "outputs": [
        {
          "output_type": "stream",
          "text": [
            "Mô hình cho RMSE nhỏ nhất với learning_rate = 0.2.\n",
            "Đối với tập valuation:\n",
            "Độ sai tương đối trung bình: 9.2235 %\n",
            "RMSE: 0.13180672366593446\n"
          ],
          "name": "stdout"
        },
        {
          "output_type": "execute_result",
          "data": {
            "text/html": [
              "<div>\n",
              "<style scoped>\n",
              "    .dataframe tbody tr th:only-of-type {\n",
              "        vertical-align: middle;\n",
              "    }\n",
              "\n",
              "    .dataframe tbody tr th {\n",
              "        vertical-align: top;\n",
              "    }\n",
              "\n",
              "    .dataframe thead th {\n",
              "        text-align: right;\n",
              "    }\n",
              "</style>\n",
              "<table border=\"1\" class=\"dataframe\">\n",
              "  <thead>\n",
              "    <tr style=\"text-align: right;\">\n",
              "      <th></th>\n",
              "      <th>Actual</th>\n",
              "      <th>Predicted</th>\n",
              "      <th>Absolute Error</th>\n",
              "      <th>Relative Error</th>\n",
              "    </tr>\n",
              "    <tr>\n",
              "      <th>Id</th>\n",
              "      <th></th>\n",
              "      <th></th>\n",
              "      <th></th>\n",
              "      <th></th>\n",
              "    </tr>\n",
              "  </thead>\n",
              "  <tbody>\n",
              "    <tr>\n",
              "      <th>259</th>\n",
              "      <td>231500.0</td>\n",
              "      <td>204249.468750</td>\n",
              "      <td>27250.531250</td>\n",
              "      <td>11.771288</td>\n",
              "    </tr>\n",
              "    <tr>\n",
              "      <th>268</th>\n",
              "      <td>179500.0</td>\n",
              "      <td>180854.812500</td>\n",
              "      <td>-1354.812500</td>\n",
              "      <td>0.754770</td>\n",
              "    </tr>\n",
              "    <tr>\n",
              "      <th>289</th>\n",
              "      <td>122000.0</td>\n",
              "      <td>119965.320312</td>\n",
              "      <td>2034.679688</td>\n",
              "      <td>1.667770</td>\n",
              "    </tr>\n",
              "    <tr>\n",
              "      <th>650</th>\n",
              "      <td>84500.0</td>\n",
              "      <td>74420.609375</td>\n",
              "      <td>10079.390625</td>\n",
              "      <td>11.928273</td>\n",
              "    </tr>\n",
              "    <tr>\n",
              "      <th>1234</th>\n",
              "      <td>142000.0</td>\n",
              "      <td>137286.562500</td>\n",
              "      <td>4713.437500</td>\n",
              "      <td>3.319322</td>\n",
              "    </tr>\n",
              "  </tbody>\n",
              "</table>\n",
              "</div>"
            ],
            "text/plain": [
              "        Actual      Predicted  Absolute Error  Relative Error\n",
              "Id                                                           \n",
              "259   231500.0  204249.468750    27250.531250       11.771288\n",
              "268   179500.0  180854.812500    -1354.812500        0.754770\n",
              "289   122000.0  119965.320312     2034.679688        1.667770\n",
              "650    84500.0   74420.609375    10079.390625       11.928273\n",
              "1234  142000.0  137286.562500     4713.437500        3.319322"
            ]
          },
          "metadata": {
            "tags": []
          },
          "execution_count": 56
        }
      ]
    },
    {
      "cell_type": "code",
      "metadata": {
        "colab": {
          "base_uri": "https://localhost:8080/"
        },
        "id": "E2khMVekTPMO",
        "outputId": "d15bf743-d8c4-42e7-989e-f421afa22a8f"
      },
      "source": [
        "best_xgb.fit(np.append(p_train_X,p_val_X,axis=0), np.append(train_y,val_y,axis=0))\n",
        "TestModel_noprep(best_xgb, preprocess_pipeline)"
      ],
      "execution_count": null,
      "outputs": [
        {
          "output_type": "stream",
          "text": [
            "RMSLE: 0.13641325962154832\n",
            "  MAPE: 8.8793\n"
          ],
          "name": "stdout"
        }
      ]
    },
    {
      "cell_type": "code",
      "metadata": {
        "id": "TJD9v-XDMMUe"
      },
      "source": [
        "df=pd.DataFrame({'SalePrice':np.expm1(best_xgb.predict(preprocess_pipeline.transform(test_X)))})\n",
        "df.index+=1461\n",
        "df.reset_index(inplace=True)\n",
        "df.rename({'index':'Id'},inplace=True,axis=1)\n",
        "df.to_csv('xgb_final.csv',index=False)"
      ],
      "execution_count": null,
      "outputs": []
    },
    {
      "cell_type": "markdown",
      "metadata": {
        "id": "vCYvKtNkAE9F"
      },
      "source": [
        "### 3.1.5 RidgeCV"
      ]
    },
    {
      "cell_type": "code",
      "metadata": {
        "id": "kYb8v4iE_vrw"
      },
      "source": [
        "best_ridge_cv=make_pipeline(preprocess_pipeline,\n",
        "                            RidgeCV(alphas=[0.05, 0.1, 0.3, 1, 3, 5, 10, 15, 30, 50, 75],normalize=True,scoring=\"neg_mean_squared_error\", cv = 5))"
      ],
      "execution_count": null,
      "outputs": []
    },
    {
      "cell_type": "code",
      "metadata": {
        "colab": {
          "base_uri": "https://localhost:8080/"
        },
        "id": "J7Rr8p09_v9G",
        "outputId": "3724fe85-00ee-43b6-dcb8-b983bebe4932"
      },
      "source": [
        "best_ridge_cv.fit(data_X, data_y)\n",
        "TestModel(best_ridge_cv)"
      ],
      "execution_count": null,
      "outputs": [
        {
          "output_type": "stream",
          "text": [
            "RMSLE: 0.13277257821084065\n",
            "  MAPE: 8.8637\n"
          ],
          "name": "stdout"
        }
      ]
    },
    {
      "cell_type": "markdown",
      "metadata": {
        "id": "tnJ-pWSPCO3J"
      },
      "source": [
        "### 3.1.6 LassoCV\n"
      ]
    },
    {
      "cell_type": "code",
      "metadata": {
        "id": "Ayd75FGaCSEG"
      },
      "source": [
        "best_lasso_cv=make_pipeline(preprocess_pipeline,\n",
        "                            LassoCV(cv=5,alphas=[0.05,0.02,0.01,0.005,0.002,0.001,0.0005,0.0002,0.0001],tol=0.01,max_iter=10000))"
      ],
      "execution_count": null,
      "outputs": []
    },
    {
      "cell_type": "code",
      "metadata": {
        "colab": {
          "base_uri": "https://localhost:8080/"
        },
        "id": "abcOKABoCSG7",
        "outputId": "d670d019-3693-4f5f-9fb0-dd4c17e44377"
      },
      "source": [
        "best_lasso_cv.fit(data_X, data_y)\n",
        "TestModel(best_lasso_cv)"
      ],
      "execution_count": null,
      "outputs": [
        {
          "output_type": "stream",
          "text": [
            "RMSLE: 0.12398249177813596\n",
            "  MAPE: 8.2155\n"
          ],
          "name": "stdout"
        }
      ]
    },
    {
      "cell_type": "markdown",
      "metadata": {
        "id": "KB5Z-HOwgnx-"
      },
      "source": [
        "GBR     = 0.13326\n",
        "\n",
        "Lasso   = 0.12719\n",
        "\n",
        "Ridge   = 0.13319\n",
        "\n",
        "XGB     = 0.13181\n",
        "\n",
        "RidgeCV = 0.13312\n",
        "\n",
        "LassoCV = 0.12398"
      ]
    },
    {
      "cell_type": "markdown",
      "metadata": {
        "id": "VefjuEcanTm3"
      },
      "source": [
        "### 3.1.7 Voting Regressor"
      ]
    },
    {
      "cell_type": "code",
      "metadata": {
        "id": "pyNPi7J7nYzG"
      },
      "source": [
        "voting_reg = VotingRegressor([('gbr', best_gbr), \n",
        "                              ('ridge_cv', best_ridge_cv),\n",
        "                              ('lasso_cv', best_lasso_cv)])"
      ],
      "execution_count": null,
      "outputs": []
    },
    {
      "cell_type": "code",
      "metadata": {
        "colab": {
          "base_uri": "https://localhost:8080/"
        },
        "id": "BRM-kkKBoJyu",
        "outputId": "4ce0192a-90db-46a2-f7c6-e1e1783e9534"
      },
      "source": [
        "voting_reg.fit(data_X, data_y)\n",
        "TestModel(voting_reg)"
      ],
      "execution_count": null,
      "outputs": [
        {
          "output_type": "stream",
          "text": [
            "RMSLE: 0.12212961373237548\n",
            "  MAPE: 7.9454\n"
          ],
          "name": "stdout"
        }
      ]
    },
    {
      "cell_type": "markdown",
      "metadata": {
        "id": "4yNJJdqAoqBj"
      },
      "source": [
        "### 3.1.8 Stacking Regressor"
      ]
    },
    {
      "cell_type": "code",
      "metadata": {
        "id": "BcRrCe0QotGu"
      },
      "source": [
        "estimators = [('gbr', best_gbr), \n",
        "              ('ridge_cv', best_ridge_cv),\n",
        "              ('lasso_cv', best_lasso_cv)]\n",
        "stacking_reg = StackingRegressor(estimators=estimators,\n",
        "                                 final_estimator=GradientBoostingRegressor(loss='huber'))"
      ],
      "execution_count": null,
      "outputs": []
    },
    {
      "cell_type": "code",
      "metadata": {
        "id": "DsBAQsNbpcCf",
        "colab": {
          "base_uri": "https://localhost:8080/"
        },
        "outputId": "e37f21d2-76bd-4b43-9ffd-56d1adda6f10"
      },
      "source": [
        "stacking_reg.fit(data_X, data_y)\n",
        "TestModel(stacking_reg)"
      ],
      "execution_count": null,
      "outputs": [
        {
          "output_type": "stream",
          "text": [
            "RMSLE: 0.11982340418098804\n",
            "  MAPE: 7.8864\n"
          ],
          "name": "stdout"
        }
      ]
    },
    {
      "cell_type": "markdown",
      "metadata": {
        "id": "TgC8dPYpOGWm"
      },
      "source": [
        "# 4. Feature importance"
      ]
    },
    {
      "cell_type": "code",
      "metadata": {
        "id": "MNd6VZYeOIOY"
      },
      "source": [
        "# Đánh giá feature importance\n",
        "from sklearn.inspection import permutation_importance"
      ],
      "execution_count": null,
      "outputs": []
    },
    {
      "cell_type": "code",
      "metadata": {
        "id": "gM0Hie78OWRb"
      },
      "source": [
        "%%capture\n",
        "result = permutation_importance(best_lasso_cv, test_X, test_y, scoring='neg_root_mean_squared_error', n_repeats=20)"
      ],
      "execution_count": null,
      "outputs": []
    },
    {
      "cell_type": "code",
      "metadata": {
        "id": "QhjoCBknOu7u",
        "colab": {
          "base_uri": "https://localhost:8080/",
          "height": 1000
        },
        "outputId": "940904cb-e46c-4d66-c728-2c16ad8a1a3e"
      },
      "source": [
        "sorted_idx = result.importances_mean.argsort()\n",
        "fig = plt.figure(figsize=(12, 20))\n",
        "#plt.subplot(1, 1)\n",
        "plt.boxplot(result.importances[sorted_idx].T,\n",
        "            vert=False, labels=data_X.columns[sorted_idx])\n",
        "plt.title(\"Permutation Importance\")\n",
        "fig.tight_layout()\n",
        "plt.show()"
      ],
      "execution_count": null,
      "outputs": [
        {
          "output_type": "display_data",
          "data": {
            "image/png": "[encoded data removed]",
            "text/plain": [
              "<Figure size 864x1440 with 1 Axes>"
            ]
          },
          "metadata": {
            "tags": [],
            "image/png": {
              "width": 851,
              "height": 1427
            }
          }
        }
      ]
    }
  ]
}